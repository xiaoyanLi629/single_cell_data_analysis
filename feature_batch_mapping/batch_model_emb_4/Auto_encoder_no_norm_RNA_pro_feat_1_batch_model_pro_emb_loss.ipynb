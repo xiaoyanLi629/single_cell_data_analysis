{
 "cells": [
  {
   "cell_type": "code",
   "execution_count": 1,
   "id": "28ee873a-61f9-4b39-8cb7-4cca1bd3a8a9",
   "metadata": {},
   "outputs": [],
   "source": [
    "import anndata as ad\n",
    "import gc\n",
    "import sys\n",
    "from scipy.sparse import csc_matrix\n",
    "from sklearn.model_selection import train_test_split\n",
    "from sklearn.decomposition import TruncatedSVD\n",
    "from sklearn.linear_model import LinearRegression\n",
    "import random\n",
    "import numpy as np\n",
    "import time\n",
    "import torch\n",
    "import torch.nn as nn\n",
    "import torch.nn.functional as F\n",
    "from torch.utils.data import TensorDataset, DataLoader\n",
    "import matplotlib.pyplot as plt\n",
    "import pickle\n",
    "import heapq\n",
    "import matplotlib\n",
    "import os\n",
    "# import umap\n",
    "import time\n",
    "# import umap.umap_ as umap\n",
    "from sklearn.decomposition import PCA\n",
    "from numpy import linalg as LA\n",
    "from tqdm import tqdm\n",
    "from IPython import display\n",
    "%matplotlib inline\n",
    "import pylab as pl"
   ]
  },
  {
   "cell_type": "code",
   "execution_count": 2,
   "id": "2f00d205-67e3-4548-a567-5c45c1431b1c",
   "metadata": {},
   "outputs": [
    {
     "name": "stdout",
     "output_type": "stream",
     "text": [
      "cuda\n"
     ]
    }
   ],
   "source": [
    "device = torch.device(\"cuda\" if torch.cuda.is_available() else \"cpu\")\n",
    "print(device)\n",
    "random.seed(1)\n",
    "np.random.seed(1)\n",
    "torch.manual_seed(1)\n",
    "\n",
    "batch_size = 50000\n",
    "pred_start = 1\n",
    "pred_end = 2"
   ]
  },
  {
   "cell_type": "code",
   "execution_count": 3,
   "id": "c8571524-866b-4e96-8565-e7679e648fc8",
   "metadata": {},
   "outputs": [],
   "source": [
    "train_mod1_file = 'phase2_private_data/predict_modality/openproblems_bmmc_cite_phase2_rna/openproblems_bmmc_cite_phase2_rna.censor_dataset.output_train_mod1.h5ad'\n",
    "train_mod2_file = 'phase2_private_data/predict_modality/openproblems_bmmc_cite_phase2_rna/openproblems_bmmc_cite_phase2_rna.censor_dataset.output_train_mod2.h5ad'\n",
    "test_mod1_file = 'phase2_private_data/predict_modality/openproblems_bmmc_cite_phase2_rna/openproblems_bmmc_cite_phase2_rna.censor_dataset.output_test_mod1.h5ad'\n",
    "test_mod2_file = 'phase2_private_data/predict_modality/openproblems_bmmc_cite_phase2_rna/openproblems_bmmc_cite_phase2_rna.censor_dataset.output_test_mod2.h5ad'"
   ]
  },
  {
   "cell_type": "code",
   "execution_count": 4,
   "id": "e1003672-e58f-4536-88e5-b43ce4459f5b",
   "metadata": {},
   "outputs": [],
   "source": [
    "input_train_mod1 = ad.read_h5ad(train_mod1_file)\n",
    "input_train_mod2 = ad.read_h5ad(train_mod2_file)\n",
    "input_test_mod1 = ad.read_h5ad(test_mod1_file)\n",
    "input_test_mod2 = ad.read_h5ad(test_mod2_file)"
   ]
  },
  {
   "cell_type": "code",
   "execution_count": 5,
   "id": "8bb3ff4e-2d60-4edc-b20c-f8eecbd8647e",
   "metadata": {},
   "outputs": [
    {
     "name": "stdout",
     "output_type": "stream",
     "text": [
      "AnnData object with n_obs × n_vars = 66175 × 13953\n",
      "    obs: 'batch', 'size_factors'\n",
      "    var: 'gene_ids', 'feature_types'\n",
      "    uns: 'dataset_id', 'organism'\n",
      "    layers: 'counts'\n",
      "AnnData object with n_obs × n_vars = 66175 × 134\n",
      "    obs: 'batch', 'size_factors'\n",
      "    var: 'feature_types'\n",
      "    uns: 'dataset_id', 'organism'\n",
      "    layers: 'counts'\n",
      "AnnData object with n_obs × n_vars = 1000 × 13953\n",
      "    obs: 'batch', 'size_factors'\n",
      "    var: 'gene_ids', 'feature_types'\n",
      "    uns: 'dataset_id', 'organism'\n",
      "    layers: 'counts'\n",
      "AnnData object with n_obs × n_vars = 1000 × 134\n",
      "    obs: 'batch', 'size_factors'\n",
      "    var: 'feature_types'\n",
      "    uns: 'dataset_id', 'organism'\n",
      "    layers: 'counts'\n"
     ]
    }
   ],
   "source": [
    "print(input_train_mod1)\n",
    "print(input_train_mod2)\n",
    "print(input_test_mod1)\n",
    "print(input_test_mod2)"
   ]
  },
  {
   "cell_type": "code",
   "execution_count": 6,
   "id": "4b1f7ad0-24d9-4d07-ab91-c9b1c9928c7b",
   "metadata": {},
   "outputs": [
    {
     "name": "stdout",
     "output_type": "stream",
     "text": [
      "['s1d1', 's1d2', 's1d3', 's2d1', 's2d4', 's2d5', 's3d1', 's3d6', 's3d7']\n",
      "['s1d1', 's1d2', 's1d3', 's2d1', 's2d4', 's2d5', 's3d1', 's3d6', 's3d7']\n"
     ]
    }
   ],
   "source": [
    "print(sorted(set(input_train_mod1.obs['batch'])))\n",
    "print(sorted(set(input_train_mod2.obs['batch'])))"
   ]
  },
  {
   "cell_type": "code",
   "execution_count": 7,
   "id": "88721876-d226-4bce-a6ea-a34e990954d4",
   "metadata": {},
   "outputs": [
    {
     "name": "stdout",
     "output_type": "stream",
     "text": [
      "['s4d1', 's4d8', 's4d9']\n",
      "['s4d1', 's4d8', 's4d9']\n"
     ]
    }
   ],
   "source": [
    "print(sorted(set(input_test_mod1.obs['batch'])))\n",
    "print(sorted(set(input_test_mod2.obs['batch'])))"
   ]
  },
  {
   "cell_type": "code",
   "execution_count": 8,
   "id": "f1c44bec-d2fc-4f1a-a2c5-98ec95035905",
   "metadata": {},
   "outputs": [],
   "source": [
    "RNA_s1d1 = input_train_mod1[input_train_mod1.obs[\"batch\"] == \"s1d1\", :]\n",
    "RNA_s1d2 = input_train_mod1[input_train_mod1.obs[\"batch\"] == \"s1d2\", :]\n",
    "RNA_s1d3 = input_train_mod1[input_train_mod1.obs[\"batch\"] == \"s1d3\", :]\n",
    "RNA_s2d1 = input_train_mod1[input_train_mod1.obs[\"batch\"] == \"s2d1\", :]\n",
    "RNA_s2d4 = input_train_mod1[input_train_mod1.obs[\"batch\"] == \"s2d4\", :]\n",
    "RNA_s2d5 = input_train_mod1[input_train_mod1.obs[\"batch\"] == \"s2d5\", :]\n",
    "\n",
    "RNA_s3d1 = input_train_mod1[input_train_mod1.obs[\"batch\"] == \"s3d1\", :]\n",
    "RNA_s3d6 = input_train_mod1[input_train_mod1.obs[\"batch\"] == \"s3d6\", :]\n",
    "RNA_s3d7 = input_train_mod1[input_train_mod1.obs[\"batch\"] == \"s3d7\", :]"
   ]
  },
  {
   "cell_type": "code",
   "execution_count": 9,
   "id": "90fd11a4-3c78-4a7c-bbe4-552681e76e85",
   "metadata": {},
   "outputs": [],
   "source": [
    "pro_s1d1 = input_train_mod2[input_train_mod2.obs[\"batch\"] == \"s1d1\", :]\n",
    "pro_s1d2 = input_train_mod2[input_train_mod2.obs[\"batch\"] == \"s1d2\", :]\n",
    "pro_s1d3 = input_train_mod2[input_train_mod2.obs[\"batch\"] == \"s1d3\", :]\n",
    "pro_s2d1 = input_train_mod2[input_train_mod2.obs[\"batch\"] == \"s2d1\", :]\n",
    "pro_s2d4 = input_train_mod2[input_train_mod2.obs[\"batch\"] == \"s2d4\", :]\n",
    "pro_s2d5 = input_train_mod2[input_train_mod2.obs[\"batch\"] == \"s2d5\", :]\n",
    "\n",
    "pro_s3d1 = input_train_mod2[input_train_mod2.obs[\"batch\"] == \"s3d1\", :]\n",
    "pro_s3d6 = input_train_mod2[input_train_mod2.obs[\"batch\"] == \"s3d6\", :]\n",
    "pro_s3d7 = input_train_mod2[input_train_mod2.obs[\"batch\"] == \"s3d7\", :]"
   ]
  },
  {
   "cell_type": "code",
   "execution_count": 10,
   "id": "5f975355-3705-4227-82c1-4b9041f816f5",
   "metadata": {},
   "outputs": [],
   "source": [
    "RNA_s4d1 = input_test_mod1[input_test_mod1.obs[\"batch\"] == \"s4d1\", :]\n",
    "RNA_s4d8 = input_test_mod1[input_test_mod1.obs[\"batch\"] == \"s4d8\", :]\n",
    "RNA_s4d9 = input_test_mod1[input_test_mod1.obs[\"batch\"] == \"s4d9\", :]"
   ]
  },
  {
   "cell_type": "code",
   "execution_count": 11,
   "id": "dceea77f-7970-4c2e-a5df-3571d9cf5395",
   "metadata": {},
   "outputs": [],
   "source": [
    "pro_s4d1 = input_test_mod2[input_test_mod2.obs[\"batch\"] == \"s4d1\", :]\n",
    "pro_s4d8 = input_test_mod2[input_test_mod2.obs[\"batch\"] == \"s4d8\", :]\n",
    "pro_s4d9 = input_test_mod2[input_test_mod2.obs[\"batch\"] == \"s4d9\", :]"
   ]
  },
  {
   "cell_type": "code",
   "execution_count": 12,
   "id": "c15d3e8e-bee3-48ad-8539-d38dc8e141b3",
   "metadata": {},
   "outputs": [],
   "source": [
    "RNA_s1d1 = RNA_s1d1.X.toarray()\n",
    "RNA_s1d2 = RNA_s1d2.X.toarray()\n",
    "RNA_s1d3 = RNA_s1d3.X.toarray()\n",
    "RNA_s2d1 = RNA_s2d1.X.toarray()\n",
    "RNA_s2d4 = RNA_s2d4.X.toarray()\n",
    "RNA_s2d5 = RNA_s2d5.X.toarray()\n",
    "\n",
    "RNA_s3d1 = RNA_s3d1.X.toarray()\n",
    "RNA_s3d6 = RNA_s3d6.X.toarray()\n",
    "RNA_s3d7 = RNA_s3d7.X.toarray()"
   ]
  },
  {
   "cell_type": "code",
   "execution_count": 13,
   "id": "05578a34-ffe3-4573-9c29-e0154215f98d",
   "metadata": {},
   "outputs": [],
   "source": [
    "pro_s1d1 = pro_s1d1.X.toarray()[:, pred_start:pred_end]\n",
    "pro_s1d2 = pro_s1d2.X.toarray()[:, pred_start:pred_end]\n",
    "pro_s1d3 = pro_s1d3.X.toarray()[:, pred_start:pred_end]\n",
    "pro_s2d1 = pro_s2d1.X.toarray()[:, pred_start:pred_end]\n",
    "pro_s2d4 = pro_s2d4.X.toarray()[:, pred_start:pred_end]\n",
    "pro_s2d5 = pro_s2d5.X.toarray()[:, pred_start:pred_end]\n",
    "\n",
    "pro_s3d1 = pro_s3d1.X.toarray()[:, pred_start:pred_end]\n",
    "pro_s3d6 = pro_s3d6.X.toarray()[:, pred_start:pred_end]\n",
    "pro_s3d7 = pro_s3d7.X.toarray()[:, pred_start:pred_end]"
   ]
  },
  {
   "cell_type": "code",
   "execution_count": 14,
   "id": "bfe63a24-98d1-4964-851b-6ea492ec6a9a",
   "metadata": {},
   "outputs": [],
   "source": [
    "RNA_s4d1 = RNA_s4d1.X.toarray()\n",
    "RNA_s4d8 = RNA_s4d8.X.toarray()\n",
    "RNA_s4d9 = RNA_s4d9.X.toarray()"
   ]
  },
  {
   "cell_type": "code",
   "execution_count": 15,
   "id": "f4574c26-89fd-4095-8fb8-4e8ea96243cf",
   "metadata": {},
   "outputs": [],
   "source": [
    "pro_s4d1 = pro_s4d1.X.toarray()[:, pred_start:pred_end]\n",
    "pro_s4d8 = pro_s4d8.X.toarray()[:, pred_start:pred_end]\n",
    "pro_s4d9 = pro_s4d9.X.toarray()[:, pred_start:pred_end]"
   ]
  },
  {
   "cell_type": "code",
   "execution_count": 16,
   "id": "cdcb04c7-e1dd-4cb2-83cf-9c116a54cffd",
   "metadata": {},
   "outputs": [],
   "source": [
    "pro_s1d1 = np.concatenate([RNA_s1d1, pro_s1d1], axis= 1)\n",
    "pro_s1d2 = np.concatenate([RNA_s1d2, pro_s1d2], axis= 1)\n",
    "pro_s1d3 = np.concatenate([RNA_s1d3, pro_s1d3], axis= 1)\n",
    "pro_s2d1 = np.concatenate([RNA_s2d1, pro_s2d1], axis= 1)\n",
    "pro_s2d4 = np.concatenate([RNA_s2d4, pro_s2d4], axis= 1)\n",
    "pro_s2d5 = np.concatenate([RNA_s2d5, pro_s2d5], axis= 1)\n",
    "\n",
    "pro_s3d1 = np.concatenate([RNA_s3d1, pro_s3d1], axis= 1)\n",
    "pro_s3d6 = np.concatenate([RNA_s3d6, pro_s3d6], axis= 1)\n",
    "pro_s3d7 = np.concatenate([RNA_s3d7, pro_s3d7], axis= 1)\n",
    "\n",
    "pro_s4d1 = np.concatenate([RNA_s4d1, pro_s4d1], axis= 1)\n",
    "pro_s4d8 = np.concatenate([RNA_s4d8, pro_s4d8], axis= 1)\n",
    "pro_s4d9 = np.concatenate([RNA_s4d9, pro_s4d9], axis= 1)"
   ]
  },
  {
   "cell_type": "code",
   "execution_count": 17,
   "id": "6ff81839-2fc0-4aaa-ae40-df8b8926322a",
   "metadata": {},
   "outputs": [
    {
     "name": "stdout",
     "output_type": "stream",
     "text": [
      "(4721, 13953)\n",
      "(4721, 13954)\n"
     ]
    }
   ],
   "source": [
    "print(RNA_s1d1.shape)\n",
    "print(pro_s1d1.shape)"
   ]
  },
  {
   "cell_type": "code",
   "execution_count": 18,
   "id": "934ebd8d-b467-41f5-bbcb-350b71ac6d3a",
   "metadata": {},
   "outputs": [],
   "source": [
    "batch_s1d1 = input_train_mod1[input_train_mod1.obs[\"batch\"] == \"s1d1\", :].obs[\"batch\"]\n",
    "batch_s1d2 = input_train_mod1[input_train_mod1.obs[\"batch\"] == \"s1d2\", :].obs[\"batch\"]\n",
    "batch_s1d3 = input_train_mod1[input_train_mod1.obs[\"batch\"] == \"s1d3\", :].obs[\"batch\"]\n",
    "batch_s2d1 = input_train_mod1[input_train_mod1.obs[\"batch\"] == \"s2d1\", :].obs[\"batch\"]\n",
    "batch_s2d4 = input_train_mod1[input_train_mod1.obs[\"batch\"] == \"s2d4\", :].obs[\"batch\"]\n",
    "batch_s2d5 = input_train_mod1[input_train_mod1.obs[\"batch\"] == \"s2d5\", :].obs[\"batch\"]\n",
    "\n",
    "batch_s3d1 = input_train_mod1[input_train_mod1.obs[\"batch\"] == \"s3d1\", :].obs[\"batch\"]\n",
    "batch_s3d6 = input_train_mod1[input_train_mod1.obs[\"batch\"] == \"s3d6\", :].obs[\"batch\"]\n",
    "batch_s3d7 = input_train_mod1[input_train_mod1.obs[\"batch\"] == \"s3d7\", :].obs[\"batch\"]\n",
    "\n",
    "batch_s4d1 = input_test_mod1[input_test_mod1.obs[\"batch\"] == \"s4d1\", :].obs[\"batch\"]\n",
    "batch_s4d8 = input_test_mod1[input_test_mod1.obs[\"batch\"] == \"s4d8\", :].obs[\"batch\"]\n",
    "batch_s4d9 = input_test_mod1[input_test_mod1.obs[\"batch\"] == \"s4d9\", :].obs[\"batch\"]"
   ]
  },
  {
   "cell_type": "code",
   "execution_count": 19,
   "id": "9c3b19a0-8ad3-4151-a8dc-3b51258df06a",
   "metadata": {},
   "outputs": [],
   "source": [
    "test_input = [RNA_s4d1, RNA_s4d8, RNA_s4d9]\n",
    "test_output = [pro_s4d1, pro_s4d8, pro_s4d9]\n",
    "\n",
    "test_input = np.concatenate(test_input, axis=0)\n",
    "test_output = np.concatenate(test_output, axis=0)"
   ]
  },
  {
   "cell_type": "code",
   "execution_count": 20,
   "id": "ff5368ae-50bd-4f16-a4c5-166f12e640dc",
   "metadata": {},
   "outputs": [
    {
     "name": "stdout",
     "output_type": "stream",
     "text": [
      "(1000, 13953)\n",
      "(1000, 13954)\n"
     ]
    }
   ],
   "source": [
    "print(test_input.shape)\n",
    "print(test_output.shape)"
   ]
  },
  {
   "cell_type": "code",
   "execution_count": 21,
   "id": "53eaa25a-5cf1-4cc1-ac12-b74c69ce16dd",
   "metadata": {},
   "outputs": [],
   "source": [
    "RNA_s1d1 = torch.from_numpy(RNA_s1d1)\n",
    "RNA_s1d2 = torch.from_numpy(RNA_s1d2)\n",
    "RNA_s1d3 = torch.from_numpy(RNA_s1d3)\n",
    "RNA_s2d1 = torch.from_numpy(RNA_s2d1)\n",
    "RNA_s2d4 = torch.from_numpy(RNA_s2d4)\n",
    "RNA_s2d5 = torch.from_numpy(RNA_s2d5)\n",
    "RNA_s3d1 = torch.from_numpy(RNA_s3d1)\n",
    "RNA_s3d6 = torch.from_numpy(RNA_s3d6)\n",
    "RNA_s3d7 = torch.from_numpy(RNA_s3d7)\n",
    "RNA_s4d1 = torch.from_numpy(RNA_s4d1)\n",
    "RNA_s4d8 = torch.from_numpy(RNA_s4d8)\n",
    "RNA_s4d9 = torch.from_numpy(RNA_s4d9)"
   ]
  },
  {
   "cell_type": "code",
   "execution_count": 22,
   "id": "345b9da1-5b8f-4ae1-b533-df47bb9d9763",
   "metadata": {},
   "outputs": [],
   "source": [
    "pro_s1d1 = torch.from_numpy(pro_s1d1)\n",
    "pro_s1d2 = torch.from_numpy(pro_s1d2)\n",
    "pro_s1d3 = torch.from_numpy(pro_s1d3)\n",
    "pro_s2d1 = torch.from_numpy(pro_s2d1)\n",
    "pro_s2d4 = torch.from_numpy(pro_s2d4)\n",
    "pro_s2d5 = torch.from_numpy(pro_s2d5)\n",
    "pro_s3d1 = torch.from_numpy(pro_s3d1)\n",
    "pro_s3d6 = torch.from_numpy(pro_s3d6)\n",
    "pro_s3d7 = torch.from_numpy(pro_s3d7)\n",
    "pro_s4d1 = torch.from_numpy(pro_s4d1)\n",
    "pro_s4d8 = torch.from_numpy(pro_s4d8)\n",
    "pro_s4d9 = torch.from_numpy(pro_s4d9)"
   ]
  },
  {
   "cell_type": "code",
   "execution_count": 23,
   "id": "a4b6a896-382c-4e6d-b586-a0a395fe69b4",
   "metadata": {},
   "outputs": [],
   "source": [
    "test_input = torch.from_numpy(test_input)\n",
    "test_output = torch.from_numpy(test_output)"
   ]
  },
  {
   "cell_type": "code",
   "execution_count": 24,
   "id": "21fc65f8-d208-4cdf-856b-507176f0038f",
   "metadata": {},
   "outputs": [],
   "source": [
    "RNA_s1d1 = RNA_s1d1.float()\n",
    "RNA_s1d2 = RNA_s1d2.float()\n",
    "RNA_s1d3 = RNA_s1d3.float()\n",
    "RNA_s2d1 = RNA_s2d1.float()\n",
    "RNA_s2d4 = RNA_s2d4.float()\n",
    "RNA_s2d5 = RNA_s2d5.float()\n",
    "RNA_s3d1 = RNA_s3d1.float()\n",
    "RNA_s3d6 = RNA_s3d6.float()\n",
    "RNA_s3d7 = RNA_s3d7.float()\n",
    "RNA_s4d1 = RNA_s4d1.float()\n",
    "RNA_s4d8 = RNA_s4d8.float()\n",
    "RNA_s4d9 = RNA_s4d9.float()\n",
    "\n",
    "pro_s1d1 = pro_s1d1.float()\n",
    "pro_s1d2 = pro_s1d2.float()\n",
    "pro_s1d3 = pro_s1d3.float()\n",
    "pro_s2d1 = pro_s2d1.float()\n",
    "pro_s2d4 = pro_s2d4.float()\n",
    "pro_s2d5 = pro_s2d5.float()\n",
    "pro_s3d1 = pro_s3d1.float()\n",
    "pro_s3d6 = pro_s3d6.float()\n",
    "pro_s3d7 = pro_s3d7.float()\n",
    "pro_s4d1 = pro_s4d1.float()\n",
    "pro_s4d8 = pro_s4d8.float()\n",
    "pro_s4d9 = pro_s4d9.float()"
   ]
  },
  {
   "cell_type": "code",
   "execution_count": 25,
   "id": "4ff2720d-aeb4-4eba-9fe8-52ad20e08373",
   "metadata": {},
   "outputs": [],
   "source": [
    "test_input = test_input.float()\n",
    "test_output = test_output.float()"
   ]
  },
  {
   "cell_type": "code",
   "execution_count": 26,
   "id": "fcb3ca20-f456-426b-bfd8-c9f39a2c4156",
   "metadata": {},
   "outputs": [],
   "source": [
    "RNA_s1d1 = RNA_s1d1.to(device)\n",
    "RNA_s1d2 = RNA_s1d2.to(device)\n",
    "RNA_s1d3 = RNA_s1d3.to(device)\n",
    "RNA_s2d1 = RNA_s2d1.to(device)\n",
    "RNA_s2d4 = RNA_s2d4.to(device)\n",
    "RNA_s2d5 = RNA_s2d5.to(device)\n",
    "RNA_s3d1 = RNA_s3d1.to(device)\n",
    "RNA_s3d6 = RNA_s3d6.to(device)\n",
    "RNA_s3d7 = RNA_s3d7.to(device)\n",
    "RNA_s4d1 = RNA_s4d1.to(device)\n",
    "RNA_s4d8 = RNA_s4d8.to(device)\n",
    "RNA_s4d9 = RNA_s4d9.to(device)\n",
    "\n",
    "pro_s1d1 = pro_s1d1.to(device)\n",
    "pro_s1d2 = pro_s1d2.to(device)\n",
    "pro_s1d3 = pro_s1d3.to(device)\n",
    "pro_s2d1 = pro_s2d1.to(device)\n",
    "pro_s2d4 = pro_s2d4.to(device)\n",
    "pro_s2d5 = pro_s2d5.to(device)\n",
    "pro_s3d1 = pro_s3d1.to(device)\n",
    "pro_s3d6 = pro_s3d6.to(device)\n",
    "pro_s3d7 = pro_s3d7.to(device)\n",
    "pro_s4d1 = pro_s4d1.to(device)\n",
    "pro_s4d8 = pro_s4d8.to(device)\n",
    "pro_s4d9 = pro_s4d9.to(device)"
   ]
  },
  {
   "cell_type": "code",
   "execution_count": 27,
   "id": "e1af3963-5d6c-4eff-9bd4-9a17e3556846",
   "metadata": {},
   "outputs": [],
   "source": [
    "RNA_batches = [RNA_s1d1, RNA_s1d2, RNA_s1d3, RNA_s2d1, RNA_s2d4, RNA_s2d5, RNA_s3d1, RNA_s3d6, RNA_s3d7, RNA_s4d1, RNA_s4d8, RNA_s4d9]\n",
    "pro_batches = [pro_s1d1, pro_s1d2, pro_s1d3, pro_s2d1, pro_s2d4, pro_s2d5, pro_s3d1, pro_s3d6, pro_s3d7, pro_s4d1, pro_s4d8, pro_s4d9]"
   ]
  },
  {
   "cell_type": "code",
   "execution_count": 28,
   "id": "61de4cdc-92aa-4b36-a797-0dd62fcdb44f",
   "metadata": {},
   "outputs": [],
   "source": [
    "test_input = test_input.to(device)\n",
    "test_output = test_output.to(device)"
   ]
  },
  {
   "cell_type": "code",
   "execution_count": 29,
   "id": "b53502d6-45ac-408d-9a82-c565a5e87c22",
   "metadata": {},
   "outputs": [],
   "source": [
    "input_feature = RNA_s1d1.shape[1]\n",
    "# output_feature = pred_num"
   ]
  },
  {
   "cell_type": "code",
   "execution_count": 30,
   "id": "cdfef524-ca23-472a-b70c-b521da8bb101",
   "metadata": {
    "tags": []
   },
   "outputs": [],
   "source": [
    "# auto-encoder model\n",
    "# base model\n",
    "class Autoencoder(nn.Module):\n",
    "    def __init__(self):\n",
    "        super(Autoencoder, self).__init__()\n",
    "        self.linear1 = nn.Linear(input_feature, 4)\n",
    "        self.linear2 = nn.Linear(input_feature//2, input_feature//4)\n",
    "        self.linear3 = nn.Linear(input_feature//4, input_feature//8)\n",
    "        self.linear4 = nn.Linear(input_feature//8, input_feature//16)\n",
    "        \n",
    "        self.linear5 = nn.Linear(4, input_feature+1)\n",
    "        self.relu = nn.ReLU()\n",
    "        self.leakyrelu = nn.LeakyReLU(0.1)\n",
    "        self.dropout = nn.Dropout(0.15)\n",
    "        \n",
    "        self.linear = nn.Linear(input_feature, 1)\n",
    "\n",
    "    def forward(self, x):\n",
    "        x = self.linear1(x)\n",
    "        emb = self.relu(x)\n",
    "        \n",
    "        output = self.linear5(emb)\n",
    "        \n",
    "        return output.float(), emb"
   ]
  },
  {
   "cell_type": "code",
   "execution_count": 31,
   "id": "2c7ce233-5f19-4eba-a443-01461b200861",
   "metadata": {},
   "outputs": [],
   "source": [
    "RNA_dataset = [RNA_s1d1, RNA_s1d2, RNA_s1d3, RNA_s2d1, RNA_s2d4, RNA_s2d5, RNA_s3d1, RNA_s3d6, RNA_s3d7]\n",
    "pro_dataset = [pro_s1d1, pro_s1d2, pro_s1d3, pro_s2d1, pro_s2d4, pro_s2d5, pro_s3d1, pro_s3d6, pro_s3d7]\n",
    "emb_folder_names = ['s1d1_emb', 's1d2_emb', 's1d3_emb', 's2d1_emb', 's2d4_emb', 's2d5_emb', 's3d1_emb', 's3d6_emb', 's3d7_emb']"
   ]
  },
  {
   "cell_type": "code",
   "execution_count": 32,
   "id": "14f2313e-a644-47fb-ad4a-3eb98b7fb98e",
   "metadata": {},
   "outputs": [],
   "source": [
    "PATH = 'No_norm_model_RNA_pro'"
   ]
  },
  {
   "cell_type": "code",
   "execution_count": 33,
   "id": "dd6fe5f8-28d6-4332-8ee8-b6e4a1994522",
   "metadata": {},
   "outputs": [],
   "source": [
    "train_ds_s1d1 = TensorDataset(RNA_dataset[0], pro_dataset[0])\n",
    "train_dl_s1d1 = DataLoader(train_ds_s1d1, batch_size= batch_size, shuffle=True)\n",
    "\n",
    "train_ds_s1d2 = TensorDataset(RNA_dataset[1], pro_dataset[1])\n",
    "train_dl_s1d2 = DataLoader(train_ds_s1d2, batch_size= batch_size, shuffle=True)\n",
    "\n",
    "train_ds_s1d3 = TensorDataset(RNA_dataset[2], pro_dataset[2])\n",
    "train_dl_s1d3= DataLoader(train_ds_s1d3, batch_size= batch_size, shuffle=True)\n",
    "\n",
    "train_ds_s2d1 = TensorDataset(RNA_dataset[3], pro_dataset[3])\n",
    "train_dl_s2d1 = DataLoader(train_ds_s2d1, batch_size= batch_size, shuffle=True)\n",
    "\n",
    "train_ds_s2d4 = TensorDataset(RNA_dataset[4], pro_dataset[4])\n",
    "train_dl_s2d4 = DataLoader(train_ds_s2d4, batch_size= batch_size, shuffle=True)\n",
    "\n",
    "train_ds_s2d5 = TensorDataset(RNA_dataset[5], pro_dataset[5])\n",
    "train_dl_s2d5 = DataLoader(train_ds_s2d5, batch_size= batch_size, shuffle=True)\n",
    "\n",
    "train_ds_s3d1 = TensorDataset(RNA_dataset[6], pro_dataset[6])\n",
    "train_dl_s3d1 = DataLoader(train_ds_s3d1, batch_size= batch_size, shuffle=True)\n",
    "\n",
    "train_ds_s3d6 = TensorDataset(RNA_dataset[7], pro_dataset[7])\n",
    "train_dl_s3d6 = DataLoader(train_ds_s3d6, batch_size= batch_size, shuffle=True)\n",
    "\n",
    "train_ds_s3d7 = TensorDataset(RNA_dataset[8], pro_dataset[8])\n",
    "train_dl_s3d7 = DataLoader(train_ds_s3d7, batch_size= batch_size, shuffle=True)"
   ]
  },
  {
   "cell_type": "code",
   "execution_count": 34,
   "id": "95bef8da-6a23-48ca-a715-f794523f9739",
   "metadata": {},
   "outputs": [],
   "source": [
    "train_dls = [train_dl_s1d1, train_dl_s1d2, train_dl_s1d3, train_dl_s2d1, train_dl_s2d4, train_dl_s2d5, train_dl_s3d1, train_dl_s3d6, train_dl_s3d7]"
   ]
  },
  {
   "cell_type": "code",
   "execution_count": 35,
   "id": "1a53dd89-ac85-4b11-bc7c-7e8df4ef8e10",
   "metadata": {},
   "outputs": [],
   "source": [
    "def fit(num_epochs, model, loss_fn):\n",
    "    val_best = float('inf')\n",
    "    train_pred_output = []\n",
    "    val_pred_output = []\n",
    "        \n",
    "    for epoch in range(num_epochs):\n",
    "        for ind in range(len(train_dls)):\n",
    "            train_dl = train_dls[ind]\n",
    "            for x,y in train_dl:\n",
    "                model = model.train()\n",
    "                pred, emb = model(x)\n",
    "                loss_emb = loss_fn(pred[:, :-1], y[:, :-1])\n",
    "                loss_pro = loss_fn(pred[:, -1], y[:, -1])\n",
    "                loss = loss_pro + loss_emb + (loss_pro-loss_emb)**2\n",
    "                loss.backward()\n",
    "                opt.step()\n",
    "                opt.zero_grad()\n",
    "            \n",
    "        if epoch % 1 == 0:\n",
    "            model = model.eval()\n",
    "                        \n",
    "            losses_total_temp = []\n",
    "            losses_encoder_temp = []\n",
    "            losses_pro_temp = []\n",
    "            \n",
    "            for i in range(len(RNA_batches)):\n",
    "                pred, emb = model(RNA_batches[i])\n",
    "                loss_encoder = torch.sqrt(loss_fn(pred[:, :-1], pro_batches[i][:, :-1])).cpu().detach().numpy()\n",
    "                loss_pro = torch.sqrt(loss_fn(pred[:, -1], pro_batches[i][:, -1])).cpu().detach().numpy()\n",
    "                loss_total = loss_pro + loss_encoder\n",
    "                \n",
    "                losses_total[epoch, i] = loss_total\n",
    "                losses_encoder[epoch, i] = loss_encoder\n",
    "                losses_pro[epoch, i] = loss_pro\n",
    "                \n",
    "                losses_total_temp.append(loss_total)\n",
    "                losses_encoder_temp.append(loss_encoder)\n",
    "                losses_pro_temp.append(loss_pro)\n",
    "                \n",
    "            loss_emb_plot.append(losses_encoder_temp)\n",
    "            loss_pro_plot.append(losses_pro_temp)\n",
    "            \n",
    "            cal_pro_test_loss = ((losses_pro_temp[-3]**2*RNA_batches[-3].shape[0] + losses_pro_temp[-2]**2*RNA_batches[-2].shape[0] + losses_pro_temp[-1]**2*RNA_batches[-1].shape[0])/(RNA_batches[-3].shape[0]+RNA_batches[-2].shape[0]+RNA_batches[-1].shape[0]))**0.5\n",
    "            \n",
    "            if epoch == 1999:\n",
    "                \n",
    "                figure, ax = plt.subplots(2, 6, figsize = (20, 8))\n",
    "                figure.tight_layout()\n",
    "                plt.subplots_adjust(wspace = 0.3, hspace = 0.4)\n",
    "                ax = ax.flatten()\n",
    "                for i in range(12):\n",
    "                    temp = []\n",
    "                    for j in range(len(loss_emb_plot)):\n",
    "                        temp.append(loss_pro_plot[j][i]/loss_emb_plot[j][i])\n",
    "                    ax[i].scatter(list(range(len(loss_pro_plot))), temp, c='blue', s = 30, alpha=1, label = 'pro/emb ratio')\n",
    "                    ax[i].scatter(list(range(len(loss_pro_plot))), [ele[i] for ele in loss_pro_plot], c='red', s = 30, alpha=1, label = 'pro loss')\n",
    "                    ax[i].scatter(list(range(len(loss_pro_plot))), [ele[i] for ele in loss_emb_plot], c='green', s = 30, alpha=1, label = 'emb loss')\n",
    "                    ax[i].legend(loc = 'upper right')\n",
    "                    ax[i].set_title('E: ' + str(epoch) + ' pro/emb: ' + str(loss_pro_plot[epoch][i]/loss_emb_plot[epoch][i]) + '\\n' + 'pro loss: ' + str(loss_pro_plot[epoch][i]) + '\\n' + 'emb loss:' + str(loss_emb_plot[epoch][i]))\n",
    "                    ax[i].set_xlabel('Embedding loss')\n",
    "                    ax[i].set_ylabel('Protein prediction loss')\n",
    "                plt.show()\n",
    "        batches = ['s1d1', 's1d2', 's1d3', 's2d1', 's2d4', 's2d5', 's3d1', 's3d6', 's3d7', 's4d1', 's4d8', 's4d9']\n",
    "\n",
    "    return"
   ]
  },
  {
   "cell_type": "code",
   "execution_count": 36,
   "id": "38a1c726-4d1a-43f4-95db-7ff3f6e7e8b2",
   "metadata": {},
   "outputs": [],
   "source": [
    "num_epochs = 2000\n",
    "losses_total = np.zeros((num_epochs, 12))\n",
    "losses_encoder = np.zeros((num_epochs, 12))\n",
    "losses_pro = np.zeros((num_epochs, 12))"
   ]
  },
  {
   "cell_type": "code",
   "execution_count": 37,
   "id": "b2b6ac2d-5e09-47e6-b47b-a3d9efd56efa",
   "metadata": {},
   "outputs": [
    {
     "data": {
      "image/png": "[encoded data removed]",
      "text/plain": [
       "<Figure size 1440x576 with 12 Axes>"
      ]
     },
     "metadata": {
      "needs_background": "light"
     },
     "output_type": "display_data"
    }
   ],
   "source": [
    "learning_rate = 0.001\n",
    "latent_dim = 50\n",
    "loss_fn = F.mse_loss\n",
    "batch_size = 50000\n",
    "\n",
    "loss_emb_plot = []\n",
    "loss_pro_plot = []\n",
    "\n",
    "def seed_everything(seed=1234):\n",
    "    random.seed(seed)\n",
    "    os.environ['PYTHONHASHSEED'] = str(seed)\n",
    "    np.random.seed(seed)\n",
    "    torch.manual_seed(seed)\n",
    "    torch.backends.cudnn.deterministic = True\n",
    "\n",
    "seed_everything()\n",
    "\n",
    "model = Autoencoder()\n",
    "# model.load_state_dict(torch.load('Batch_feature_norm_model'))\n",
    "model = model.to(device)\n",
    "opt = torch.optim.SGD(model.parameters(), lr=learning_rate, momentum=0.9)\n",
    "fit(num_epochs, model, loss_fn)"
   ]
  },
  {
   "cell_type": "code",
   "execution_count": 46,
   "id": "2a404432-72d6-4d6a-9878-a960ed4f97ef",
   "metadata": {},
   "outputs": [
    {
     "data": {
      "image/png": "[encoded data removed]",
      "text/plain": [
       "<Figure size 432x288 with 1 Axes>"
      ]
     },
     "metadata": {
      "needs_background": "light"
     },
     "output_type": "display_data"
    }
   ],
   "source": [
    "plt.imshow(losses_pro, aspect=0.02)\n",
    "plt.title(f'Protein prediction loss of each batch')\n",
    "plt.xlabel(f'Batches')\n",
    "plt.ylabel(f'Epochs')\n",
    "plt.show()"
   ]
  },
  {
   "cell_type": "code",
   "execution_count": 48,
   "id": "5d2424f1-5f4c-47c5-aabc-0f9a572ebf18",
   "metadata": {},
   "outputs": [
    {
     "data": {
      "image/png": "[encoded data removed]",
      "text/plain": [
       "<Figure size 432x288 with 1 Axes>"
      ]
     },
     "metadata": {
      "needs_background": "light"
     },
     "output_type": "display_data"
    }
   ],
   "source": [
    "plt.imshow(losses_encoder, aspect=0.02)\n",
    "plt.title(f'Encoder-decoder loss of each batch')\n",
    "plt.xlabel(f'Batches')\n",
    "plt.ylabel(f'Epochs')\n",
    "plt.show()"
   ]
  },
  {
   "cell_type": "code",
   "execution_count": null,
   "id": "e670c573-b8db-43e0-b06b-4d3a6993abdf",
   "metadata": {},
   "outputs": [],
   "source": [
    "plt.imshow(losses_total, aspect=0.02)\n",
    "plt.title(f' loss of each batch')\n",
    "plt.xlabel(f'Batches')\n",
    "plt.ylabel(f'Epochs')\n",
    "plt.show()"
   ]
  }
 ],
 "metadata": {
  "kernelspec": {
   "display_name": "Python 3",
   "language": "python",
   "name": "python3"
  },
  "language_info": {
   "codemirror_mode": {
    "name": "ipython",
    "version": 3
   },
   "file_extension": ".py",
   "mimetype": "text/x-python",
   "name": "python",
   "nbconvert_exporter": "python",
   "pygments_lexer": "ipython3",
   "version": "3.8.10"
  }
 },
 "nbformat": 4,
 "nbformat_minor": 5
}
