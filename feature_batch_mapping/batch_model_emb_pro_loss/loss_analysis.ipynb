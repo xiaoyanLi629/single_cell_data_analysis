{
 "cells": [
  {
   "cell_type": "code",
   "execution_count": 30,
   "metadata": {},
   "outputs": [],
   "source": [
    "import anndata as ad\n",
    "import gc\n",
    "import sys\n",
    "from scipy.sparse import csc_matrix\n",
    "from sklearn.model_selection import train_test_split\n",
    "from sklearn.decomposition import TruncatedSVD\n",
    "from sklearn.linear_model import LinearRegression\n",
    "import random\n",
    "import numpy as np\n",
    "import time\n",
    "import torch\n",
    "import torch.nn as nn\n",
    "import torch.nn.functional as F\n",
    "from torch.utils.data import TensorDataset, DataLoader\n",
    "import matplotlib.pyplot as plt\n",
    "import pickle\n",
    "import heapq\n",
    "import matplotlib\n",
    "import os\n",
    "import umap\n",
    "# import umap.umap_ as umap\n",
    "from sklearn.decomposition import PCA\n",
    "from numpy import linalg as LA\n",
    "from tqdm import tqdm\n",
    "import pandas as pd\n",
    "import sklearn"
   ]
  },
  {
   "cell_type": "code",
   "execution_count": 2,
   "metadata": {},
   "outputs": [],
   "source": [
    "loss_file = pd.read_csv('pro_loss_emb_pro.csv')"
   ]
  },
  {
   "cell_type": "code",
   "execution_count": 3,
   "metadata": {},
   "outputs": [],
   "source": [
    "emb_loss = loss_file.iloc[1:10, 2:]\n",
    "emb_loss_np = np.array(emb_loss)\n",
    "emb_loss_np = emb_loss_np.astype(float)"
   ]
  },
  {
   "cell_type": "code",
   "execution_count": 4,
   "metadata": {},
   "outputs": [],
   "source": [
    "pred_loss = loss_file.iloc[14:, 2:]\n",
    "pred_loss_np = np.array(pred_loss)\n",
    "pred_loss_np = pred_loss_np.astype(float)"
   ]
  },
  {
   "cell_type": "markdown",
   "metadata": {},
   "source": [
    "Nine train batches models, embedding loss and predictionn loss"
   ]
  },
  {
   "cell_type": "markdown",
   "metadata": {},
   "source": [
    "# auto-encoder model\n",
    "# base model\n",
    "class Autoencoder(nn.Module):\n",
    "    def __init__(self):\n",
    "        super(Autoencoder, self).__init__()\n",
    "        self.linear1 = nn.Linear(input_feature, 50)\n",
    "        self.linear2 = nn.Linear(input_feature//2, input_feature//4)\n",
    "        self.linear3 = nn.Linear(input_feature//4, input_feature//8)\n",
    "        self.linear4 = nn.Linear(input_feature//8, input_feature//16)\n",
    "        \n",
    "        self.linear5 = nn.Linear(50, input_feature+1)\n",
    "        self.relu = nn.ReLU()\n",
    "        self.leakyrelu = nn.LeakyReLU(0.1)\n",
    "        self.dropout = nn.Dropout(0.15)\n",
    "        \n",
    "        self.linear = nn.Linear(input_feature, 1)\n",
    "\n",
    "    def forward(self, x):\n",
    "        x = self.linear1(x)\n",
    "        emb = self.relu(x)\n",
    "        \n",
    "        output = self.linear5(emb)\n",
    "        \n",
    "        return output.float(), emb"
   ]
  },
  {
   "cell_type": "markdown",
   "metadata": {},
   "source": [
    "loss = loss_pro + (loss_pro-loss_emb)**2"
   ]
  },
  {
   "cell_type": "code",
   "execution_count": 5,
   "metadata": {},
   "outputs": [
    {
     "data": {
      "text/plain": [
       "<matplotlib.colorbar.Colorbar at 0x7f82eddb19d0>"
      ]
     },
     "execution_count": 5,
     "metadata": {},
     "output_type": "execute_result"
    },
    {
     "data": {
      "image/png": "[encoded data removed]",
      "text/plain": [
       "<Figure size 864x288 with 4 Axes>"
      ]
     },
     "metadata": {
      "needs_background": "light"
     },
     "output_type": "display_data"
    }
   ],
   "source": [
    "from mpl_toolkits.axes_grid1 import make_axes_locatable\n",
    "\n",
    "figure, ax = plt.subplots(1, 2, figsize = (12, 4))\n",
    "im0 = ax[0].imshow(emb_loss_np)\n",
    "ax[0].set_title('Embedding loss')\n",
    "ax[0].set_xlabel('Test batches')\n",
    "ax[0].set_ylabel('Train batches')\n",
    "\n",
    "im1 = ax[1].imshow(pred_loss_np)\n",
    "ax[1].set_title('Prediction loss')\n",
    "ax[1].set_xlabel('Test batches')\n",
    "ax[1].set_ylabel('Train batches')\n",
    "\n",
    "divider = make_axes_locatable(ax[0])\n",
    "cax = divider.append_axes('right', size='5%', pad=0.05)\n",
    "figure.colorbar(im0, cax=cax, orientation='vertical')\n",
    "\n",
    "divider = make_axes_locatable(ax[1])\n",
    "cax = divider.append_axes('right', size='5%', pad=0.05)\n",
    "figure.colorbar(im1, cax=cax, orientation='vertical')\n"
   ]
  },
  {
   "cell_type": "code",
   "execution_count": 33,
   "metadata": {},
   "outputs": [
    {
     "data": {
      "image/png": "[encoded data removed]",
      "text/plain": [
       "<Figure size 432x288 with 1 Axes>"
      ]
     },
     "metadata": {
      "needs_background": "light"
     },
     "output_type": "display_data"
    }
   ],
   "source": [
    "cluster_file = pd.read_csv('cluster_0_8.csv')\n",
    "\n",
    "s1d1 = np.reshape(cluster_file.iloc[:10, 5].to_numpy(), (1, 10))\n",
    "s1d2 = np.reshape(cluster_file.iloc[10:20, 5].to_numpy(), (1, 10))\n",
    "s1d3 = np.reshape(cluster_file.iloc[20:30, 5].to_numpy(), (1, 10))\n",
    "s2d1 = np.reshape(cluster_file.iloc[30:40, 5].to_numpy(), (1, 10))\n",
    "s2d4 = np.reshape(cluster_file.iloc[40:50, 5].to_numpy(), (1, 10))\n",
    "s2d5 = np.reshape(cluster_file.iloc[50:60, 5].to_numpy(), (1, 10))\n",
    "s3d1 = np.reshape(cluster_file.iloc[60:70, 5].to_numpy(), (1, 10))\n",
    "s3d6 = np.reshape(cluster_file.iloc[70:80, 5].to_numpy(), (1, 10))\n",
    "s3d7 = np.reshape(cluster_file.iloc[80:90, 5].to_numpy(), (1, 10))\n",
    "s4d1 = np.reshape(cluster_file.iloc[90:100, 5].to_numpy(), (1, 10))\n",
    "s4d8 = np.reshape(cluster_file.iloc[100:110, 5].to_numpy(), (1, 10))\n",
    "s4d9 = np.reshape(cluster_file.iloc[110:120, 5].to_numpy(), (1, 10))\n",
    "\n",
    "cluster_emb = np.concatenate([s1d1, s1d2, s1d3, s2d1, s2d4, s2d5, s3d1, s3d6, s3d7, s4d1, s4d8, s4d9], axis=0)\n",
    "\n",
    "matrix = sklearn.metrics.pairwise.cosine_similarity(cluster_emb, cluster_emb)\n",
    "plt.imshow(1-matrix[0:9])    \n",
    "plt.show()"
   ]
  },
  {
   "cell_type": "code",
   "execution_count": 36,
   "metadata": {},
   "outputs": [
    {
     "data": {
      "image/png": "[encoded data removed]",
      "text/plain": [
       "<Figure size 432x288 with 1 Axes>"
      ]
     },
     "metadata": {
      "needs_background": "light"
     },
     "output_type": "display_data"
    }
   ],
   "source": [
    "cluster_file = pd.read_csv('cluster_1_3.csv')\n",
    "\n",
    "s1d1 = np.reshape(cluster_file.iloc[:15, 5].to_numpy(), (1, 15))\n",
    "s1d2 = np.reshape(cluster_file.iloc[15:30, 5].to_numpy(), (1, 15))\n",
    "s1d3 = np.reshape(cluster_file.iloc[30:45, 5].to_numpy(), (1, 15))\n",
    "s2d1 = np.reshape(cluster_file.iloc[45:60, 5].to_numpy(), (1, 15))\n",
    "s2d4 = np.reshape(cluster_file.iloc[60:75, 5].to_numpy(), (1, 15))\n",
    "s2d5 = np.reshape(cluster_file.iloc[75:90, 5].to_numpy(), (1, 15))\n",
    "s3d1 = np.reshape(cluster_file.iloc[90:105, 5].to_numpy(), (1, 15))\n",
    "s3d6 = np.reshape(cluster_file.iloc[105:120, 5].to_numpy(), (1, 15))\n",
    "s3d7 = np.reshape(cluster_file.iloc[120:135, 5].to_numpy(), (1, 15))\n",
    "s4d1 = np.reshape(cluster_file.iloc[135:150, 5].to_numpy(), (1, 15))\n",
    "s4d8 = np.reshape(cluster_file.iloc[150:165, 5].to_numpy(), (1, 15))\n",
    "s4d9 = np.reshape(cluster_file.iloc[165:180, 5].to_numpy(), (1, 15))\n",
    "\n",
    "cluster_emb = np.concatenate([s1d1, s1d2, s1d3, s2d1, s2d4, s2d5, s3d1, s3d6, s3d7, s4d1, s4d8, s4d9], axis=0)\n",
    "\n",
    "matrix = sklearn.metrics.pairwise.cosine_similarity(cluster_emb, cluster_emb)\n",
    "plt.imshow(1-matrix[0:9])    \n",
    "plt.show()"
   ]
  },
  {
   "cell_type": "code",
   "execution_count": 28,
   "metadata": {},
   "outputs": [
    {
     "data": {
      "text/plain": [
       "(12, 10)"
      ]
     },
     "execution_count": 28,
     "metadata": {},
     "output_type": "execute_result"
    }
   ],
   "source": []
  },
  {
   "cell_type": "code",
   "execution_count": null,
   "metadata": {},
   "outputs": [],
   "source": []
  }
 ],
 "metadata": {
  "kernelspec": {
   "display_name": "Python 3",
   "language": "python",
   "name": "python3"
  },
  "language_info": {
   "codemirror_mode": {
    "name": "ipython",
    "version": 3
   },
   "file_extension": ".py",
   "mimetype": "text/x-python",
   "name": "python",
   "nbconvert_exporter": "python",
   "pygments_lexer": "ipython3",
   "version": "3.8.10"
  }
 },
 "nbformat": 4,
 "nbformat_minor": 4
}
