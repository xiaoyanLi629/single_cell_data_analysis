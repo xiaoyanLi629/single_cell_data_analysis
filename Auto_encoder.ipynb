{
 "cells": [
  {
   "cell_type": "code",
   "execution_count": 1,
   "id": "28ee873a-61f9-4b39-8cb7-4cca1bd3a8a9",
   "metadata": {},
   "outputs": [],
   "source": [
    "import anndata as ad\n",
    "import gc\n",
    "import sys\n",
    "from scipy.sparse import csc_matrix\n",
    "from sklearn.model_selection import train_test_split\n",
    "from sklearn.decomposition import TruncatedSVD\n",
    "from sklearn.linear_model import LinearRegression\n",
    "import random\n",
    "import numpy as np\n",
    "import time\n",
    "import torch\n",
    "import torch.nn as nn\n",
    "import torch.nn.functional as F\n",
    "from torch.utils.data import TensorDataset, DataLoader\n",
    "import matplotlib.pyplot as plt\n",
    "import pickle\n",
    "import matlab.engine\n",
    "import heapq"
   ]
  },
  {
   "cell_type": "code",
   "execution_count": 2,
   "id": "2f00d205-67e3-4548-a567-5c45c1431b1c",
   "metadata": {},
   "outputs": [
    {
     "name": "stdout",
     "output_type": "stream",
     "text": [
      "cuda\n"
     ]
    },
    {
     "data": {
      "text/plain": [
       "<torch._C.Generator at 0x7f04eb79bdf0>"
      ]
     },
     "execution_count": 2,
     "metadata": {},
     "output_type": "execute_result"
    }
   ],
   "source": [
    "device = torch.device(\"cuda\" if torch.cuda.is_available() else \"cpu\")\n",
    "print(device)\n",
    "random.seed(0)\n",
    "np.random.seed(0)\n",
    "torch.manual_seed(0)"
   ]
  },
  {
   "cell_type": "code",
   "execution_count": 13,
   "id": "c8571524-866b-4e96-8565-e7679e648fc8",
   "metadata": {},
   "outputs": [],
   "source": [
    "train_mod1_file = 'phase2_data/predict_modality/openproblems_bmmc_cite_phase2_mod2/openproblems_bmmc_cite_phase2_mod2.censor_dataset.output_train_mod1.h5ad'\n",
    "train_mod2_file = 'phase2_data/predict_modality/openproblems_bmmc_cite_phase2_mod2/openproblems_bmmc_cite_phase2_mod2.censor_dataset.output_train_mod2.h5ad'\n",
    "# test_mod1_file = 'phase2_data/predict_modality/openproblems_bmmc_multiome_phase2_mod2/openproblems_bmmc_multiome_phase2_rna.censor_dataset.output_train_mod1.h5ad'\n",
    "# test_mod1_file = 'phase2_data/predict_modality/openproblems_bmmc_multiome_phase2_mod2/openproblems_bmmc_multiome_phase2_rna.censor_dataset.output_train_mod2.h5ad'"
   ]
  },
  {
   "cell_type": "code",
   "execution_count": 14,
   "id": "e1003672-e58f-4536-88e5-b43ce4459f5b",
   "metadata": {},
   "outputs": [],
   "source": [
    "input_train_mod1 = ad.read_h5ad(train_mod1_file)\n",
    "input_train_mod2 = ad.read_h5ad(train_mod2_file)\n",
    "# input_test_mod1 = ad.read_h5ad(test_mod1_file)\n",
    "# input_test_mod2 = ad.read_h5ad(test_mod2_file)"
   ]
  },
  {
   "cell_type": "code",
   "execution_count": 15,
   "id": "8bb3ff4e-2d60-4edc-b20c-f8eecbd8647e",
   "metadata": {},
   "outputs": [
    {
     "name": "stdout",
     "output_type": "stream",
     "text": [
      "AnnData object with n_obs × n_vars = 66175 × 134\n",
      "    obs: 'batch'\n",
      "    var: 'feature_types'\n",
      "    uns: 'dataset_id', 'organism'\n",
      "    layers: 'counts'\n",
      "AnnData object with n_obs × n_vars = 66175 × 13953\n",
      "    obs: 'batch'\n",
      "    var: 'gene_ids', 'feature_types'\n",
      "    uns: 'dataset_id', 'organism'\n",
      "    layers: 'counts'\n"
     ]
    }
   ],
   "source": [
    "print(input_train_mod1)\n",
    "print(input_train_mod2)\n",
    "# print(input_test_mod1)\n",
    "# print(input_test_mod2)"
   ]
  },
  {
   "cell_type": "code",
   "execution_count": 16,
   "id": "4b1f7ad0-24d9-4d07-ab91-c9b1c9928c7b",
   "metadata": {},
   "outputs": [
    {
     "name": "stdout",
     "output_type": "stream",
     "text": [
      "['s1d1', 's1d2', 's1d3', 's2d1', 's2d4', 's2d5', 's3d1', 's3d6', 's3d7']\n",
      "['s1d1', 's1d2', 's1d3', 's2d1', 's2d4', 's2d5', 's3d1', 's3d6', 's3d7']\n"
     ]
    }
   ],
   "source": [
    "print(sorted(set(input_train_mod1.obs['batch'])))\n",
    "print(sorted(set(input_train_mod2.obs['batch'])))"
   ]
  },
  {
   "cell_type": "code",
   "execution_count": 29,
   "id": "90fd11a4-3c78-4a7c-bbe4-552681e76e85",
   "metadata": {},
   "outputs": [],
   "source": [
    "pro_s1d1 = input_train_mod1[input_train_mod1.obs[\"batch\"] == \"s1d1\", :]\n",
    "pro_s1d2 = input_train_mod1[input_train_mod1.obs[\"batch\"] == \"s1d2\", :]\n",
    "pro_s1d3 = input_train_mod1[input_train_mod1.obs[\"batch\"] == \"s1d3\", :]\n",
    "pro_s2d1 = input_train_mod1[input_train_mod1.obs[\"batch\"] == \"s2d1\", :]\n",
    "pro_s2d4 = input_train_mod1[input_train_mod1.obs[\"batch\"] == \"s2d4\", :]\n",
    "pro_s2d5 = input_train_mod1[input_train_mod1.obs[\"batch\"] == \"s2d5\", :]\n",
    "\n",
    "pro_s3d1 = input_train_mod1[input_train_mod1.obs[\"batch\"] == \"s3d1\", :]\n",
    "pro_s3d6 = input_train_mod1[input_train_mod1.obs[\"batch\"] == \"s3d6\", :]\n",
    "pro_s3d7 = input_train_mod1[input_train_mod1.obs[\"batch\"] == \"s3d7\", :]"
   ]
  },
  {
   "cell_type": "code",
   "execution_count": 30,
   "id": "2421ef06-d910-4b1c-8a4c-72d6d79a4e91",
   "metadata": {},
   "outputs": [],
   "source": [
    "RNA_s1d1 = input_train_mod1[input_train_mod2.obs[\"batch\"] == \"s1d1\", :]\n",
    "RNA_s1d2 = input_train_mod1[input_train_mod2.obs[\"batch\"] == \"s1d2\", :]\n",
    "RNA_s1d3 = input_train_mod1[input_train_mod2.obs[\"batch\"] == \"s1d3\", :]\n",
    "RNA_s2d1 = input_train_mod1[input_train_mod2.obs[\"batch\"] == \"s2d1\", :]\n",
    "RNA_s2d4 = input_train_mod1[input_train_mod2.obs[\"batch\"] == \"s2d4\", :]\n",
    "RNA_s2d5 = input_train_mod1[input_train_mod2.obs[\"batch\"] == \"s2d5\", :]\n",
    "\n",
    "RNA_s3d1 = input_train_mod1[input_train_mod2.obs[\"batch\"] == \"s3d1\", :]\n",
    "RNA_s3d6 = input_train_mod1[input_train_mod2.obs[\"batch\"] == \"s3d6\", :]\n",
    "RNA_s3d7 = input_train_mod1[input_train_mod2.obs[\"batch\"] == \"s3d7\", :]"
   ]
  },
  {
   "cell_type": "code",
   "execution_count": 31,
   "id": "05578a34-ffe3-4573-9c29-e0154215f98d",
   "metadata": {},
   "outputs": [],
   "source": [
    "pro_s1d1 = pro_s1d1.X.toarray()\n",
    "pro_s1d2 = pro_s1d2.X.toarray()\n",
    "pro_s1d3 = pro_s1d3.X.toarray()\n",
    "pro_s2d1 = pro_s2d1.X.toarray()\n",
    "pro_s2d4 = pro_s2d4.X.toarray()\n",
    "pro_s2d5 = pro_s2d5.X.toarray()\n",
    "\n",
    "pro_s3d1 = pro_s3d1.X.toarray()\n",
    "pro_s3d6 = pro_s3d6.X.toarray()\n",
    "pro_s3d7 = pro_s3d7.X.toarray()"
   ]
  },
  {
   "cell_type": "code",
   "execution_count": 32,
   "id": "a31783a8-2ae5-4c5c-877e-1c06143b1264",
   "metadata": {},
   "outputs": [],
   "source": [
    "RNA_s1d1 = RNA_s1d1.X.toarray()\n",
    "RNA_s1d2 = RNA_s1d2.X.toarray()\n",
    "RNA_s1d3 = RNA_s1d3.X.toarray()\n",
    "RNA_s2d1 = RNA_s2d1.X.toarray()\n",
    "RNA_s2d4 = RNA_s2d4.X.toarray()\n",
    "RNA_s2d5 = RNA_s2d5.X.toarray()\n",
    "\n",
    "RNA_s3d1 = RNA_s3d1.X.toarray()\n",
    "RNA_s3d6 = RNA_s3d6.X.toarray()\n",
    "RNA_s3d7 = RNA_s3d7.X.toarray()"
   ]
  },
  {
   "cell_type": "code",
   "execution_count": 34,
   "id": "6e0c0f5b-57d2-4ce1-a617-f559aaf395ef",
   "metadata": {},
   "outputs": [
    {
     "data": {
      "text/plain": [
       "0.8960458"
      ]
     },
     "execution_count": 34,
     "metadata": {},
     "output_type": "execute_result"
    }
   ],
   "source": [
    "pro_s1d1_mean = np.mean(pro_s1d1)\n",
    "pro_s1d1_mean"
   ]
  },
  {
   "cell_type": "code",
   "execution_count": 36,
   "id": "4715dd3f-2948-4a84-bf01-089e5260b766",
   "metadata": {},
   "outputs": [
    {
     "name": "stdout",
     "output_type": "stream",
     "text": [
      "[[0.15437832 0.15437832 1.3004414  0.         0.40599617]\n",
      " [1.2411374  0.27233985 0.9930009  0.83153933 0.7073151 ]\n",
      " [0.         0.22376126 1.3568352  0.         0.22376126]\n",
      " [0.         0.11041228 0.92330563 0.3831878  2.3908489 ]\n",
      " [0.11822677 0.630471   0.91868454 0.4067957  0.7558843 ]]\n",
      "[[-0.7416675  -0.7416675   0.40439558 -0.8960458  -0.49004963]\n",
      " [ 0.34509158 -0.623706    0.09695512 -0.06450647 -0.18873072]\n",
      " [-0.8960458  -0.67228454  0.46078944 -0.8960458  -0.67228454]\n",
      " [-0.8960458  -0.7856335   0.02725983 -0.51285803  1.4948031 ]\n",
      " [-0.77781904 -0.2655748   0.02263874 -0.4892501  -0.14016151]]\n"
     ]
    }
   ],
   "source": [
    "train_input = [RNA_s1d1, RNA_s1d2, RNA_s1d3, RNA_s2d1, RNA_s2d4, RNA_s2d5]\n",
    "train_output = [pro_s1d1, pro_s1d2, pro_s1d3, pro_s2d1, pro_s2d4, pro_s2d5]\n",
    "\n",
    "test_input = [RNA_s3d1, RNA_s3d6, RNA_s3d7]\n",
    "test_output = [pro_s3d1, pro_s3d6, pro_s3d7]"
   ]
  },
  {
   "cell_type": "code",
   "execution_count": null,
   "id": "6b5beb5e-e4ef-49b2-8c99-7b10c6e4bb56",
   "metadata": {},
   "outputs": [],
   "source": [
    "# standardize based on each batch\n",
    "for i in range(len(train_input)):\n",
    "    train_input[i] = (train_input[i]-np.mean(train_input[i]))/np.std(train_input[i])\n",
    "\n",
    "for i in range(len(train_output)):\n",
    "    train_output[i] = (train_output[i]-np.mean(train_output[i]))/np.std(train_output[i])\n",
    "\n",
    "for i in range(len(val_input)):\n",
    "    val_input[i] = (val_input[i]-np.mean(val_input[i]))/np.std(val_input[i])\n",
    "\n",
    "for i in range(len(val_output)):\n",
    "    val_output[i] = (val_output[i]-np.mean(val_output[i]))/np.std(val_output[i])"
   ]
  },
  {
   "cell_type": "code",
   "execution_count": null,
   "id": "8d5ab06e-266c-4018-bd64-18de7fdf44c9",
   "metadata": {},
   "outputs": [],
   "source": [
    "train_input = np.concatenate(train_input, axis=0)\n",
    "val_input = np.concatenate(val_input, axis=0)\n",
    "\n",
    "train_output = np.concatenate(train_output, axis=0)\n",
    "val_output = np.concatenate(val_output, axis=0)"
   ]
  },
  {
   "cell_type": "code",
   "execution_count": null,
   "id": "53eaa25a-5cf1-4cc1-ac12-b74c69ce16dd",
   "metadata": {},
   "outputs": [],
   "source": [
    "train_input = torch.from_numpy(train_input)\n",
    "train_output = torch.from_numpy(train_output)\n",
    "val_input = torch.from_numpy(val_input)\n",
    "val_output = torch.from_numpy(val_output)"
   ]
  },
  {
   "cell_type": "code",
   "execution_count": null,
   "id": "21fc65f8-d208-4cdf-856b-507176f0038f",
   "metadata": {},
   "outputs": [],
   "source": [
    "train_input = train_input.float()\n",
    "train_output = train_output.float()\n",
    "val_input = val_input.float()\n",
    "val_output = val_output.float()"
   ]
  },
  {
   "cell_type": "code",
   "execution_count": null,
   "id": "e888407e-e96a-4b74-a80f-34c16e4d105d",
   "metadata": {},
   "outputs": [],
   "source": [
    "num_epochs = 500\n",
    "learning_rate = 0.01\n",
    "latent_dim = 50\n",
    "loss_fn = F.mse_loss\n",
    "batch_size = 8"
   ]
  },
  {
   "cell_type": "code",
   "execution_count": null,
   "id": "61de4cdc-92aa-4b36-a797-0dd62fcdb44f",
   "metadata": {},
   "outputs": [],
   "source": [
    "train_ds = TensorDataset(train_input, train_output)\n",
    "train_dl = DataLoader(train_ds, batch_size= batch_size, shuffle=True)"
   ]
  },
  {
   "cell_type": "code",
   "execution_count": null,
   "id": "b53502d6-45ac-408d-9a82-c565a5e87c22",
   "metadata": {},
   "outputs": [],
   "source": [
    "input_feature = train_input.shape[1]\n",
    "output_feature = train_output.shape[1]"
   ]
  },
  {
   "cell_type": "code",
   "execution_count": 37,
   "id": "cdfef524-ca23-472a-b70c-b521da8bb101",
   "metadata": {},
   "outputs": [],
   "source": [
    "# auto-encoder model\n",
    "# base model\n",
    "class Autoencoder(nn.Module):\n",
    "    def __init__(self):\n",
    "        super(Autoencoder, self).__init__()\n",
    "        self.linear1 = nn.Linear(input_feature, input_feature//2)\n",
    "        self.linear2 = nn.Linear(input_feature//2, input_feature//4)\n",
    "        self.linear3 = nn.Linear(input_feature//4, input_feature//8)\n",
    "        self.linear4 = nn.Linear(input_feature//8, input_feature//16)\n",
    "        \n",
    "        self.linear5 = nn.Linear(input_feature//16, output_feature)\n",
    "        self.relu = nn.ReLU()\n",
    "        self.leakyrelu = LeakyReLU(0.1)\n",
    "        self.dropout = nn.Dropout(0.15)\n",
    "\n",
    "    def forward(self, x):\n",
    "        x = self.linear1(x)\n",
    "        x = self.relu(x)\n",
    "        x = self.dropout(x)\n",
    "        \n",
    "        x = self.linear2(x)\n",
    "        x = self.relu(x)\n",
    "        x = self.dropout(x)\n",
    "        \n",
    "        x = self.linear3(x)\n",
    "        x = self.relu(x)\n",
    "        x = self.dropout(x)\n",
    "        \n",
    "        x = self.linear4(x)\n",
    "        x = self.relu(x)\n",
    "        x = self.dropout(x)\n",
    "        \n",
    "        x = self.linear5(x)\n",
    "        output = self.relu(x)\n",
    "        \n",
    "        return output.float()"
   ]
  },
  {
   "cell_type": "code",
   "execution_count": null,
   "id": "1a53dd89-ac85-4b11-bc7c-7e8df4ef8e10",
   "metadata": {},
   "outputs": [],
   "source": [
    "def fit(num_epochs, model, loss_fn):\n",
    "    val_min_loss = float('inf')\n",
    "    counter = 0\n",
    "    for epoch in range(num_epochs):\n",
    "        for x,y in train_dl:\n",
    "            model = model.train()\n",
    "            pred = model(x)\n",
    "            loss = loss_fn(pred)\n",
    "            loss = torch.sqrt(loss)\n",
    "#             loss = loss.float()\n",
    "            loss.backward()\n",
    "            opt.step()\n",
    "            opt.zero_grad()\n",
    "\n",
    "        if epoch % 100 == 0:\n",
    "            loss = loss.cpu().detach().numpy()\n",
    "            model = model.eval()\n",
    "            \n",
    "            train_pred = model(train_input)\n",
    "            train_loss = loss_fn(train_pred, train_targets)\n",
    "            train_loss = torch.sqrt(train_loss)\n",
    "            train_loss = train_loss.cpu().detach().numpy()\n",
    "            \n",
    "            val_pred = model(val_input)\n",
    "            val_loss = loss_fn(val_pred, val_output)\n",
    "            val_loss = torch.sqrt(val_loss)\n",
    "            val_loss = val_loss.cpu().detach().numpy()\n",
    "            \n",
    "#             test_pred = model(test_inputs)\n",
    "#             test_loss = loss_fn(test_pred, test_targets)\n",
    "#             test_loss = torch.sqrt(test_loss)\n",
    "#             test_loss = test_loss.cpu().detach().numpy()\n",
    "\n",
    "            print('Epoch ', epoch, 'Train_loss: ', train_loss, ' Validation_loss: ', val_loss)\n",
    "    \n",
    "    return train_pred, val_pred, test_pred"
   ]
  },
  {
   "cell_type": "code",
   "execution_count": null,
   "id": "b235fbed-2ad7-4eba-8f5a-55d15ef7b797",
   "metadata": {},
   "outputs": [],
   "source": [
    "model = Autoencoder()\n",
    "opt = torch.optim.SGD(model.parameters(), lr=learning_rate)\n",
    "fit(num_epochs, model, loss_fn)"
   ]
  },
  {
   "cell_type": "code",
   "execution_count": null,
   "id": "9345b50c-d175-4196-91e8-5ebb194bf136",
   "metadata": {},
   "outputs": [],
   "source": [
    "# model without relu in last layer\n",
    "class Autoencoder_2(nn.Module):\n",
    "    def __init__(self):\n",
    "        super(Autoencoder_2, self).__init__()\n",
    "        self.linear1 = nn.Linear(input_feature, input_feature//2)\n",
    "        self.linear2 = nn.Linear(input_feature//2, input_feature//4)\n",
    "        self.linear3 = nn.Linear(input_feature//4, input_feature//8)\n",
    "        self.linear4 = nn.Linear(input_feature//8, input_feature//16)\n",
    "        \n",
    "        self.linear5 = nn.Linear(input_feature//16, output_feature)\n",
    "        self.relu = nn.ReLU()\n",
    "        self.leakyrelu = LeakyReLU(0.1)\n",
    "        self.dropout = nn.Dropout(0.15)\n",
    "\n",
    "    def forward(self, x):\n",
    "        x = self.linear1(x)\n",
    "        x = self.leakyrelu(x)\n",
    "        x = self.dropout(x)\n",
    "        \n",
    "        x = self.linear2(x)\n",
    "        x = self.leakyrelu(x)\n",
    "        x = self.dropout(x)\n",
    "        \n",
    "        x = self.linear3(x)\n",
    "        x = self.leakyrelu(x)\n",
    "        x = self.dropout(x)\n",
    "        \n",
    "        x = self.linear4(x)\n",
    "        x = self.leakyrelu(x)\n",
    "        x = self.dropout(x)\n",
    "        \n",
    "        x = self.linear5(x)\n",
    "        output = self.relu(x)\n",
    "        \n",
    "        return output.float()"
   ]
  },
  {
   "cell_type": "code",
   "execution_count": null,
   "id": "65c4cc70-97bb-4b49-8bbc-3934d090547f",
   "metadata": {},
   "outputs": [],
   "source": [
    "model = Autoencoder_2()\n",
    "opt = torch.optim.SGD(model.parameters(), lr=learning_rate)\n",
    "fit(num_epochs, model, loss_fn)"
   ]
  },
  {
   "cell_type": "code",
   "execution_count": null,
   "id": "1fb9a462-73f7-4775-ac20-da90ef000a7a",
   "metadata": {},
   "outputs": [],
   "source": [
    "# model with leakyrelu activation function\n",
    "class Autoencoder_3(nn.Module):\n",
    "    def __init__(self):\n",
    "        super(Autoencoder_3, self).__init__()\n",
    "        self.linear1 = nn.Linear(input_feature, input_feature//2)\n",
    "        self.linear2 = nn.Linear(input_feature//2, input_feature//4)\n",
    "        self.linear3 = nn.Linear(input_feature//4, input_feature//8)\n",
    "        self.linear4 = nn.Linear(input_feature//8, input_feature//16)\n",
    "        \n",
    "        self.linear5 = nn.Linear(input_feature//16, output_feature)\n",
    "        self.relu = nn.ReLU()\n",
    "        self.leakyrelu = LeakyReLU(0.1)\n",
    "        self.dropout = nn.Dropout(0.15)\n",
    "\n",
    "    def forward(self, x):\n",
    "        x = self.linear1(x)\n",
    "        x = self.leakyrelu(x)\n",
    "        x = self.dropout(x)\n",
    "        \n",
    "        x = self.linear2(x)\n",
    "        x = self.leakyrelu(x)\n",
    "        x = self.dropout(x)\n",
    "        \n",
    "        x = self.linear3(x)\n",
    "        x = self.leakyrelu(x)\n",
    "        x = self.dropout(x)\n",
    "        \n",
    "        x = self.linear4(x)\n",
    "        x = self.leakyrelu(x)\n",
    "        x = self.dropout(x)\n",
    "        \n",
    "        output = self.linear5(x)\n",
    "        \n",
    "        return output.float()"
   ]
  },
  {
   "cell_type": "code",
   "execution_count": null,
   "id": "39ed0dc6-6122-4632-adf7-2d6e9bccf033",
   "metadata": {},
   "outputs": [],
   "source": [
    "model = Autoencoder_3()\n",
    "opt = torch.optim.SGD(model.parameters(), lr=learning_rate)\n",
    "fit(num_epochs, model, loss_fn)"
   ]
  },
  {
   "cell_type": "code",
   "execution_count": null,
   "id": "410f9685-fd87-4770-9d41-14b28d41f6d8",
   "metadata": {},
   "outputs": [],
   "source": [
    "# resnet model\n",
    "class Autoencoder_4(nn.Module):\n",
    "    def __init__(self):\n",
    "        super(Autoencoder_4, self).__init__()\n",
    "        self.linear1 = nn.Linear(input_feature, input_feature//2)\n",
    "        self.linear2 = nn.Linear(input_feature//2, input_feature//4)\n",
    "        self.linear3 = nn.Linear(input_feature//2, input_feature//8)\n",
    "        self.linear4 = nn.Linear(input_feature, input_feature//8)\n",
    "        \n",
    "        self.linear5 = nn.Linear(input_feature//4, input_feature//16)\n",
    "        self.linear6 = nn.Linear(input_feature, input_feature//4)\n",
    "        self.linear7 = nn.Linear(input_feature//16, output_feature)\n",
    "        \n",
    "        self.relu = nn.ReLU()\n",
    "        self.leakyrelu = LeakyReLU(0.1)\n",
    "        self.dropout = nn.Dropout(0.15)\n",
    "\n",
    "    def forward(self, x):\n",
    "        x1 = self.linear1(x)\n",
    "        x1 = self.leakyrelu(x1)\n",
    "        x1 = self.dropout(x1) # input_feature//2\n",
    "        x1 = self.linear1(x1)\n",
    "        x1 = self.leakyrelu(x1)\n",
    "        x1 = self.dropout(x1) # input_feature//4\n",
    "        \n",
    "        x2 = self.linear6(x) # input_feature//4\n",
    "        x2 = self.leakyreelu(x2)\n",
    "        x2 = self.dropout(x2) # input_feature//4\n",
    "        \n",
    "        x3 = np.concatenate([x1, x2], axis=1) # input_feature//2\n",
    "        x3 = self.leakyrelu(x3)\n",
    "        x3 = self.dropout(x3)\n",
    "        \n",
    "        x4 = self.linear3(x3) # input_feature//8\n",
    "        x5 = self.linear4(x) # input_feature//8\n",
    "        x6 = np.concatenate([x4, x5], axis=1) # input_feature//4\n",
    "        x6 = self.leakyrelu(x6)\n",
    "        x6 = self.dropout(x6)\n",
    "        \n",
    "        x7 = self.linear5(x6) # input_feature//16\n",
    "        x7 = self.leakyrelu(x7)\n",
    "        x7 = self.dropout(x7)\n",
    "        \n",
    "        output = self.linear7(x7)\n",
    "        \n",
    "        return output.float()"
   ]
  },
  {
   "cell_type": "code",
   "execution_count": null,
   "id": "bf24ace5-d04d-4daa-9bd0-3ab94ce5ed6b",
   "metadata": {},
   "outputs": [],
   "source": [
    "model = Autoencoder_4()\n",
    "opt = torch.optim.SGD(model.parameters(), lr=learning_rate)\n",
    "fit(num_epochs, model, loss_fn)"
   ]
  },
  {
   "cell_type": "code",
   "execution_count": null,
   "id": "8a97efe9-5849-4bbe-ab8d-181f46c7e4c2",
   "metadata": {},
   "outputs": [],
   "source": [
    "torch.save(model.state_dict(), model_path)\n",
    "model = Autoencoder_model()\n",
    "model.load_state_dict(torch.load(model_path))\n",
    "model.eval()\n",
    "pred = model(test_inputs)\n",
    "pred = pred.detach().numpy()"
   ]
  },
  {
   "cell_type": "code",
   "execution_count": null,
   "id": "2988a973-a03d-447f-bfd4-402a87efe04e",
   "metadata": {},
   "outputs": [],
   "source": [
    "plt.rcParams['figure.figsize'] = [40, 40]\n",
    "figure, axis = plt.subplots(5, 5)\n",
    "\n",
    "for i in range(25):\n",
    "    y_true = test_y[:, i]\n",
    "    y_pred = test_error[:, i] + test_y[:, i]\n",
    "    max_ = max(max(y_true), max(y_pred))\n",
    "    axis[i//5, i%5].scatter(y_true, y_pred)\n",
    "    axis[i//5, i%5].plot([0, 5], [0, 5], 'k-')\n",
    "    axis[i//5, i%5].set_xlim([0, max_])\n",
    "    axis[i//5, i%5].set_ylim([0, max_])\n",
    "    axis[i//5, i%5].set_title('Gene ' + ' ' + str(i) + ' mean square error ' + str(train_error_square_mean[i]))\n",
    "    axis[i//5, i%5].set_xlabel('y_true')\n",
    "    axis[i//5, i%5].set_ylabel('y_pred')\n",
    "    axis[i//5, i%5].set_xlim((0, 5))\n",
    "    axis[i//5, i%5].set_ylim((0, 5))\n",
    "plt.show()"
   ]
  }
 ],
 "metadata": {
  "kernelspec": {
   "display_name": "deep_nmf",
   "language": "python",
   "name": "deep_nmf"
  },
  "language_info": {
   "codemirror_mode": {
    "name": "ipython",
    "version": 3
   },
   "file_extension": ".py",
   "mimetype": "text/x-python",
   "name": "python",
   "nbconvert_exporter": "python",
   "pygments_lexer": "ipython3",
   "version": "3.9.7"
  }
 },
 "nbformat": 4,
 "nbformat_minor": 5
}
