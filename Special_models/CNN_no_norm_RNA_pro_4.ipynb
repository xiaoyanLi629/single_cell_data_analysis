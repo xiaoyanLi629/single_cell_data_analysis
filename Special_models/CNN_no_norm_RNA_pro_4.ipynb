{
 "cells": [
  {
   "cell_type": "code",
   "execution_count": 1,
   "id": "28ee873a-61f9-4b39-8cb7-4cca1bd3a8a9",
   "metadata": {},
   "outputs": [],
   "source": [
    "import anndata as ad\n",
    "import gc\n",
    "import sys\n",
    "from scipy.sparse import csc_matrix\n",
    "from sklearn.model_selection import train_test_split\n",
    "from sklearn.decomposition import TruncatedSVD\n",
    "from sklearn.linear_model import LinearRegression\n",
    "import random\n",
    "import numpy as np\n",
    "import time\n",
    "import torch\n",
    "import torch.nn as nn\n",
    "import torch.nn.functional as F\n",
    "from torch.utils.data import TensorDataset, DataLoader\n",
    "import matplotlib.pyplot as plt\n",
    "import pickle\n",
    "import heapq\n",
    "import matplotlib\n",
    "import os\n",
    "import umap\n",
    "from sklearn.decomposition import PCA\n",
    "import pandas as pd"
   ]
  },
  {
   "cell_type": "code",
   "execution_count": 2,
   "id": "2f00d205-67e3-4548-a567-5c45c1431b1c",
   "metadata": {},
   "outputs": [
    {
     "name": "stdout",
     "output_type": "stream",
     "text": [
      "cuda\n"
     ]
    }
   ],
   "source": [
    "device = torch.device(\"cuda\" if torch.cuda.is_available() else \"cpu\")\n",
    "print(device)\n",
    "random.seed(1)\n",
    "np.random.seed(1)\n",
    "torch.manual_seed(1)\n",
    "\n",
    "batch_size = 5000\n",
    "pred_num = 1"
   ]
  },
  {
   "cell_type": "code",
   "execution_count": 3,
   "id": "c8571524-866b-4e96-8565-e7679e648fc8",
   "metadata": {},
   "outputs": [],
   "source": [
    "train_mod1_file = 'phase2_private_data/predict_modality/openproblems_bmmc_cite_phase2_rna/openproblems_bmmc_cite_phase2_rna.censor_dataset.output_train_mod1.h5ad'\n",
    "train_mod2_file = 'phase2_private_data/predict_modality/openproblems_bmmc_cite_phase2_rna/openproblems_bmmc_cite_phase2_rna.censor_dataset.output_train_mod2.h5ad'\n",
    "test_mod1_file = 'phase2_private_data/predict_modality/openproblems_bmmc_cite_phase2_rna/openproblems_bmmc_cite_phase2_rna.censor_dataset.output_test_mod1.h5ad'\n",
    "test_mod2_file = 'phase2_private_data/predict_modality/openproblems_bmmc_cite_phase2_rna/openproblems_bmmc_cite_phase2_rna.censor_dataset.output_test_mod2.h5ad'"
   ]
  },
  {
   "cell_type": "code",
   "execution_count": 4,
   "id": "e1003672-e58f-4536-88e5-b43ce4459f5b",
   "metadata": {},
   "outputs": [],
   "source": [
    "input_train_mod1 = ad.read_h5ad(train_mod1_file)\n",
    "input_train_mod2 = ad.read_h5ad(train_mod2_file)\n",
    "input_test_mod1 = ad.read_h5ad(test_mod1_file)\n",
    "input_test_mod2 = ad.read_h5ad(test_mod2_file)"
   ]
  },
  {
   "cell_type": "code",
   "execution_count": 5,
   "id": "8bb3ff4e-2d60-4edc-b20c-f8eecbd8647e",
   "metadata": {},
   "outputs": [
    {
     "name": "stdout",
     "output_type": "stream",
     "text": [
      "AnnData object with n_obs × n_vars = 66175 × 13953\n",
      "    obs: 'batch', 'size_factors'\n",
      "    var: 'gene_ids', 'feature_types'\n",
      "    uns: 'dataset_id', 'organism'\n",
      "    layers: 'counts'\n",
      "AnnData object with n_obs × n_vars = 66175 × 134\n",
      "    obs: 'batch', 'size_factors'\n",
      "    var: 'feature_types'\n",
      "    uns: 'dataset_id', 'organism'\n",
      "    layers: 'counts'\n",
      "AnnData object with n_obs × n_vars = 1000 × 13953\n",
      "    obs: 'batch', 'size_factors'\n",
      "    var: 'gene_ids', 'feature_types'\n",
      "    uns: 'dataset_id', 'organism'\n",
      "    layers: 'counts'\n",
      "AnnData object with n_obs × n_vars = 1000 × 134\n",
      "    obs: 'batch', 'size_factors'\n",
      "    var: 'feature_types'\n",
      "    uns: 'dataset_id', 'organism'\n",
      "    layers: 'counts'\n"
     ]
    }
   ],
   "source": [
    "print(input_train_mod1)\n",
    "print(input_train_mod2)\n",
    "print(input_test_mod1)\n",
    "print(input_test_mod2)"
   ]
  },
  {
   "cell_type": "code",
   "execution_count": 6,
   "id": "4b1f7ad0-24d9-4d07-ab91-c9b1c9928c7b",
   "metadata": {},
   "outputs": [
    {
     "name": "stdout",
     "output_type": "stream",
     "text": [
      "['s1d1', 's1d2', 's1d3', 's2d1', 's2d4', 's2d5', 's3d1', 's3d6', 's3d7']\n",
      "['s1d1', 's1d2', 's1d3', 's2d1', 's2d4', 's2d5', 's3d1', 's3d6', 's3d7']\n"
     ]
    }
   ],
   "source": [
    "print(sorted(set(input_train_mod1.obs['batch'])))\n",
    "print(sorted(set(input_train_mod2.obs['batch'])))"
   ]
  },
  {
   "cell_type": "code",
   "execution_count": 7,
   "id": "88721876-d226-4bce-a6ea-a34e990954d4",
   "metadata": {},
   "outputs": [
    {
     "name": "stdout",
     "output_type": "stream",
     "text": [
      "['s4d1', 's4d8', 's4d9']\n",
      "['s4d1', 's4d8', 's4d9']\n"
     ]
    }
   ],
   "source": [
    "print(sorted(set(input_test_mod1.obs['batch'])))\n",
    "print(sorted(set(input_test_mod2.obs['batch'])))"
   ]
  },
  {
   "cell_type": "code",
   "execution_count": 8,
   "id": "90fd11a4-3c78-4a7c-bbe4-552681e76e85",
   "metadata": {},
   "outputs": [],
   "source": [
    "mod2_s1d1 = input_train_mod2[input_train_mod2.obs[\"batch\"] == \"s1d1\", :]\n",
    "mod2_s1d2 = input_train_mod2[input_train_mod2.obs[\"batch\"] == \"s1d2\", :]\n",
    "mod2_s1d3 = input_train_mod2[input_train_mod2.obs[\"batch\"] == \"s1d3\", :]\n",
    "mod2_s2d1 = input_train_mod2[input_train_mod2.obs[\"batch\"] == \"s2d1\", :]\n",
    "mod2_s2d4 = input_train_mod2[input_train_mod2.obs[\"batch\"] == \"s2d4\", :]\n",
    "mod2_s2d5 = input_train_mod2[input_train_mod2.obs[\"batch\"] == \"s2d5\", :]\n",
    "\n",
    "mod2_s3d1 = input_train_mod2[input_train_mod2.obs[\"batch\"] == \"s3d1\", :]\n",
    "mod2_s3d6 = input_train_mod2[input_train_mod2.obs[\"batch\"] == \"s3d6\", :]\n",
    "mod2_s3d7 = input_train_mod2[input_train_mod2.obs[\"batch\"] == \"s3d7\", :]\n",
    "\n",
    "mod2_s4d1 = input_test_mod2[input_test_mod2.obs[\"batch\"] == \"s4d1\", :]\n",
    "mod2_s4d8 = input_test_mod2[input_test_mod2.obs[\"batch\"] == \"s4d8\", :]\n",
    "mod2_s4d9 = input_test_mod2[input_test_mod2.obs[\"batch\"] == \"s4d9\", :]"
   ]
  },
  {
   "cell_type": "code",
   "execution_count": 9,
   "id": "05578a34-ffe3-4573-9c29-e0154215f98d",
   "metadata": {},
   "outputs": [],
   "source": [
    "mod2_s1d1 = mod2_s1d1.X.toarray()\n",
    "mod2_s1d2 = mod2_s1d2.X.toarray()\n",
    "mod2_s1d3 = mod2_s1d3.X.toarray()\n",
    "mod2_s2d1 = mod2_s2d1.X.toarray()\n",
    "mod2_s2d4 = mod2_s2d4.X.toarray()\n",
    "mod2_s2d5 = mod2_s2d5.X.toarray()\n",
    "\n",
    "mod2_s3d1 = mod2_s3d1.X.toarray()\n",
    "mod2_s3d6 = mod2_s3d6.X.toarray()\n",
    "mod2_s3d7 = mod2_s3d7.X.toarray()\n",
    "\n",
    "mod2_s4d1 = mod2_s4d1.X.toarray()\n",
    "mod2_s4d8 = mod2_s4d8.X.toarray()\n",
    "mod2_s4d9 = mod2_s4d9.X.toarray()"
   ]
  },
  {
   "cell_type": "code",
   "execution_count": 10,
   "id": "6ff81839-2fc0-4aaa-ae40-df8b8926322a",
   "metadata": {},
   "outputs": [
    {
     "name": "stdout",
     "output_type": "stream",
     "text": [
      "(4721, 134)\n",
      "(334, 134)\n"
     ]
    }
   ],
   "source": [
    "print(mod2_s1d1.shape)\n",
    "print(mod2_s4d1.shape)"
   ]
  },
  {
   "cell_type": "code",
   "execution_count": 11,
   "id": "adc07f9a-ae8a-4689-a618-d3f7fc47b080",
   "metadata": {},
   "outputs": [],
   "source": [
    "start = time.perf_counter()\n",
    "\n",
    "# mod1_train = pd.read_csv('RNA_gex.combined.csv')\n",
    "\n",
    "# end = time.perf_counter()\n",
    "# print(f'Loading data finished in {(end-start)/60} mins')\n",
    "\n",
    "# mod1_train = mod1_train.transpose()\n",
    "# mod1_train['batch'] = mod1_train.index.str[-4:]\n",
    "# mod1_train = mod1_train.iloc[1:, :]\n",
    "# mod1_train.reset_index(drop=True, inplace=True)\n",
    "# mod1_train = mod1_train.drop(9941, axis=1)"
   ]
  },
  {
   "cell_type": "code",
   "execution_count": 12,
   "id": "fb600d7c-c39b-493b-afa6-cb415137aa88",
   "metadata": {},
   "outputs": [],
   "source": [
    "# start = time.perf_counter()\n",
    "# mod1_train.to_pickle(\"./mod1_train_RNA_featurs.pkl\")\n",
    "# end = time.perf_counter()\n",
    "# print(f'Writing data finished in {(end-start)/60} mins')"
   ]
  },
  {
   "cell_type": "code",
   "execution_count": 13,
   "id": "17399efa-abfb-41a9-8a5a-8d10dfd0c407",
   "metadata": {},
   "outputs": [
    {
     "name": "stdout",
     "output_type": "stream",
     "text": [
      "Loading data finished in 0.6524852050002664 mins\n"
     ]
    }
   ],
   "source": [
    "start = time.perf_counter()\n",
    "mod1_train = pd.read_pickle(\"./mod1_train_RNA_featurs.pkl\")\n",
    "end = time.perf_counter()\n",
    "print(f'Loading data finished in {(end-start)/60} mins')"
   ]
  },
  {
   "cell_type": "markdown",
   "id": "56af4151-a2fe-4605-a812-7ad401245665",
   "metadata": {},
   "source": [
    "Batches:\n",
    "\n",
    "Train: ['s1d1', 's1d2', 's1d3', 's2d1', 's2d4', 's2d5', 's3d1', 's3d6', 's3d7']\n",
    "\n",
    "Test: ['s4d1', 's4d8', 's4d9']"
   ]
  },
  {
   "cell_type": "code",
   "execution_count": 14,
   "id": "82e58801-1cc2-4b39-9d24-b65fa693811d",
   "metadata": {},
   "outputs": [],
   "source": [
    "mod1_s1d1 = mod1_train[mod1_train['batch'] == 's1d1']\n",
    "mod1_s1d2 = mod1_train[mod1_train['batch'] == 's1d2']\n",
    "mod1_s1d3 = mod1_train[mod1_train['batch'] == 's1d3']\n",
    "mod1_s2d1 = mod1_train[mod1_train['batch'] == 's2d1']\n",
    "mod1_s2d4 = mod1_train[mod1_train['batch'] == 's2d4']\n",
    "mod1_s2d5 = mod1_train[mod1_train['batch'] == 's2d5']\n",
    "mod1_s3d1 = mod1_train[mod1_train['batch'] == 's3d1']\n",
    "mod1_s3d6 = mod1_train[mod1_train['batch'] == 's3d6']\n",
    "mod1_s3d7 = mod1_train[mod1_train['batch'] == 's3d7']"
   ]
  },
  {
   "cell_type": "code",
   "execution_count": 15,
   "id": "d5e7f596-123b-4fc7-9298-db0064ae188d",
   "metadata": {},
   "outputs": [],
   "source": [
    "mod1_s4d1 = mod1_train[mod1_train['batch'] == 's4d1']\n",
    "mod1_s4d8 = mod1_train[mod1_train['batch'] == 's4d8']\n",
    "mod1_s4d9 = mod1_train[mod1_train['batch'] == 's4d9']"
   ]
  },
  {
   "cell_type": "code",
   "execution_count": 16,
   "id": "934ebd8d-b467-41f5-bbcb-350b71ac6d3a",
   "metadata": {},
   "outputs": [],
   "source": [
    "batch_s1d1 = mod1_s1d1[\"batch\"]\n",
    "batch_s1d2 = mod1_s1d2[\"batch\"]\n",
    "batch_s1d3 = mod1_s1d3[\"batch\"]\n",
    "batch_s2d1 = mod1_s2d1[\"batch\"]\n",
    "batch_s2d4 = mod1_s2d4[\"batch\"]\n",
    "batch_s2d5 = mod1_s2d5[\"batch\"]\n",
    "\n",
    "batch_s3d1 = mod1_s3d1[\"batch\"]\n",
    "batch_s3d6 = mod1_s3d6[\"batch\"]\n",
    "batch_s3d7 = mod1_s3d7[\"batch\"]\n",
    "\n",
    "batch_s4d1 = mod1_s4d1[\"batch\"]\n",
    "batch_s4d8 = mod1_s4d8[\"batch\"]\n",
    "batch_s4d9 = mod1_s4d9[\"batch\"]"
   ]
  },
  {
   "cell_type": "code",
   "execution_count": 17,
   "id": "4f3215bd-fa30-4310-8247-b37d32dcff4e",
   "metadata": {},
   "outputs": [],
   "source": [
    "mod1_s1d1 = mod1_s1d1.drop('batch', axis=1)\n",
    "mod1_s1d2 = mod1_s1d2.drop('batch', axis=1)\n",
    "mod1_s1d3 = mod1_s1d3.drop('batch', axis=1)\n",
    "mod1_s2d1 = mod1_s2d1.drop('batch', axis=1)\n",
    "mod1_s2d4 = mod1_s2d4.drop('batch', axis=1)\n",
    "mod1_s2d5 = mod1_s2d5.drop('batch', axis=1)\n",
    "\n",
    "mod1_s3d1 = mod1_s3d1.drop('batch', axis=1)\n",
    "mod1_s3d6 = mod1_s3d6.drop('batch', axis=1)\n",
    "mod1_s3d7 = mod1_s3d7.drop('batch', axis=1)\n",
    "\n",
    "mod1_s4d1 = mod1_s4d1.drop('batch', axis=1)\n",
    "mod1_s4d8 = mod1_s4d8.drop('batch', axis=1)\n",
    "mod1_s4d9 = mod1_s4d9.drop('batch', axis=1)"
   ]
  },
  {
   "cell_type": "code",
   "execution_count": 18,
   "id": "f65173c2-b0e1-4020-a6f9-3ef601a34d77",
   "metadata": {},
   "outputs": [],
   "source": [
    "mod1_s1d1 = mod1_s1d1.to_numpy()\n",
    "mod1_s1d2 = mod1_s1d2.to_numpy()\n",
    "mod1_s1d3 = mod1_s1d3.to_numpy()\n",
    "mod1_s2d1 = mod1_s2d1.to_numpy()\n",
    "mod1_s2d4 = mod1_s2d4.to_numpy()\n",
    "mod1_s2d5 = mod1_s2d5.to_numpy()\n",
    "\n",
    "mod1_s3d1 = mod1_s3d1.to_numpy()\n",
    "mod1_s3d6 = mod1_s3d6.to_numpy()\n",
    "mod1_s3d7 = mod1_s3d7.to_numpy()\n",
    "\n",
    "mod1_s4d1 = mod1_s4d1.to_numpy()\n",
    "mod1_s4d8 = mod1_s4d8.to_numpy()\n",
    "mod1_s4d9 = mod1_s4d9.to_numpy()"
   ]
  },
  {
   "cell_type": "code",
   "execution_count": 19,
   "id": "d215a99e-0c37-4ecf-ba7e-2618e4ddd593",
   "metadata": {},
   "outputs": [],
   "source": [
    "mod1_s1d1 = mod1_s1d1[:, :-1]\n",
    "mod1_s1d2 = mod1_s1d2[:, :-1]\n",
    "mod1_s1d3 = mod1_s1d3[:, :-1]\n",
    "mod1_s2d1 = mod1_s2d1[:, :-1]\n",
    "mod1_s2d4 = mod1_s2d4[:, :-1]\n",
    "mod1_s2d5 = mod1_s2d5[:, :-1]\n",
    "\n",
    "mod1_s3d1 = mod1_s3d1[:, :-1]\n",
    "mod1_s3d6 = mod1_s3d6[:, :-1]\n",
    "mod1_s3d7 = mod1_s3d7[:, :-1]\n",
    "\n",
    "mod1_s4d1 = mod1_s4d1[:, :-1]\n",
    "mod1_s4d8 = mod1_s4d8[:, :-1]\n",
    "mod1_s4d9 = mod1_s4d9[:, :-1]"
   ]
  },
  {
   "cell_type": "code",
   "execution_count": 20,
   "id": "9c553eca-c85c-4b3c-a358-08ee2a36cd88",
   "metadata": {},
   "outputs": [
    {
     "data": {
      "text/plain": [
       "(4721, 9940)"
      ]
     },
     "execution_count": 20,
     "metadata": {},
     "output_type": "execute_result"
    }
   ],
   "source": [
    "mod1_s1d1.shape"
   ]
  },
  {
   "cell_type": "code",
   "execution_count": 21,
   "id": "9d381adb-f256-498f-a391-741cd7d5ce71",
   "metadata": {},
   "outputs": [],
   "source": [
    "batch_train = list(batch_s1d1)+list(batch_s1d2)+list(batch_s1d3)+list(batch_s2d1)+list(batch_s2d4)+list(batch_s2d5)\n",
    "batch_val = list(batch_s3d1)+list(batch_s3d6)+list(batch_s3d7)\n",
    "batch_test = list(batch_s4d1)+list(batch_s4d8)+list(batch_s4d9)"
   ]
  },
  {
   "cell_type": "code",
   "execution_count": 22,
   "id": "4715dd3f-2948-4a84-bf01-089e5260b766",
   "metadata": {},
   "outputs": [],
   "source": [
    "train_input = [mod1_s1d1, mod1_s1d2, mod1_s1d3, mod1_s2d1, mod1_s2d4, mod1_s2d5]\n",
    "train_output = [mod2_s1d1, mod2_s1d2, mod2_s1d3, mod2_s2d1, mod2_s2d4, mod2_s2d5]\n",
    "\n",
    "val_input = [mod1_s3d1, mod1_s3d6, mod1_s3d7]\n",
    "val_output = [mod2_s3d1, mod2_s3d6, mod2_s3d7]\n",
    "\n",
    "test_input = [mod1_s4d1, mod1_s4d8, mod1_s4d9]\n",
    "test_output = [mod2_s4d1, mod2_s4d8, mod2_s4d9]"
   ]
  },
  {
   "cell_type": "code",
   "execution_count": 23,
   "id": "aa0c16b5-af48-42a1-bba0-597a94f22c59",
   "metadata": {},
   "outputs": [],
   "source": [
    "train_input = train_input + val_input\n",
    "train_output = train_output + val_output"
   ]
  },
  {
   "cell_type": "code",
   "execution_count": 24,
   "id": "8d5ab06e-266c-4018-bd64-18de7fdf44c9",
   "metadata": {},
   "outputs": [],
   "source": [
    "train_input = np.concatenate(train_input, axis=0)\n",
    "val_input = np.concatenate(val_input, axis=0)\n",
    "test_input = np.concatenate(test_input, axis=0)\n",
    "\n",
    "train_output = np.concatenate(train_output, axis=0)\n",
    "val_output = np.concatenate(val_output, axis=0)\n",
    "test_output = np.concatenate(test_output, axis=0)"
   ]
  },
  {
   "cell_type": "code",
   "execution_count": 25,
   "id": "0b919911-1d7b-4c39-8b51-b2becbda13cc",
   "metadata": {},
   "outputs": [],
   "source": [
    "train_input = np.reshape(train_input, (train_input.shape[0], 142, 70))\n",
    "val_input = np.reshape(val_input, (val_input.shape[0], 142, 70))\n",
    "test_input = np.reshape(test_input, (test_input.shape[0], 142, 70))"
   ]
  },
  {
   "cell_type": "code",
   "execution_count": 26,
   "id": "0dc04107-ff6a-419a-8ec7-618443576e63",
   "metadata": {},
   "outputs": [],
   "source": [
    "train_input = np.expand_dims(train_input, axis=(1))\n",
    "val_input = np.expand_dims(val_input, axis=(1))\n",
    "test_input = np.expand_dims(test_input, axis=(1))"
   ]
  },
  {
   "cell_type": "code",
   "execution_count": 27,
   "id": "b3430d97-621f-4dd9-8fc3-2ebb8f938138",
   "metadata": {},
   "outputs": [
    {
     "name": "stdout",
     "output_type": "stream",
     "text": [
      "(66175, 1, 142, 70)\n",
      "(28921, 1, 142, 70)\n",
      "(1000, 1, 142, 70)\n"
     ]
    }
   ],
   "source": [
    "print(train_input.shape)\n",
    "print(val_input.shape)\n",
    "print(test_input.shape)"
   ]
  },
  {
   "cell_type": "code",
   "execution_count": 28,
   "id": "dd06f309-8cd3-4bd8-8ccc-6f0539882222",
   "metadata": {},
   "outputs": [
    {
     "name": "stdout",
     "output_type": "stream",
     "text": [
      "(66175, 134)\n",
      "(28921, 134)\n",
      "(1000, 134)\n"
     ]
    }
   ],
   "source": [
    "print(train_output.shape)\n",
    "print(val_output.shape)\n",
    "print(test_output.shape)"
   ]
  },
  {
   "cell_type": "code",
   "execution_count": 29,
   "id": "d5c5db7d-127d-4bbe-ab8f-3120990e5d4b",
   "metadata": {},
   "outputs": [],
   "source": [
    "train_input = np.float32(train_input)\n",
    "train_output = np.float32(train_output)\n",
    "val_input = np.float32(val_input)\n",
    "val_output = np.float32(val_output)\n",
    "test_input = np.float32(test_input)\n",
    "test_output = np.float32(test_output)"
   ]
  },
  {
   "cell_type": "code",
   "execution_count": 30,
   "id": "53eaa25a-5cf1-4cc1-ac12-b74c69ce16dd",
   "metadata": {},
   "outputs": [],
   "source": [
    "train_input = torch.from_numpy(train_input)\n",
    "train_output = torch.from_numpy(train_output)\n",
    "val_input = torch.from_numpy(val_input)\n",
    "val_output = torch.from_numpy(val_output)\n",
    "test_input = torch.from_numpy(test_input)\n",
    "test_output = torch.from_numpy(test_output)"
   ]
  },
  {
   "cell_type": "code",
   "execution_count": 31,
   "id": "21fc65f8-d208-4cdf-856b-507176f0038f",
   "metadata": {},
   "outputs": [],
   "source": [
    "train_input = train_input.float()\n",
    "train_output = train_output.float()\n",
    "val_input = val_input.float()\n",
    "val_output = val_output.float()\n",
    "test_input = test_input.float()\n",
    "test_output = test_output.float()"
   ]
  },
  {
   "cell_type": "code",
   "execution_count": 32,
   "id": "fcb3ca20-f456-426b-bfd8-c9f39a2c4156",
   "metadata": {},
   "outputs": [],
   "source": [
    "train_input = train_input.to(device)\n",
    "train_output = train_output.to(device)\n",
    "val_input = val_input.to(device)\n",
    "val_output = val_output.to(device)\n",
    "test_input = test_input.to(device)\n",
    "test_output = test_output.to(device)"
   ]
  },
  {
   "cell_type": "code",
   "execution_count": 33,
   "id": "6c2f5e9f-728e-4a13-a0cc-777f6fbd7f99",
   "metadata": {},
   "outputs": [],
   "source": [
    "colors = ['red','green','blue','purple', 'yellow', 'orange']\n",
    "k = 0\n",
    "batch_lib = {}\n",
    "for i in range(len(batch_train)):\n",
    "    if batch_train[i] not in batch_lib:\n",
    "        k = k + 1\n",
    "        batch_lib[batch_train[i]] = k\n",
    "    batch_train[i] = batch_lib[batch_train[i]]"
   ]
  },
  {
   "cell_type": "code",
   "execution_count": 34,
   "id": "f4766243-9574-420f-ba2e-08e1131efa5f",
   "metadata": {},
   "outputs": [],
   "source": [
    "colors = ['red','green','blue','purple', 'yellow', 'orange']\n",
    "k = 0\n",
    "batch_lib = {}\n",
    "for i in range(len(batch_val)):\n",
    "    if batch_val[i] not in batch_lib:\n",
    "        k = k + 1\n",
    "        batch_lib[batch_val[i]] = k\n",
    "    batch_val[i] = batch_lib[batch_val[i]]"
   ]
  },
  {
   "cell_type": "code",
   "execution_count": 35,
   "id": "0ce14261-ec7d-49de-b31f-0a5dd2e0bc3f",
   "metadata": {},
   "outputs": [],
   "source": [
    "colors = ['red','green','blue','purple', 'yellow', 'orange']\n",
    "k = 0\n",
    "batch_lib = {}\n",
    "for i in range(len(batch_test)):\n",
    "    if batch_test[i] not in batch_lib:\n",
    "        k = k + 1\n",
    "        batch_lib[batch_test[i]] = k\n",
    "    batch_test[i] = batch_lib[batch_test[i]]"
   ]
  },
  {
   "cell_type": "code",
   "execution_count": 36,
   "id": "598e30dd-4f8b-4610-a30f-7f6f6756bff3",
   "metadata": {},
   "outputs": [],
   "source": [
    "batch_train = batch_train + batch_val"
   ]
  },
  {
   "cell_type": "code",
   "execution_count": 37,
   "id": "b7dff04f-4d6b-4c65-915a-18205d9ae19a",
   "metadata": {},
   "outputs": [
    {
     "data": {
      "text/plain": [
       "torch.Size([1000, 1])"
      ]
     },
     "execution_count": 37,
     "metadata": {},
     "output_type": "execute_result"
    }
   ],
   "source": [
    "train_output = train_output[:, 0:pred_num]\n",
    "train_output.shape\n",
    "\n",
    "val_output = val_output[:, 0:pred_num]\n",
    "val_output.shape\n",
    "\n",
    "test_output = test_output[:, 0:pred_num]\n",
    "test_output.shape"
   ]
  },
  {
   "cell_type": "code",
   "execution_count": 38,
   "id": "61de4cdc-92aa-4b36-a797-0dd62fcdb44f",
   "metadata": {},
   "outputs": [],
   "source": [
    "train_ds = TensorDataset(train_input, train_output)\n",
    "train_dl = DataLoader(train_ds, batch_size= batch_size, shuffle=True)"
   ]
  },
  {
   "cell_type": "code",
   "execution_count": 39,
   "id": "b53502d6-45ac-408d-9a82-c565a5e87c22",
   "metadata": {},
   "outputs": [],
   "source": [
    "input_feature = train_input.shape[1]\n",
    "output_feature = pred_num"
   ]
  },
  {
   "cell_type": "code",
   "execution_count": 40,
   "id": "cdfef524-ca23-472a-b70c-b521da8bb101",
   "metadata": {
    "tags": []
   },
   "outputs": [],
   "source": [
    "# auto-encoder model\n",
    "# base model\n",
    "class CNN_model(nn.Module):\n",
    "    def __init__(self):\n",
    "        super(CNN_model, self).__init__()\n",
    "\n",
    "        self.conv_1 = nn.Conv2d(1, 2, 3)\n",
    "        self.maxpool = nn.MaxPool2d(5)\n",
    "        self.conv_2 = nn.Conv2d(2, 4, 3)\n",
    "        self.dropout = nn.Dropout(0.15)\n",
    "        self.relu = nn.ReLU()\n",
    "        self.linear = nn.Linear(728, pred_num)\n",
    "        \n",
    "    def forward(self, x):\n",
    "        x = self.conv_1(x)\n",
    "        x = self.dropout(x)\n",
    "        x = self.relu(x)\n",
    "        x = self.maxpool(x)\n",
    "        # x = self.conv_2(x)\n",
    "        # x = self.relu(x)\n",
    "        # x = self.maxpool(x)\n",
    "        x = torch.flatten(x, 1)\n",
    "        output = self.linear(x)\n",
    "        \n",
    "        return output.float()"
   ]
  },
  {
   "cell_type": "code",
   "execution_count": 41,
   "id": "14f2313e-a644-47fb-ad4a-3eb98b7fb98e",
   "metadata": {},
   "outputs": [],
   "source": [
    "PATH = 'CNN_No_norm_model_RNA_pro'"
   ]
  },
  {
   "cell_type": "code",
   "execution_count": 42,
   "id": "1a53dd89-ac85-4b11-bc7c-7e8df4ef8e10",
   "metadata": {},
   "outputs": [],
   "source": [
    "def fit(num_epochs, model, loss_fn, train_input, train_output, val_input, val_output, test_input, test_output):\n",
    "    val_best = float('inf')\n",
    "    train_pred_output = []\n",
    "    val_pred_output = []\n",
    "    for epoch in range(num_epochs):\n",
    "        for x,y in train_dl:\n",
    "            model = model.train()\n",
    "            pred = model(x)\n",
    "            loss = loss_fn(pred, y)\n",
    "            loss.backward()\n",
    "            opt.step()\n",
    "            opt.zero_grad()\n",
    "\n",
    "        if epoch % 100 == 0:\n",
    "            model = model.eval()\n",
    "            \n",
    "            train_pred = model(train_input)\n",
    "            # train_output = torch.reshape(train_output, (train_output.shape[0], 1))\n",
    "            train_loss = loss_fn(train_pred, train_output)\n",
    "            train_loss = torch.sqrt(train_loss)\n",
    "            train_loss = train_loss.cpu().detach().numpy()\n",
    "            \n",
    "            val_pred = model(val_input)\n",
    "            # val_output = torch.reshape(val_output, (val_output.shape[0], 1))\n",
    "            val_loss = loss_fn(val_pred, val_output)\n",
    "            val_loss = torch.sqrt(val_loss)\n",
    "            val_loss = val_loss.cpu().detach().numpy()\n",
    "            \n",
    "            test_pred = model(test_input)\n",
    "            # val_output = torch.reshape(val_output, (val_output.shape[0], 1))\n",
    "            test_loss = loss_fn(test_pred, test_output)\n",
    "            test_loss = torch.sqrt(test_loss)\n",
    "            test_loss = test_loss.cpu().detach().numpy()\n",
    "            \n",
    "            if val_loss < val_best:\n",
    "                torch.save(model.state_dict(), PATH)\n",
    "                val_best = val_loss\n",
    "                \n",
    "            print('Epoch ', epoch, 'Train_loss: ', train_loss, ' Validation_loss: ', val_loss, ' Test_loss: ', test_loss)\n",
    "        if epoch % 2000 == 0:\n",
    "            colors = ['red','green','blue','purple', 'yellow', 'orange']\n",
    "            figure, ax = plt.subplots(1, 3, figsize = (13, 3*1))\n",
    "            for i in range(1):\n",
    "                ax[0].scatter(train_output.cpu().detach().numpy()[:, 0], train_pred.cpu().detach().numpy()[:, 0], c=batch_train, cmap=matplotlib.colors.ListedColormap(colors), s = 30, alpha=0.3)\n",
    "                ax[0].plot([-1.5, 3], [-1.5, 3], 'k-')\n",
    "                ax[0].set_title('Train data result ' + str(i+1))\n",
    "                ax[0].set_xlabel('train')\n",
    "                ax[0].set_ylabel('pred')\n",
    "\n",
    "                ax[1].scatter(val_output.cpu().detach().numpy()[:, 0], val_pred.cpu().detach().numpy()[:, 0], c=batch_val, cmap=matplotlib.colors.ListedColormap(colors), s = 30, alpha=0.3)\n",
    "                ax[1].plot([-1.5, 3], [-1.5, 3], 'k-')\n",
    "                ax[1].set_title('Validation data result ' + str(i+1))\n",
    "                ax[1].set_xlabel('true')\n",
    "                ax[1].set_ylabel('pred')\n",
    "\n",
    "                ax[2].scatter(test_output.cpu().detach().numpy()[:, 0], test_pred.cpu().detach().numpy()[:, 0], c=batch_test, cmap=matplotlib.colors.ListedColormap(colors), s = 30, alpha=0.3)\n",
    "                ax[2].plot([-1.5, 3], [-1.5, 3], 'k-')\n",
    "                ax[2].set_title('Test data result ' + str(i+1))\n",
    "                ax[2].set_xlabel('true')\n",
    "                ax[2].set_ylabel('pred')\n",
    "            \n",
    "            plt.show()\n",
    "    return train_pred.cpu().detach().numpy(), train_output.cpu().detach().numpy(), val_pred.cpu().detach().numpy(), val_output.cpu().detach().numpy()"
   ]
  },
  {
   "cell_type": "code",
   "execution_count": 43,
   "id": "b2b6ac2d-5e09-47e6-b47b-a3d9efd56efa",
   "metadata": {},
   "outputs": [],
   "source": [
    "num_epochs = 20000\n",
    "learning_rate = 0.01\n",
    "loss_fn = F.mse_loss\n",
    "batch_size = 5000\n",
    "\n",
    "def seed_everything(seed=1234):\n",
    "    random.seed(seed)\n",
    "    os.environ['PYTHONHASHSEED'] = str(seed)\n",
    "    np.random.seed(seed)\n",
    "    torch.manual_seed(seed)\n",
    "    torch.backends.cudnn.deterministic = True\n",
    "\n",
    "seed_everything()\n",
    "    \n",
    "model = CNN_model()\n",
    "# model.load_state_dict(torch.load(PATH))\n",
    "model = model.to(device)"
   ]
  },
  {
   "cell_type": "code",
   "execution_count": null,
   "id": "7e3e8bb5-6f20-45c3-84a6-c67e820e89ec",
   "metadata": {},
   "outputs": [
    {
     "name": "stdout",
     "output_type": "stream",
     "text": [
      "Epoch  0 Train_loss:  0.3446368  Validation_loss:  0.28186825  Test_loss:  0.34736177\n"
     ]
    },
    {
     "data": {
      "image/png": "[encoded data removed]",
      "text/plain": [
       "<Figure size 936x216 with 3 Axes>"
      ]
     },
     "metadata": {
      "needs_background": "light"
     },
     "output_type": "display_data"
    },
    {
     "name": "stdout",
     "output_type": "stream",
     "text": [
      "Epoch  100 Train_loss:  0.23830312  Validation_loss:  0.20651838  Test_loss:  0.24719287\n",
      "Epoch  200 Train_loss:  0.23215587  Validation_loss:  0.20432478  Test_loss:  0.2504744\n",
      "Epoch  300 Train_loss:  0.23044923  Validation_loss:  0.2042245  Test_loss:  0.25088665\n",
      "Epoch  400 Train_loss:  0.23001736  Validation_loss:  0.20423076  Test_loss:  0.25128347\n",
      "Epoch  500 Train_loss:  0.22994225  Validation_loss:  0.20404102  Test_loss:  0.2516151\n",
      "Epoch  600 Train_loss:  0.22910377  Validation_loss:  0.20394814  Test_loss:  0.24864218\n",
      "Epoch  700 Train_loss:  0.22892213  Validation_loss:  0.20402502  Test_loss:  0.24878056\n",
      "Epoch  800 Train_loss:  0.22918567  Validation_loss:  0.2037679  Test_loss:  0.24902707\n",
      "Epoch  900 Train_loss:  0.22911854  Validation_loss:  0.20378403  Test_loss:  0.24944212\n",
      "Epoch  1000 Train_loss:  0.22903128  Validation_loss:  0.2039529  Test_loss:  0.24945529\n"
     ]
    }
   ],
   "source": [
    "opt = torch.optim.SGD(model.parameters(), lr=learning_rate, momentum=0.9)\n",
    "train_pred_np, train_output_np, val_pred_np, val_output_np = fit(num_epochs, model, loss_fn, train_input, train_output, val_input, val_output, test_input, test_output)"
   ]
  },
  {
   "cell_type": "code",
   "execution_count": null,
   "id": "af0e1001-1203-4fd0-a819-48bc5bdf509a",
   "metadata": {},
   "outputs": [],
   "source": []
  }
 ],
 "metadata": {
  "kernelspec": {
   "display_name": "Python 3",
   "language": "python",
   "name": "python3"
  },
  "language_info": {
   "codemirror_mode": {
    "name": "ipython",
    "version": 3
   },
   "file_extension": ".py",
   "mimetype": "text/x-python",
   "name": "python",
   "nbconvert_exporter": "python",
   "pygments_lexer": "ipython3",
   "version": "3.8.10"
  }
 },
 "nbformat": 4,
 "nbformat_minor": 5
}
