{
 "cells": [
  {
   "cell_type": "code",
   "execution_count": 1,
   "id": "28ee873a-61f9-4b39-8cb7-4cca1bd3a8a9",
   "metadata": {},
   "outputs": [],
   "source": [
    "import anndata as ad\n",
    "import gc\n",
    "import sys\n",
    "from scipy.sparse import csc_matrix\n",
    "from sklearn.model_selection import train_test_split\n",
    "from sklearn.decomposition import TruncatedSVD\n",
    "from sklearn.linear_model import LinearRegression\n",
    "import random\n",
    "import numpy as np\n",
    "import time\n",
    "import torch\n",
    "import torch.nn as nn\n",
    "import torch.nn.functional as F\n",
    "from torch.utils.data import TensorDataset, DataLoader\n",
    "import matplotlib.pyplot as plt\n",
    "import pickle\n",
    "import heapq\n",
    "import matplotlib\n",
    "import os\n",
    "import umap\n",
    "from sklearn.decomposition import PCA\n",
    "import pandas as pd"
   ]
  },
  {
   "cell_type": "code",
   "execution_count": 2,
   "id": "2f00d205-67e3-4548-a567-5c45c1431b1c",
   "metadata": {},
   "outputs": [
    {
     "name": "stdout",
     "output_type": "stream",
     "text": [
      "cuda\n"
     ]
    }
   ],
   "source": [
    "device = torch.device(\"cuda\" if torch.cuda.is_available() else \"cpu\")\n",
    "print(device)\n",
    "random.seed(1)\n",
    "np.random.seed(1)\n",
    "torch.manual_seed(1)\n",
    "\n",
    "batch_size = 50000\n",
    "pred_num = 1"
   ]
  },
  {
   "cell_type": "code",
   "execution_count": 3,
   "id": "c8571524-866b-4e96-8565-e7679e648fc8",
   "metadata": {},
   "outputs": [],
   "source": [
    "train_mod1_file = 'phase2_private_data/predict_modality/openproblems_bmmc_multiome_phase2_mod2/openproblems_bmmc_multiome_phase2_mod2.censor_dataset.output_train_mod1.h5ad'\n",
    "train_mod2_file = 'phase2_private_data/predict_modality/openproblems_bmmc_multiome_phase2_mod2/openproblems_bmmc_multiome_phase2_mod2.censor_dataset.output_train_mod2.h5ad'\n",
    "test_mod1_file = 'phase2_private_data/predict_modality/openproblems_bmmc_multiome_phase2_mod2/openproblems_bmmc_multiome_phase2_mod2.censor_dataset.output_test_mod1.h5ad'\n",
    "test_mod2_file = 'phase2_private_data/predict_modality/openproblems_bmmc_multiome_phase2_mod2/openproblems_bmmc_multiome_phase2_mod2.censor_dataset.output_test_mod2.h5ad'"
   ]
  },
  {
   "cell_type": "code",
   "execution_count": 4,
   "id": "e1003672-e58f-4536-88e5-b43ce4459f5b",
   "metadata": {},
   "outputs": [],
   "source": [
    "input_train_mod1 = ad.read_h5ad(train_mod1_file)\n",
    "input_train_mod2 = ad.read_h5ad(train_mod2_file)\n",
    "input_test_mod1 = ad.read_h5ad(test_mod1_file)\n",
    "input_test_mod2 = ad.read_h5ad(test_mod2_file)"
   ]
  },
  {
   "cell_type": "code",
   "execution_count": 5,
   "id": "8bb3ff4e-2d60-4edc-b20c-f8eecbd8647e",
   "metadata": {},
   "outputs": [
    {
     "name": "stdout",
     "output_type": "stream",
     "text": [
      "AnnData object with n_obs × n_vars = 42492 × 116490\n",
      "    obs: 'batch'\n",
      "    var: 'feature_types'\n",
      "    uns: 'dataset_id', 'gene_activity_var_names', 'organism'\n",
      "    obsm: 'gene_activity'\n",
      "    layers: 'counts'\n",
      "AnnData object with n_obs × n_vars = 42492 × 13431\n",
      "    obs: 'batch'\n",
      "    var: 'gene_ids', 'feature_types'\n",
      "    uns: 'dataset_id', 'organism'\n",
      "    layers: 'counts'\n",
      "AnnData object with n_obs × n_vars = 1000 × 116490\n",
      "    obs: 'batch'\n",
      "    var: 'feature_types'\n",
      "    uns: 'dataset_id', 'gene_activity_var_names', 'organism'\n",
      "    obsm: 'gene_activity'\n",
      "    layers: 'counts'\n",
      "AnnData object with n_obs × n_vars = 1000 × 13431\n",
      "    obs: 'batch'\n",
      "    var: 'gene_ids', 'feature_types'\n",
      "    uns: 'dataset_id', 'organism'\n",
      "    layers: 'counts'\n"
     ]
    }
   ],
   "source": [
    "print(input_train_mod1)\n",
    "print(input_train_mod2)\n",
    "print(input_test_mod1)\n",
    "print(input_test_mod2)"
   ]
  },
  {
   "cell_type": "code",
   "execution_count": 6,
   "id": "4b1f7ad0-24d9-4d07-ab91-c9b1c9928c7b",
   "metadata": {},
   "outputs": [
    {
     "name": "stdout",
     "output_type": "stream",
     "text": [
      "['s1d1', 's1d2', 's1d3', 's2d1', 's2d4', 's2d5', 's3d10', 's3d3', 's3d6', 's3d7']\n",
      "['s1d1', 's1d2', 's1d3', 's2d1', 's2d4', 's2d5', 's3d10', 's3d3', 's3d6', 's3d7']\n"
     ]
    }
   ],
   "source": [
    "print(sorted(set(input_train_mod1.obs['batch'])))\n",
    "print(sorted(set(input_train_mod2.obs['batch'])))"
   ]
  },
  {
   "cell_type": "code",
   "execution_count": 7,
   "id": "88721876-d226-4bce-a6ea-a34e990954d4",
   "metadata": {},
   "outputs": [
    {
     "name": "stdout",
     "output_type": "stream",
     "text": [
      "['s4d1', 's4d8', 's4d9']\n",
      "['s4d1', 's4d8', 's4d9']\n"
     ]
    }
   ],
   "source": [
    "print(sorted(set(input_test_mod1.obs['batch'])))\n",
    "print(sorted(set(input_test_mod2.obs['batch'])))"
   ]
  },
  {
   "cell_type": "code",
   "execution_count": 8,
   "id": "90fd11a4-3c78-4a7c-bbe4-552681e76e85",
   "metadata": {},
   "outputs": [],
   "source": [
    "mod2_s1d1 = input_train_mod2[input_train_mod2.obs[\"batch\"] == \"s1d1\", :]\n",
    "mod2_s1d2 = input_train_mod2[input_train_mod2.obs[\"batch\"] == \"s1d2\", :]\n",
    "mod2_s1d3 = input_train_mod2[input_train_mod2.obs[\"batch\"] == \"s1d3\", :]\n",
    "mod2_s2d1 = input_train_mod2[input_train_mod2.obs[\"batch\"] == \"s2d1\", :]\n",
    "mod2_s2d4 = input_train_mod2[input_train_mod2.obs[\"batch\"] == \"s2d4\", :]\n",
    "mod2_s2d5 = input_train_mod2[input_train_mod2.obs[\"batch\"] == \"s2d5\", :]\n",
    "\n",
    "mod2_s3d1 = input_train_mod2[input_train_mod2.obs[\"batch\"] == \"s3d1\", :]\n",
    "mod2_s3d6 = input_train_mod2[input_train_mod2.obs[\"batch\"] == \"s3d6\", :]\n",
    "mod2_s3d7 = input_train_mod2[input_train_mod2.obs[\"batch\"] == \"s3d7\", :]\n",
    "\n",
    "mod2_s4d1 = input_test_mod2[input_test_mod2.obs[\"batch\"] == \"s4d1\", :]\n",
    "mod2_s4d8 = input_test_mod2[input_test_mod2.obs[\"batch\"] == \"s4d8\", :]\n",
    "mod2_s4d9 = input_test_mod2[input_test_mod2.obs[\"batch\"] == \"s4d9\", :]"
   ]
  },
  {
   "cell_type": "code",
   "execution_count": 9,
   "id": "05578a34-ffe3-4573-9c29-e0154215f98d",
   "metadata": {},
   "outputs": [],
   "source": [
    "mod2_s1d1 = mod2_s1d1.X.toarray()\n",
    "mod2_s1d2 = mod2_s1d2.X.toarray()\n",
    "mod2_s1d3 = mod2_s1d3.X.toarray()\n",
    "mod2_s2d1 = mod2_s2d1.X.toarray()\n",
    "mod2_s2d4 = mod2_s2d4.X.toarray()\n",
    "mod2_s2d5 = mod2_s2d5.X.toarray()\n",
    "\n",
    "mod2_s3d1 = mod2_s3d1.X.toarray()\n",
    "mod2_s3d6 = mod2_s3d6.X.toarray()\n",
    "mod2_s3d7 = mod2_s3d7.X.toarray()\n",
    "\n",
    "mod2_s4d1 = mod2_s4d1.X.toarray()\n",
    "mod2_s4d8 = mod2_s4d8.X.toarray()\n",
    "mod2_s4d9 = mod2_s4d9.X.toarray()"
   ]
  },
  {
   "cell_type": "code",
   "execution_count": 10,
   "id": "6ff81839-2fc0-4aaa-ae40-df8b8926322a",
   "metadata": {},
   "outputs": [
    {
     "name": "stdout",
     "output_type": "stream",
     "text": [
      "(5616, 13431)\n",
      "(415, 13431)\n"
     ]
    }
   ],
   "source": [
    "print(mod2_s1d1.shape)\n",
    "print(mod2_s4d1.shape)"
   ]
  },
  {
   "cell_type": "code",
   "execution_count": 11,
   "id": "adc07f9a-ae8a-4689-a618-d3f7fc47b080",
   "metadata": {},
   "outputs": [],
   "source": [
    "mod1_train = pd.read_csv('train_atac_binary_8000var_features.csv')\n",
    "mod1_test = pd.read_csv('test_atac_binary_8000var_features.csv')"
   ]
  },
  {
   "cell_type": "code",
   "execution_count": 12,
   "id": "6d0c35d4-35f3-474e-a2ac-c389e8200964",
   "metadata": {},
   "outputs": [],
   "source": [
    "mod1_train = mod1_train.transpose()\n",
    "mod1_test = mod1_test.transpose()"
   ]
  },
  {
   "cell_type": "code",
   "execution_count": 13,
   "id": "12048e81-75d9-4d34-a121-171d5ef1f50c",
   "metadata": {},
   "outputs": [],
   "source": [
    "mod1_train['batch'] = mod1_train.index.str[-4:]\n",
    "mod1_test['batch'] = mod1_test.index.str[-4:]"
   ]
  },
  {
   "cell_type": "code",
   "execution_count": 14,
   "id": "9adf9628-1872-4647-a398-3cf41e394c2f",
   "metadata": {},
   "outputs": [],
   "source": [
    "mod1_train = mod1_train.iloc[1:, :]\n",
    "mod1_train.reset_index(drop=True, inplace=True)\n",
    "\n",
    "mod1_test = mod1_test.iloc[1:, :]\n",
    "mod1_test.reset_index(drop=True, inplace=True)"
   ]
  },
  {
   "cell_type": "markdown",
   "id": "56af4151-a2fe-4605-a812-7ad401245665",
   "metadata": {},
   "source": [
    "['s1d1', 's1d2', 's1d3', 's2d1', 's2d4', 's2d5', 's3d1', 's3d6', 's3d7']\n",
    "\n",
    "['s4d1', 's4d8', 's4d9']"
   ]
  },
  {
   "cell_type": "code",
   "execution_count": 15,
   "id": "82e58801-1cc2-4b39-9d24-b65fa693811d",
   "metadata": {},
   "outputs": [],
   "source": [
    "mod1_s1d1 = mod1_train[mod1_train['batch'] == 's1d1']\n",
    "mod1_s1d2 = mod1_train[mod1_train['batch'] == 's1d2']\n",
    "mod1_s1d3 = mod1_train[mod1_train['batch'] == 's1d3']\n",
    "mod1_s2d1 = mod1_train[mod1_train['batch'] == 's2d1']\n",
    "mod1_s2d4 = mod1_train[mod1_train['batch'] == 's2d4']\n",
    "mod1_s2d5 = mod1_train[mod1_train['batch'] == 's2d5']\n",
    "mod1_s3d1 = mod1_train[mod1_train['batch'] == 's3d1']\n",
    "mod1_s3d6 = mod1_train[mod1_train['batch'] == 's3d6']\n",
    "mod1_s3d7 = mod1_train[mod1_train['batch'] == 's3d7']"
   ]
  },
  {
   "cell_type": "code",
   "execution_count": 16,
   "id": "d5e7f596-123b-4fc7-9298-db0064ae188d",
   "metadata": {},
   "outputs": [],
   "source": [
    "mod1_s4d1 = mod1_test[mod1_test['batch'] == 's4d1']\n",
    "mod1_s4d8 = mod1_test[mod1_test['batch'] == 's4d8']\n",
    "mod1_s4d9 = mod1_test[mod1_test['batch'] == 's4d9']"
   ]
  },
  {
   "cell_type": "code",
   "execution_count": 17,
   "id": "934ebd8d-b467-41f5-bbcb-350b71ac6d3a",
   "metadata": {},
   "outputs": [],
   "source": [
    "batch_s1d1 = mod1_s1d1[\"batch\"]\n",
    "batch_s1d2 = mod1_s1d2[\"batch\"]\n",
    "batch_s1d3 = mod1_s1d3[\"batch\"]\n",
    "batch_s2d1 = mod1_s2d1[\"batch\"]\n",
    "batch_s2d4 = mod1_s2d4[\"batch\"]\n",
    "batch_s2d5 = mod1_s2d5[\"batch\"]\n",
    "\n",
    "batch_s3d1 = mod1_s3d1[\"batch\"]\n",
    "batch_s3d6 = mod1_s3d6[\"batch\"]\n",
    "batch_s3d7 = mod1_s3d7[\"batch\"]\n",
    "\n",
    "batch_s4d1 = mod1_s4d1[\"batch\"]\n",
    "batch_s4d8 = mod1_s4d8[\"batch\"]\n",
    "batch_s4d9 = mod1_s4d9[\"batch\"]"
   ]
  },
  {
   "cell_type": "code",
   "execution_count": 18,
   "id": "4f3215bd-fa30-4310-8247-b37d32dcff4e",
   "metadata": {},
   "outputs": [],
   "source": [
    "mod1_s1d1 = mod1_s1d1.drop('batch', axis=1)\n",
    "mod1_s1d2 = mod1_s1d2.drop('batch', axis=1)\n",
    "mod1_s1d3 = mod1_s1d3.drop('batch', axis=1)\n",
    "mod1_s2d1 = mod1_s2d1.drop('batch', axis=1)\n",
    "mod1_s2d4 = mod1_s2d4.drop('batch', axis=1)\n",
    "mod1_s2d5 = mod1_s2d5.drop('batch', axis=1)\n",
    "\n",
    "mod1_s3d1 = mod1_s3d1.drop('batch', axis=1)\n",
    "mod1_s3d6 = mod1_s3d6.drop('batch', axis=1)\n",
    "mod1_s3d7 = mod1_s3d7.drop('batch', axis=1)\n",
    "\n",
    "mod1_s4d1 = mod1_s4d1.drop('batch', axis=1)\n",
    "mod1_s4d8 = mod1_s4d8.drop('batch', axis=1)\n",
    "mod1_s4d9 = mod1_s4d9.drop('batch', axis=1)"
   ]
  },
  {
   "cell_type": "code",
   "execution_count": 19,
   "id": "f65173c2-b0e1-4020-a6f9-3ef601a34d77",
   "metadata": {},
   "outputs": [],
   "source": [
    "mod1_s1d1 = mod1_s1d1.to_numpy()\n",
    "mod1_s1d2 = mod1_s1d2.to_numpy()\n",
    "mod1_s1d3 = mod1_s1d3.to_numpy()\n",
    "mod1_s2d1 = mod1_s2d1.to_numpy()\n",
    "mod1_s2d4 = mod1_s2d4.to_numpy()\n",
    "mod1_s2d5 = mod1_s2d5.to_numpy()\n",
    "\n",
    "mod1_s3d1 = mod1_s3d1.to_numpy()\n",
    "mod1_s3d6 = mod1_s3d6.to_numpy()\n",
    "mod1_s3d7 = mod1_s3d7.to_numpy()\n",
    "\n",
    "mod1_s4d1 = mod1_s4d1.to_numpy()\n",
    "mod1_s4d8 = mod1_s4d8.to_numpy()\n",
    "mod1_s4d9 = mod1_s4d9.to_numpy()"
   ]
  },
  {
   "cell_type": "code",
   "execution_count": 20,
   "id": "9d381adb-f256-498f-a391-741cd7d5ce71",
   "metadata": {},
   "outputs": [],
   "source": [
    "batch_train = list(batch_s1d1)+list(batch_s1d2)+list(batch_s1d3)+list(batch_s2d1)+list(batch_s2d4)+list(batch_s2d5)\n",
    "batch_val = list(batch_s3d1)+list(batch_s3d6)+list(batch_s3d7)\n",
    "batch_test = list(batch_s4d1)+list(batch_s4d8)+list(batch_s4d9)"
   ]
  },
  {
   "cell_type": "code",
   "execution_count": 21,
   "id": "4715dd3f-2948-4a84-bf01-089e5260b766",
   "metadata": {},
   "outputs": [],
   "source": [
    "train_input = [mod1_s1d1, mod1_s1d2, mod1_s1d3, mod1_s2d1, mod1_s2d4, mod1_s2d5]\n",
    "train_output = [mod2_s1d1, mod2_s1d2, mod2_s1d3, mod2_s2d1, mod2_s2d4, mod2_s2d5]\n",
    "\n",
    "val_input = [mod1_s3d1, mod1_s3d6, mod1_s3d7]\n",
    "val_output = [mod2_s3d1, mod2_s3d6, mod2_s3d7]\n",
    "\n",
    "test_input = [mod1_s4d1, mod1_s4d8, mod1_s4d9]\n",
    "test_output = [mod2_s4d1, mod2_s4d8, mod2_s4d9]"
   ]
  },
  {
   "cell_type": "code",
   "execution_count": 22,
   "id": "aa0c16b5-af48-42a1-bba0-597a94f22c59",
   "metadata": {},
   "outputs": [],
   "source": [
    "train_input = train_input + val_input\n",
    "train_output = train_output + val_output"
   ]
  },
  {
   "cell_type": "code",
   "execution_count": 23,
   "id": "8d5ab06e-266c-4018-bd64-18de7fdf44c9",
   "metadata": {},
   "outputs": [],
   "source": [
    "train_input = np.concatenate(train_input, axis=0)\n",
    "val_input = np.concatenate(val_input, axis=0)\n",
    "test_input = np.concatenate(test_input, axis=0)\n",
    "\n",
    "train_output = np.concatenate(train_output, axis=0)\n",
    "val_output = np.concatenate(val_output, axis=0)\n",
    "test_output = np.concatenate(test_output, axis=0)"
   ]
  },
  {
   "cell_type": "code",
   "execution_count": 24,
   "id": "b3430d97-621f-4dd9-8fc3-2ebb8f938138",
   "metadata": {},
   "outputs": [
    {
     "name": "stdout",
     "output_type": "stream",
     "text": [
      "(37087, 8000)\n",
      "(7865, 8000)\n",
      "(1000, 8000)\n"
     ]
    }
   ],
   "source": [
    "print(train_input.shape)\n",
    "print(val_input.shape)\n",
    "print(test_input.shape)"
   ]
  },
  {
   "cell_type": "code",
   "execution_count": 25,
   "id": "dd06f309-8cd3-4bd8-8ccc-6f0539882222",
   "metadata": {},
   "outputs": [
    {
     "name": "stdout",
     "output_type": "stream",
     "text": [
      "(37087, 13431)\n",
      "(7865, 13431)\n",
      "(1000, 13431)\n"
     ]
    }
   ],
   "source": [
    "print(train_output.shape)\n",
    "print(val_output.shape)\n",
    "print(test_output.shape)"
   ]
  },
  {
   "cell_type": "code",
   "execution_count": null,
   "id": "358f7972-48af-4fa3-bc75-e6d7939eb822",
   "metadata": {},
   "outputs": [],
   "source": []
  },
  {
   "cell_type": "code",
   "execution_count": null,
   "id": "54a6f2fa-435c-4d6d-909d-b49f9ac1f26c",
   "metadata": {},
   "outputs": [],
   "source": []
  },
  {
   "cell_type": "code",
   "execution_count": null,
   "id": "0cd49afc-b1aa-4b22-9e4e-46cebea3a001",
   "metadata": {},
   "outputs": [],
   "source": []
  },
  {
   "cell_type": "markdown",
   "id": "bc7858a9-0085-41f2-b17f-bb4541a6c1a4",
   "metadata": {},
   "source": [
    "Load protein to RNA data"
   ]
  },
  {
   "cell_type": "code",
   "execution_count": 26,
   "id": "2236911d-24b3-4343-8d1b-d9bd66017563",
   "metadata": {},
   "outputs": [],
   "source": [
    "train_mod1_file = 'phase2_private_data/predict_modality/openproblems_bmmc_cite_phase2_mod2/openproblems_bmmc_cite_phase2_mod2.censor_dataset.output_train_mod1.h5ad'\n",
    "train_mod2_file = 'phase2_private_data/predict_modality/openproblems_bmmc_cite_phase2_mod2/openproblems_bmmc_cite_phase2_mod2.censor_dataset.output_train_mod2.h5ad'\n",
    "test_mod1_file = 'phase2_private_data/predict_modality/openproblems_bmmc_cite_phase2_mod2/openproblems_bmmc_cite_phase2_mod2.censor_dataset.output_test_mod1.h5ad'\n",
    "test_mod2_file = 'phase2_private_data/predict_modality/openproblems_bmmc_cite_phase2_mod2/openproblems_bmmc_cite_phase2_mod2.censor_dataset.output_test_mod2.h5ad'"
   ]
  },
  {
   "cell_type": "code",
   "execution_count": 27,
   "id": "8c5cbf69-95fa-4d4b-a5cf-61fbd3203a36",
   "metadata": {},
   "outputs": [],
   "source": [
    "input_train_mod1 = ad.read_h5ad(train_mod1_file)\n",
    "input_train_mod2 = ad.read_h5ad(train_mod2_file)\n",
    "input_test_mod1 = ad.read_h5ad(test_mod1_file)\n",
    "input_test_mod2 = ad.read_h5ad(test_mod2_file)"
   ]
  },
  {
   "cell_type": "code",
   "execution_count": 28,
   "id": "6ebd1d6e-3175-41af-a81d-9a834aadfb58",
   "metadata": {},
   "outputs": [
    {
     "name": "stdout",
     "output_type": "stream",
     "text": [
      "AnnData object with n_obs × n_vars = 66175 × 134\n",
      "    obs: 'batch'\n",
      "    var: 'feature_types'\n",
      "    uns: 'dataset_id', 'organism'\n",
      "    layers: 'counts'\n",
      "AnnData object with n_obs × n_vars = 66175 × 13953\n",
      "    obs: 'batch'\n",
      "    var: 'gene_ids', 'feature_types'\n",
      "    uns: 'dataset_id', 'organism'\n",
      "    layers: 'counts'\n",
      "AnnData object with n_obs × n_vars = 1000 × 134\n",
      "    obs: 'batch'\n",
      "    var: 'feature_types'\n",
      "    uns: 'dataset_id', 'organism'\n",
      "    layers: 'counts'\n",
      "AnnData object with n_obs × n_vars = 1000 × 13953\n",
      "    obs: 'batch'\n",
      "    var: 'gene_ids', 'feature_types'\n",
      "    uns: 'dataset_id', 'organism'\n",
      "    layers: 'counts'\n"
     ]
    }
   ],
   "source": [
    "print(input_train_mod1)\n",
    "print(input_train_mod2)\n",
    "print(input_test_mod1)\n",
    "print(input_test_mod2)"
   ]
  },
  {
   "cell_type": "code",
   "execution_count": 29,
   "id": "084fbaba-5f03-4b0a-a1b9-da14621ef012",
   "metadata": {},
   "outputs": [
    {
     "name": "stdout",
     "output_type": "stream",
     "text": [
      "['s1d1', 's1d2', 's1d3', 's2d1', 's2d4', 's2d5', 's3d1', 's3d6', 's3d7']\n",
      "['s1d1', 's1d2', 's1d3', 's2d1', 's2d4', 's2d5', 's3d1', 's3d6', 's3d7']\n"
     ]
    }
   ],
   "source": [
    "print(sorted(set(input_train_mod1.obs['batch'])))\n",
    "print(sorted(set(input_train_mod2.obs['batch'])))"
   ]
  },
  {
   "cell_type": "code",
   "execution_count": 30,
   "id": "18ba75b0-9355-47b3-84ec-0acf27ba7d4e",
   "metadata": {},
   "outputs": [
    {
     "name": "stdout",
     "output_type": "stream",
     "text": [
      "['s4d1', 's4d8', 's4d9']\n",
      "['s4d1', 's4d8', 's4d9']\n"
     ]
    }
   ],
   "source": [
    "print(sorted(set(input_test_mod1.obs['batch'])))\n",
    "print(sorted(set(input_test_mod2.obs['batch'])))"
   ]
  },
  {
   "cell_type": "code",
   "execution_count": 31,
   "id": "9cf12ae9-eac7-4c98-a843-3cec0ba0e6c9",
   "metadata": {},
   "outputs": [],
   "source": [
    "pro_s1d1 = input_train_mod1[input_train_mod1.obs[\"batch\"] == \"s1d1\", :]\n",
    "pro_s1d2 = input_train_mod1[input_train_mod1.obs[\"batch\"] == \"s1d2\", :]\n",
    "pro_s1d3 = input_train_mod1[input_train_mod1.obs[\"batch\"] == \"s1d3\", :]\n",
    "pro_s2d1 = input_train_mod1[input_train_mod1.obs[\"batch\"] == \"s2d1\", :]\n",
    "pro_s2d4 = input_train_mod1[input_train_mod1.obs[\"batch\"] == \"s2d4\", :]\n",
    "pro_s2d5 = input_train_mod1[input_train_mod1.obs[\"batch\"] == \"s2d5\", :]\n",
    "\n",
    "pro_s3d1 = input_train_mod1[input_train_mod1.obs[\"batch\"] == \"s3d1\", :]\n",
    "pro_s3d6 = input_train_mod1[input_train_mod1.obs[\"batch\"] == \"s3d6\", :]\n",
    "pro_s3d7 = input_train_mod1[input_train_mod1.obs[\"batch\"] == \"s3d7\", :]"
   ]
  },
  {
   "cell_type": "code",
   "execution_count": 64,
   "id": "ee455ce8-debe-4f1b-baad-4d1926e8b42f",
   "metadata": {},
   "outputs": [
    {
     "name": "stdout",
     "output_type": "stream",
     "text": [
      "(5616, 8000) (6069, 8000) (3875, 8000) (3811, 8000) (5456, 8000) (4395, 8000) (0, 8000) (1771, 8000) (6094, 8000)\n",
      "(4721, 134) (4464, 134) (5484, 134) (9353, 134) (5026, 134) (8206, 134) (8582, 134) (9977, 134) (10362, 134)\n"
     ]
    }
   ],
   "source": [
    "print(mod1_s1d1.shape, mod1_s1d2.shape, mod1_s1d3.shape, mod1_s2d1.shape, mod1_s2d4.shape, mod1_s2d5.shape, mod1_s3d1.shape, mod1_s3d6.shape, mod1_s3d7.shape)\n",
    "print(pro_s1d1.shape, pro_s1d2.shape, pro_s1d3.shape, pro_s2d1.shape, pro_s2d4.shape, pro_s2d5.shape, pro_s3d1.shape, pro_s3d6.shape, pro_s3d7.shape)"
   ]
  },
  {
   "cell_type": "code",
   "execution_count": 61,
   "id": "619f4a0b-84e9-4453-9aa8-b2a1214eea08",
   "metadata": {},
   "outputs": [],
   "source": [
    "RNA_s1d1 = input_train_mod2[input_train_mod2.obs[\"batch\"] == \"s1d1\", :]\n",
    "RNA_s1d2 = input_train_mod2[input_train_mod2.obs[\"batch\"] == \"s1d2\", :]\n",
    "RNA_s1d3 = input_train_mod2[input_train_mod2.obs[\"batch\"] == \"s1d3\", :]\n",
    "RNA_s2d1 = input_train_mod2[input_train_mod2.obs[\"batch\"] == \"s2d1\", :]\n",
    "RNA_s2d4 = input_train_mod2[input_train_mod2.obs[\"batch\"] == \"s2d4\", :]\n",
    "RNA_s2d5 = input_train_mod2[input_train_mod2.obs[\"batch\"] == \"s2d5\", :]\n",
    "\n",
    "RNA_s3d1 = input_train_mod2[input_train_mod2.obs[\"batch\"] == \"s3d1\", :]\n",
    "RNA_s3d6 = input_train_mod2[input_train_mod2.obs[\"batch\"] == \"s3d6\", :]\n",
    "RNA_s3d7 = input_train_mod2[input_train_mod2.obs[\"batch\"] == \"s3d7\", :]"
   ]
  },
  {
   "cell_type": "code",
   "execution_count": 33,
   "id": "10814a85-5a3c-415c-bb62-7c8afd97a173",
   "metadata": {},
   "outputs": [],
   "source": [
    "pro_s4d1 = input_test_mod1[input_test_mod1.obs[\"batch\"] == \"s4d1\", :]\n",
    "pro_s4d8 = input_test_mod1[input_test_mod1.obs[\"batch\"] == \"s4d8\", :]\n",
    "pro_s4d9 = input_test_mod1[input_test_mod1.obs[\"batch\"] == \"s4d9\", :]"
   ]
  },
  {
   "cell_type": "code",
   "execution_count": 34,
   "id": "4d05a541-c621-48e4-91e8-5d1724e5c31b",
   "metadata": {},
   "outputs": [],
   "source": [
    "RNA_s4d1 = input_test_mod2[input_test_mod2.obs[\"batch\"] == \"s4d1\", :]\n",
    "RNA_s4d8 = input_test_mod2[input_test_mod2.obs[\"batch\"] == \"s4d8\", :]\n",
    "RNA_s4d9 = input_test_mod2[input_test_mod2.obs[\"batch\"] == \"s4d9\", :]"
   ]
  },
  {
   "cell_type": "code",
   "execution_count": 35,
   "id": "a5afb393-4cd5-4848-a6bb-6ca47559f030",
   "metadata": {},
   "outputs": [],
   "source": [
    "pro_s1d1 = pro_s1d1.X.toarray()\n",
    "pro_s1d2 = pro_s1d2.X.toarray()\n",
    "pro_s1d3 = pro_s1d3.X.toarray()\n",
    "pro_s2d1 = pro_s2d1.X.toarray()\n",
    "pro_s2d4 = pro_s2d4.X.toarray()\n",
    "pro_s2d5 = pro_s2d5.X.toarray()\n",
    "\n",
    "pro_s3d1 = pro_s3d1.X.toarray()\n",
    "pro_s3d6 = pro_s3d6.X.toarray()\n",
    "pro_s3d7 = pro_s3d7.X.toarray()"
   ]
  },
  {
   "cell_type": "code",
   "execution_count": 36,
   "id": "39ad88b3-acf9-48ac-a018-260d09ca0b19",
   "metadata": {},
   "outputs": [],
   "source": [
    "RNA_s1d1 = RNA_s1d1.X.toarray()\n",
    "RNA_s1d2 = RNA_s1d2.X.toarray()\n",
    "RNA_s1d3 = RNA_s1d3.X.toarray()\n",
    "RNA_s2d1 = RNA_s2d1.X.toarray()\n",
    "RNA_s2d4 = RNA_s2d4.X.toarray()\n",
    "RNA_s2d5 = RNA_s2d5.X.toarray()\n",
    "\n",
    "RNA_s3d1 = RNA_s3d1.X.toarray()\n",
    "RNA_s3d6 = RNA_s3d6.X.toarray()\n",
    "RNA_s3d7 = RNA_s3d7.X.toarray()"
   ]
  },
  {
   "cell_type": "code",
   "execution_count": 37,
   "id": "18318fd6-1522-48ee-aa18-95563459f201",
   "metadata": {},
   "outputs": [],
   "source": [
    "pro_s4d1 = pro_s4d1.X.toarray()\n",
    "pro_s4d8 = pro_s4d8.X.toarray()\n",
    "pro_s4d9 = pro_s4d9.X.toarray()"
   ]
  },
  {
   "cell_type": "code",
   "execution_count": 38,
   "id": "29c89fdf-9e9f-4ea3-a0bd-139cea3dbce8",
   "metadata": {},
   "outputs": [],
   "source": [
    "RNA_s4d1 = RNA_s4d1.X.toarray()\n",
    "RNA_s4d8 = RNA_s4d8.X.toarray()\n",
    "RNA_s4d9 = RNA_s4d9.X.toarray()"
   ]
  },
  {
   "cell_type": "code",
   "execution_count": 39,
   "id": "3ccaf659-2542-499e-ad0d-42c151564196",
   "metadata": {},
   "outputs": [
    {
     "name": "stdout",
     "output_type": "stream",
     "text": [
      "(4721, 13953)\n",
      "(4721, 134)\n"
     ]
    }
   ],
   "source": [
    "print(RNA_s1d1.shape)\n",
    "print(pro_s1d1.shape)"
   ]
  },
  {
   "cell_type": "code",
   "execution_count": 40,
   "id": "6cbc6138-67d5-40c2-9910-fc89df4e10af",
   "metadata": {},
   "outputs": [
    {
     "name": "stdout",
     "output_type": "stream",
     "text": [
      "(334, 13953)\n",
      "(334, 134)\n"
     ]
    }
   ],
   "source": [
    "print(RNA_s4d1.shape)\n",
    "print(pro_s4d1.shape)"
   ]
  },
  {
   "cell_type": "code",
   "execution_count": 41,
   "id": "beebaac0-17b4-4aae-9066-2b20295923fa",
   "metadata": {},
   "outputs": [],
   "source": [
    "train_input_ = [pro_s1d1, pro_s1d2, pro_s1d3, pro_s2d1, pro_s2d4, pro_s2d5]\n",
    "train_output_ = [RNA_s1d1, RNA_s1d2, RNA_s1d3, RNA_s2d1, RNA_s2d4, RNA_s2d5]\n",
    "\n",
    "val_input_ = [pro_s3d1, pro_s3d6, pro_s3d7]\n",
    "val_output_ = [RNA_s3d1, RNA_s3d6, RNA_s3d7]\n",
    "\n",
    "test_input_ = [pro_s4d1, pro_s4d8, pro_s4d9]\n",
    "test_output_ = [RNA_s4d1, RNA_s4d8, RNA_s4d9]"
   ]
  },
  {
   "cell_type": "code",
   "execution_count": 42,
   "id": "417ac5b7-713d-4c9c-8618-66c0a465d73a",
   "metadata": {},
   "outputs": [],
   "source": [
    "train_input_ = train_input_ + val_input_\n",
    "train_output_ = train_output_ + val_output_"
   ]
  },
  {
   "cell_type": "code",
   "execution_count": 43,
   "id": "d55da7d5-796b-4bb5-8807-05f56b90ecbe",
   "metadata": {},
   "outputs": [],
   "source": [
    "train_input_ = np.concatenate(train_input_, axis=0)\n",
    "val_input_ = np.concatenate(val_input_, axis=0)\n",
    "test_input_ = np.concatenate(test_input_, axis=0)\n",
    "\n",
    "train_output_ = np.concatenate(train_output_, axis=0)\n",
    "val_output_ = np.concatenate(val_output_, axis=0)\n",
    "test_output_ = np.concatenate(test_output_, axis=0)"
   ]
  },
  {
   "cell_type": "code",
   "execution_count": null,
   "id": "1d285b90-39b9-4a4e-9f42-86c06d4cae19",
   "metadata": {},
   "outputs": [],
   "source": []
  },
  {
   "cell_type": "code",
   "execution_count": null,
   "id": "d96e0069-7fe0-46db-ad0f-be42ee8f0b86",
   "metadata": {},
   "outputs": [],
   "source": []
  },
  {
   "cell_type": "code",
   "execution_count": null,
   "id": "e9aa756c-e010-4229-a031-7f3f722c72ea",
   "metadata": {},
   "outputs": [],
   "source": []
  },
  {
   "cell_type": "code",
   "execution_count": null,
   "id": "89864c48-0d10-44aa-8efa-c9d7dce4c921",
   "metadata": {},
   "outputs": [],
   "source": []
  },
  {
   "cell_type": "code",
   "execution_count": null,
   "id": "a9ede85b-9f74-4f8f-8022-b29eb0c9ebd3",
   "metadata": {},
   "outputs": [],
   "source": []
  },
  {
   "cell_type": "code",
   "execution_count": null,
   "id": "fe957b43-3e8f-4b0d-ae32-a13307bda51f",
   "metadata": {},
   "outputs": [],
   "source": []
  },
  {
   "cell_type": "code",
   "execution_count": 44,
   "id": "d5c5db7d-127d-4bbe-ab8f-3120990e5d4b",
   "metadata": {},
   "outputs": [],
   "source": [
    "train_input = np.float64(train_input)\n",
    "train_output = np.float64(train_output)\n",
    "val_input = np.float64(val_input)\n",
    "val_output = np.float64(val_output)\n",
    "test_input = np.float64(test_input)\n",
    "test_output = np.float64(test_output)"
   ]
  },
  {
   "cell_type": "code",
   "execution_count": 45,
   "id": "53eaa25a-5cf1-4cc1-ac12-b74c69ce16dd",
   "metadata": {},
   "outputs": [],
   "source": [
    "train_input = torch.from_numpy(train_input)\n",
    "train_output = torch.from_numpy(train_output)\n",
    "val_input = torch.from_numpy(val_input)\n",
    "val_output = torch.from_numpy(val_output)\n",
    "test_input = torch.from_numpy(test_input)\n",
    "test_output = torch.from_numpy(test_output)"
   ]
  },
  {
   "cell_type": "code",
   "execution_count": 46,
   "id": "21fc65f8-d208-4cdf-856b-507176f0038f",
   "metadata": {},
   "outputs": [],
   "source": [
    "train_input = train_input.float()\n",
    "train_output = train_output.float()\n",
    "val_input = val_input.float()\n",
    "val_output = val_output.float()\n",
    "test_input = test_input.float()\n",
    "test_output = test_output.float()"
   ]
  },
  {
   "cell_type": "code",
   "execution_count": 47,
   "id": "fcb3ca20-f456-426b-bfd8-c9f39a2c4156",
   "metadata": {},
   "outputs": [],
   "source": [
    "train_input = train_input.to(device)\n",
    "train_output = train_output.to(device)\n",
    "val_input = val_input.to(device)\n",
    "val_output = val_output.to(device)\n",
    "test_input = test_input.to(device)\n",
    "test_output = test_output.to(device)"
   ]
  },
  {
   "cell_type": "code",
   "execution_count": 48,
   "id": "6c2f5e9f-728e-4a13-a0cc-777f6fbd7f99",
   "metadata": {},
   "outputs": [],
   "source": [
    "colors = ['red','green','blue','purple', 'yellow', 'orange']\n",
    "k = 0\n",
    "batch_lib = {}\n",
    "for i in range(len(batch_train)):\n",
    "    if batch_train[i] not in batch_lib:\n",
    "        k = k + 1\n",
    "        batch_lib[batch_train[i]] = k\n",
    "    batch_train[i] = batch_lib[batch_train[i]]"
   ]
  },
  {
   "cell_type": "code",
   "execution_count": 49,
   "id": "f4766243-9574-420f-ba2e-08e1131efa5f",
   "metadata": {},
   "outputs": [],
   "source": [
    "colors = ['red','green','blue','purple', 'yellow', 'orange']\n",
    "k = 0\n",
    "batch_lib = {}\n",
    "for i in range(len(batch_val)):\n",
    "    if batch_val[i] not in batch_lib:\n",
    "        k = k + 1\n",
    "        batch_lib[batch_val[i]] = k\n",
    "    batch_val[i] = batch_lib[batch_val[i]]"
   ]
  },
  {
   "cell_type": "code",
   "execution_count": 50,
   "id": "0ce14261-ec7d-49de-b31f-0a5dd2e0bc3f",
   "metadata": {},
   "outputs": [],
   "source": [
    "colors = ['red','green','blue','purple', 'yellow', 'orange']\n",
    "k = 0\n",
    "batch_lib = {}\n",
    "for i in range(len(batch_test)):\n",
    "    if batch_test[i] not in batch_lib:\n",
    "        k = k + 1\n",
    "        batch_lib[batch_test[i]] = k\n",
    "    batch_test[i] = batch_lib[batch_test[i]]"
   ]
  },
  {
   "cell_type": "code",
   "execution_count": 51,
   "id": "598e30dd-4f8b-4610-a30f-7f6f6756bff3",
   "metadata": {},
   "outputs": [],
   "source": [
    "batch_train = batch_train + batch_val"
   ]
  },
  {
   "cell_type": "code",
   "execution_count": 52,
   "id": "b7dff04f-4d6b-4c65-915a-18205d9ae19a",
   "metadata": {},
   "outputs": [
    {
     "data": {
      "text/plain": [
       "torch.Size([37087, 1])"
      ]
     },
     "execution_count": 52,
     "metadata": {},
     "output_type": "execute_result"
    }
   ],
   "source": [
    "train_output = train_output[:, 0:pred_num]\n",
    "train_output.shape"
   ]
  },
  {
   "cell_type": "code",
   "execution_count": 53,
   "id": "130a616c-e05e-47cc-a5f3-14ec5091eab0",
   "metadata": {},
   "outputs": [
    {
     "data": {
      "text/plain": [
       "torch.Size([7865, 1])"
      ]
     },
     "execution_count": 53,
     "metadata": {},
     "output_type": "execute_result"
    }
   ],
   "source": [
    "val_output = val_output[:, 0:pred_num]\n",
    "val_output.shape"
   ]
  },
  {
   "cell_type": "code",
   "execution_count": 54,
   "id": "aa604e66-84bd-4f86-b6fa-27bcd26c232b",
   "metadata": {},
   "outputs": [
    {
     "data": {
      "text/plain": [
       "torch.Size([1000, 1])"
      ]
     },
     "execution_count": 54,
     "metadata": {},
     "output_type": "execute_result"
    }
   ],
   "source": [
    "test_output = test_output[:, 0:pred_num]\n",
    "test_output.shape"
   ]
  },
  {
   "cell_type": "code",
   "execution_count": 55,
   "id": "61de4cdc-92aa-4b36-a797-0dd62fcdb44f",
   "metadata": {},
   "outputs": [],
   "source": [
    "train_ds = TensorDataset(train_input, train_output)\n",
    "train_dl = DataLoader(train_ds, batch_size= batch_size, shuffle=True)"
   ]
  },
  {
   "cell_type": "code",
   "execution_count": 56,
   "id": "b53502d6-45ac-408d-9a82-c565a5e87c22",
   "metadata": {},
   "outputs": [],
   "source": [
    "input_feature = train_input.shape[1]\n",
    "output_feature = pred_num"
   ]
  },
  {
   "cell_type": "code",
   "execution_count": 57,
   "id": "cdfef524-ca23-472a-b70c-b521da8bb101",
   "metadata": {
    "tags": []
   },
   "outputs": [],
   "source": [
    "# auto-encoder model\n",
    "# base model\n",
    "class Autoencoder(nn.Module):\n",
    "    def __init__(self):\n",
    "        super(Autoencoder, self).__init__()\n",
    "        self.linear1 = nn.Linear(input_feature, input_feature//16)\n",
    "        self.linear2 = nn.Linear(input_feature//2, input_feature//4)\n",
    "        self.linear3 = nn.Linear(input_feature//4, input_feature//8)\n",
    "        self.linear4 = nn.Linear(input_feature//8, input_feature//16)\n",
    "        \n",
    "        self.linear5 = nn.Linear(input_feature//16, pred_num)\n",
    "        self.relu = nn.ReLU()\n",
    "        self.leakyrelu = nn.LeakyReLU(0.1)\n",
    "        self.dropout = nn.Dropout(0.15)\n",
    "        \n",
    "        self.linear = nn.Linear(input_feature, pred_num)\n",
    "\n",
    "    def forward(self, x):\n",
    "        x = self.linear1(x)\n",
    "        x = self.relu(x)\n",
    "        x = self.dropout(x)\n",
    "        \n",
    "#         x = self.linear2(x)\n",
    "#         x = self.relu(x)\n",
    "#         x = self.dropout(x)\n",
    "        \n",
    "#         x = self.linear3(x)\n",
    "#         x = self.relu(x)\n",
    "        \n",
    "#         x = self.linear4(x)\n",
    "#         x = self.relu(x)\n",
    "        \n",
    "        output = self.linear5(x)\n",
    "        \n",
    "        return output.float()"
   ]
  },
  {
   "cell_type": "code",
   "execution_count": 58,
   "id": "14f2313e-a644-47fb-ad4a-3eb98b7fb98e",
   "metadata": {},
   "outputs": [],
   "source": [
    "PATH = 'No_norm_model_DNA_RNA_binary'"
   ]
  },
  {
   "cell_type": "code",
   "execution_count": 59,
   "id": "1a53dd89-ac85-4b11-bc7c-7e8df4ef8e10",
   "metadata": {},
   "outputs": [],
   "source": [
    "def fit(num_epochs, model, loss_fn, train_input, train_output, val_input, val_output, test_input, test_output):\n",
    "    # plt.rcParams['figure.figsize'] = [40, 40]\n",
    "    val_best = float('inf')\n",
    "    train_pred_output = []\n",
    "    val_pred_output = []\n",
    "    for epoch in range(num_epochs):\n",
    "        for x,y in train_dl:\n",
    "            model = model.train()\n",
    "            pred = model(x)\n",
    "            # print(y.shape, pred.shape)\n",
    "            # y = torch.reshape(y, (y.shape[0], 1))\n",
    "            loss = loss_fn(pred, y)\n",
    "            loss.backward()\n",
    "            opt.step()\n",
    "            opt.zero_grad()\n",
    "\n",
    "        if epoch % 100 == 0:\n",
    "            model = model.eval()\n",
    "            \n",
    "            train_pred = model(train_input)\n",
    "            # train_output = torch.reshape(train_output, (train_output.shape[0], 1))\n",
    "            train_loss = loss_fn(train_pred, train_output)\n",
    "            train_loss = torch.sqrt(train_loss)\n",
    "            train_loss = train_loss.cpu().detach().numpy()\n",
    "            \n",
    "            val_pred = model(val_input)\n",
    "            # val_output = torch.reshape(val_output, (val_output.shape[0], 1))\n",
    "            val_loss = loss_fn(val_pred, val_output)\n",
    "            val_loss = torch.sqrt(val_loss)\n",
    "            val_loss = val_loss.cpu().detach().numpy()\n",
    "            \n",
    "            test_pred = model(test_input)\n",
    "            # val_output = torch.reshape(val_output, (val_output.shape[0], 1))\n",
    "            test_loss = loss_fn(test_pred, test_output)\n",
    "            test_loss = torch.sqrt(test_loss)\n",
    "            test_loss = test_loss.cpu().detach().numpy()\n",
    "            \n",
    "            if val_loss < val_best:\n",
    "                torch.save(model.state_dict(), PATH)\n",
    "                val_best = val_loss\n",
    "                \n",
    "            print('Epoch ', epoch, 'Train_loss: ', train_loss, ' Validation_loss: ', val_loss, ' Test_loss: ', test_loss)\n",
    "        if epoch % 1000 == 0:\n",
    "            colors = ['red','green','blue','purple', 'yellow', 'orange']\n",
    "            figure, ax = plt.subplots(1, 3, figsize = (13, 3*1))\n",
    "            for i in range(1):\n",
    "                ax[0].scatter(train_output.cpu().detach().numpy()[:, 0], train_pred.cpu().detach().numpy()[:, 0], c=batch_train, cmap=matplotlib.colors.ListedColormap(colors), s = 30, alpha=0.3)\n",
    "                ax[0].plot([-1.5, 3], [-1.5, 3], 'k-')\n",
    "                ax[0].set_title('Train data result ' + str(i+1))\n",
    "                ax[0].set_xlabel('train')\n",
    "                ax[0].set_ylabel('pred')\n",
    "\n",
    "                ax[1].scatter(val_output.cpu().detach().numpy()[:, 0], val_pred.cpu().detach().numpy()[:, 0], c=batch_val, cmap=matplotlib.colors.ListedColormap(colors), s = 30, alpha=0.3)\n",
    "                ax[1].plot([-1.5, 3], [-1.5, 3], 'k-')\n",
    "                ax[1].set_title('Validation data result ' + str(i+1))\n",
    "                ax[1].set_xlabel('true')\n",
    "                ax[1].set_ylabel('pred')\n",
    "\n",
    "                ax[2].scatter(test_output.cpu().detach().numpy()[:, 0], test_pred.cpu().detach().numpy()[:, 0], c=batch_test, cmap=matplotlib.colors.ListedColormap(colors), s = 30, alpha=0.3)\n",
    "                ax[2].plot([-1.5, 3], [-1.5, 3], 'k-')\n",
    "                ax[2].set_title('Test data result ' + str(i+1))\n",
    "                ax[2].set_xlabel('true')\n",
    "                ax[2].set_ylabel('pred')\n",
    "            \n",
    "            plt.show()\n",
    "            # train_pred_output.append([train_pred.cpu().detach().numpy(), train_output.cpu().detach().numpy()])\n",
    "            # val_pred_output.append([val_pred.cpu().detach().numpy(), val_output.cpu().detach().numpy()])\n",
    "    return train_pred.cpu().detach().numpy(), train_output.cpu().detach().numpy(), val_pred.cpu().detach().numpy(), val_output.cpu().detach().numpy()"
   ]
  },
  {
   "cell_type": "code",
   "execution_count": 60,
   "id": "b2b6ac2d-5e09-47e6-b47b-a3d9efd56efa",
   "metadata": {},
   "outputs": [
    {
     "name": "stdout",
     "output_type": "stream",
     "text": [
      "Epoch  0 Train_loss:  0.1715832  Validation_loss:  0.17957889  Test_loss:  0.13174516\n"
     ]
    },
    {
     "data": {
      "image/png": "[encoded data removed]",
      "text/plain": [
       "<Figure size 936x216 with 3 Axes>"
      ]
     },
     "metadata": {
      "needs_background": "light"
     },
     "output_type": "display_data"
    },
    {
     "name": "stdout",
     "output_type": "stream",
     "text": [
      "Epoch  100 Train_loss:  0.1202065  Validation_loss:  0.12788883  Test_loss:  0.072253555\n"
     ]
    },
    {
     "ename": "KeyboardInterrupt",
     "evalue": "",
     "output_type": "error",
     "traceback": [
      "\u001b[0;31m---------------------------------------------------------------------------\u001b[0m",
      "\u001b[0;31mKeyboardInterrupt\u001b[0m                         Traceback (most recent call last)",
      "\u001b[0;32m<ipython-input-60-1b26067ac032>\u001b[0m in \u001b[0;36m<module>\u001b[0;34m\u001b[0m\n\u001b[1;32m     18\u001b[0m \u001b[0mmodel\u001b[0m \u001b[0;34m=\u001b[0m \u001b[0mmodel\u001b[0m\u001b[0;34m.\u001b[0m\u001b[0mto\u001b[0m\u001b[0;34m(\u001b[0m\u001b[0mdevice\u001b[0m\u001b[0;34m)\u001b[0m\u001b[0;34m\u001b[0m\u001b[0;34m\u001b[0m\u001b[0m\n\u001b[1;32m     19\u001b[0m \u001b[0mopt\u001b[0m \u001b[0;34m=\u001b[0m \u001b[0mtorch\u001b[0m\u001b[0;34m.\u001b[0m\u001b[0moptim\u001b[0m\u001b[0;34m.\u001b[0m\u001b[0mSGD\u001b[0m\u001b[0;34m(\u001b[0m\u001b[0mmodel\u001b[0m\u001b[0;34m.\u001b[0m\u001b[0mparameters\u001b[0m\u001b[0;34m(\u001b[0m\u001b[0;34m)\u001b[0m\u001b[0;34m,\u001b[0m \u001b[0mlr\u001b[0m\u001b[0;34m=\u001b[0m\u001b[0mlearning_rate\u001b[0m\u001b[0;34m,\u001b[0m \u001b[0mmomentum\u001b[0m\u001b[0;34m=\u001b[0m\u001b[0;36m0.9\u001b[0m\u001b[0;34m)\u001b[0m\u001b[0;34m\u001b[0m\u001b[0;34m\u001b[0m\u001b[0m\n\u001b[0;32m---> 20\u001b[0;31m \u001b[0mtrain_pred_np\u001b[0m\u001b[0;34m,\u001b[0m \u001b[0mtrain_output_np\u001b[0m\u001b[0;34m,\u001b[0m \u001b[0mval_pred_np\u001b[0m\u001b[0;34m,\u001b[0m \u001b[0mval_output_np\u001b[0m \u001b[0;34m=\u001b[0m \u001b[0mfit\u001b[0m\u001b[0;34m(\u001b[0m\u001b[0mnum_epochs\u001b[0m\u001b[0;34m,\u001b[0m \u001b[0mmodel\u001b[0m\u001b[0;34m,\u001b[0m \u001b[0mloss_fn\u001b[0m\u001b[0;34m,\u001b[0m \u001b[0mtrain_input\u001b[0m\u001b[0;34m,\u001b[0m \u001b[0mtrain_output\u001b[0m\u001b[0;34m,\u001b[0m \u001b[0mval_input\u001b[0m\u001b[0;34m,\u001b[0m \u001b[0mval_output\u001b[0m\u001b[0;34m,\u001b[0m \u001b[0mtest_input\u001b[0m\u001b[0;34m,\u001b[0m \u001b[0mtest_output\u001b[0m\u001b[0;34m)\u001b[0m\u001b[0;34m\u001b[0m\u001b[0;34m\u001b[0m\u001b[0m\n\u001b[0m",
      "\u001b[0;32m<ipython-input-59-dd6d0e7f56ba>\u001b[0m in \u001b[0;36mfit\u001b[0;34m(num_epochs, model, loss_fn, train_input, train_output, val_input, val_output, test_input, test_output)\u001b[0m\n\u001b[1;32m      5\u001b[0m     \u001b[0mval_pred_output\u001b[0m \u001b[0;34m=\u001b[0m \u001b[0;34m[\u001b[0m\u001b[0;34m]\u001b[0m\u001b[0;34m\u001b[0m\u001b[0;34m\u001b[0m\u001b[0m\n\u001b[1;32m      6\u001b[0m     \u001b[0;32mfor\u001b[0m \u001b[0mepoch\u001b[0m \u001b[0;32min\u001b[0m \u001b[0mrange\u001b[0m\u001b[0;34m(\u001b[0m\u001b[0mnum_epochs\u001b[0m\u001b[0;34m)\u001b[0m\u001b[0;34m:\u001b[0m\u001b[0;34m\u001b[0m\u001b[0;34m\u001b[0m\u001b[0m\n\u001b[0;32m----> 7\u001b[0;31m         \u001b[0;32mfor\u001b[0m \u001b[0mx\u001b[0m\u001b[0;34m,\u001b[0m\u001b[0my\u001b[0m \u001b[0;32min\u001b[0m \u001b[0mtrain_dl\u001b[0m\u001b[0;34m:\u001b[0m\u001b[0;34m\u001b[0m\u001b[0;34m\u001b[0m\u001b[0m\n\u001b[0m\u001b[1;32m      8\u001b[0m             \u001b[0mmodel\u001b[0m \u001b[0;34m=\u001b[0m \u001b[0mmodel\u001b[0m\u001b[0;34m.\u001b[0m\u001b[0mtrain\u001b[0m\u001b[0;34m(\u001b[0m\u001b[0;34m)\u001b[0m\u001b[0;34m\u001b[0m\u001b[0;34m\u001b[0m\u001b[0m\n\u001b[1;32m      9\u001b[0m             \u001b[0mpred\u001b[0m \u001b[0;34m=\u001b[0m \u001b[0mmodel\u001b[0m\u001b[0;34m(\u001b[0m\u001b[0mx\u001b[0m\u001b[0;34m)\u001b[0m\u001b[0;34m\u001b[0m\u001b[0;34m\u001b[0m\u001b[0m\n",
      "\u001b[0;32m/usr/lib/python3/dist-packages/torch/utils/data/dataloader.py\u001b[0m in \u001b[0;36m__next__\u001b[0;34m(self)\u001b[0m\n\u001b[1;32m    519\u001b[0m             \u001b[0;32mif\u001b[0m \u001b[0mself\u001b[0m\u001b[0;34m.\u001b[0m\u001b[0m_sampler_iter\u001b[0m \u001b[0;32mis\u001b[0m \u001b[0;32mNone\u001b[0m\u001b[0;34m:\u001b[0m\u001b[0;34m\u001b[0m\u001b[0;34m\u001b[0m\u001b[0m\n\u001b[1;32m    520\u001b[0m                 \u001b[0mself\u001b[0m\u001b[0;34m.\u001b[0m\u001b[0m_reset\u001b[0m\u001b[0;34m(\u001b[0m\u001b[0;34m)\u001b[0m\u001b[0;34m\u001b[0m\u001b[0;34m\u001b[0m\u001b[0m\n\u001b[0;32m--> 521\u001b[0;31m             \u001b[0mdata\u001b[0m \u001b[0;34m=\u001b[0m \u001b[0mself\u001b[0m\u001b[0;34m.\u001b[0m\u001b[0m_next_data\u001b[0m\u001b[0;34m(\u001b[0m\u001b[0;34m)\u001b[0m\u001b[0;34m\u001b[0m\u001b[0;34m\u001b[0m\u001b[0m\n\u001b[0m\u001b[1;32m    522\u001b[0m             \u001b[0mself\u001b[0m\u001b[0;34m.\u001b[0m\u001b[0m_num_yielded\u001b[0m \u001b[0;34m+=\u001b[0m \u001b[0;36m1\u001b[0m\u001b[0;34m\u001b[0m\u001b[0;34m\u001b[0m\u001b[0m\n\u001b[1;32m    523\u001b[0m             \u001b[0;32mif\u001b[0m \u001b[0mself\u001b[0m\u001b[0;34m.\u001b[0m\u001b[0m_dataset_kind\u001b[0m \u001b[0;34m==\u001b[0m \u001b[0m_DatasetKind\u001b[0m\u001b[0;34m.\u001b[0m\u001b[0mIterable\u001b[0m \u001b[0;32mand\u001b[0m\u001b[0;31m \u001b[0m\u001b[0;31m\\\u001b[0m\u001b[0;34m\u001b[0m\u001b[0;34m\u001b[0m\u001b[0m\n",
      "\u001b[0;32m/usr/lib/python3/dist-packages/torch/utils/data/dataloader.py\u001b[0m in \u001b[0;36m_next_data\u001b[0;34m(self)\u001b[0m\n\u001b[1;32m    559\u001b[0m     \u001b[0;32mdef\u001b[0m \u001b[0m_next_data\u001b[0m\u001b[0;34m(\u001b[0m\u001b[0mself\u001b[0m\u001b[0;34m)\u001b[0m\u001b[0;34m:\u001b[0m\u001b[0;34m\u001b[0m\u001b[0;34m\u001b[0m\u001b[0m\n\u001b[1;32m    560\u001b[0m         \u001b[0mindex\u001b[0m \u001b[0;34m=\u001b[0m \u001b[0mself\u001b[0m\u001b[0;34m.\u001b[0m\u001b[0m_next_index\u001b[0m\u001b[0;34m(\u001b[0m\u001b[0;34m)\u001b[0m  \u001b[0;31m# may raise StopIteration\u001b[0m\u001b[0;34m\u001b[0m\u001b[0;34m\u001b[0m\u001b[0m\n\u001b[0;32m--> 561\u001b[0;31m         \u001b[0mdata\u001b[0m \u001b[0;34m=\u001b[0m \u001b[0mself\u001b[0m\u001b[0;34m.\u001b[0m\u001b[0m_dataset_fetcher\u001b[0m\u001b[0;34m.\u001b[0m\u001b[0mfetch\u001b[0m\u001b[0;34m(\u001b[0m\u001b[0mindex\u001b[0m\u001b[0;34m)\u001b[0m  \u001b[0;31m# may raise StopIteration\u001b[0m\u001b[0;34m\u001b[0m\u001b[0;34m\u001b[0m\u001b[0m\n\u001b[0m\u001b[1;32m    562\u001b[0m         \u001b[0;32mif\u001b[0m \u001b[0mself\u001b[0m\u001b[0;34m.\u001b[0m\u001b[0m_pin_memory\u001b[0m\u001b[0;34m:\u001b[0m\u001b[0;34m\u001b[0m\u001b[0;34m\u001b[0m\u001b[0m\n\u001b[1;32m    563\u001b[0m             \u001b[0mdata\u001b[0m \u001b[0;34m=\u001b[0m \u001b[0m_utils\u001b[0m\u001b[0;34m.\u001b[0m\u001b[0mpin_memory\u001b[0m\u001b[0;34m.\u001b[0m\u001b[0mpin_memory\u001b[0m\u001b[0;34m(\u001b[0m\u001b[0mdata\u001b[0m\u001b[0;34m)\u001b[0m\u001b[0;34m\u001b[0m\u001b[0;34m\u001b[0m\u001b[0m\n",
      "\u001b[0;32m/usr/lib/python3/dist-packages/torch/utils/data/_utils/fetch.py\u001b[0m in \u001b[0;36mfetch\u001b[0;34m(self, possibly_batched_index)\u001b[0m\n\u001b[1;32m     42\u001b[0m     \u001b[0;32mdef\u001b[0m \u001b[0mfetch\u001b[0m\u001b[0;34m(\u001b[0m\u001b[0mself\u001b[0m\u001b[0;34m,\u001b[0m \u001b[0mpossibly_batched_index\u001b[0m\u001b[0;34m)\u001b[0m\u001b[0;34m:\u001b[0m\u001b[0;34m\u001b[0m\u001b[0;34m\u001b[0m\u001b[0m\n\u001b[1;32m     43\u001b[0m         \u001b[0;32mif\u001b[0m \u001b[0mself\u001b[0m\u001b[0;34m.\u001b[0m\u001b[0mauto_collation\u001b[0m\u001b[0;34m:\u001b[0m\u001b[0;34m\u001b[0m\u001b[0;34m\u001b[0m\u001b[0m\n\u001b[0;32m---> 44\u001b[0;31m             \u001b[0mdata\u001b[0m \u001b[0;34m=\u001b[0m \u001b[0;34m[\u001b[0m\u001b[0mself\u001b[0m\u001b[0;34m.\u001b[0m\u001b[0mdataset\u001b[0m\u001b[0;34m[\u001b[0m\u001b[0midx\u001b[0m\u001b[0;34m]\u001b[0m \u001b[0;32mfor\u001b[0m \u001b[0midx\u001b[0m \u001b[0;32min\u001b[0m \u001b[0mpossibly_batched_index\u001b[0m\u001b[0;34m]\u001b[0m\u001b[0;34m\u001b[0m\u001b[0;34m\u001b[0m\u001b[0m\n\u001b[0m\u001b[1;32m     45\u001b[0m         \u001b[0;32melse\u001b[0m\u001b[0;34m:\u001b[0m\u001b[0;34m\u001b[0m\u001b[0;34m\u001b[0m\u001b[0m\n\u001b[1;32m     46\u001b[0m             \u001b[0mdata\u001b[0m \u001b[0;34m=\u001b[0m \u001b[0mself\u001b[0m\u001b[0;34m.\u001b[0m\u001b[0mdataset\u001b[0m\u001b[0;34m[\u001b[0m\u001b[0mpossibly_batched_index\u001b[0m\u001b[0;34m]\u001b[0m\u001b[0;34m\u001b[0m\u001b[0;34m\u001b[0m\u001b[0m\n",
      "\u001b[0;32m/usr/lib/python3/dist-packages/torch/utils/data/_utils/fetch.py\u001b[0m in \u001b[0;36m<listcomp>\u001b[0;34m(.0)\u001b[0m\n\u001b[1;32m     42\u001b[0m     \u001b[0;32mdef\u001b[0m \u001b[0mfetch\u001b[0m\u001b[0;34m(\u001b[0m\u001b[0mself\u001b[0m\u001b[0;34m,\u001b[0m \u001b[0mpossibly_batched_index\u001b[0m\u001b[0;34m)\u001b[0m\u001b[0;34m:\u001b[0m\u001b[0;34m\u001b[0m\u001b[0;34m\u001b[0m\u001b[0m\n\u001b[1;32m     43\u001b[0m         \u001b[0;32mif\u001b[0m \u001b[0mself\u001b[0m\u001b[0;34m.\u001b[0m\u001b[0mauto_collation\u001b[0m\u001b[0;34m:\u001b[0m\u001b[0;34m\u001b[0m\u001b[0;34m\u001b[0m\u001b[0m\n\u001b[0;32m---> 44\u001b[0;31m             \u001b[0mdata\u001b[0m \u001b[0;34m=\u001b[0m \u001b[0;34m[\u001b[0m\u001b[0mself\u001b[0m\u001b[0;34m.\u001b[0m\u001b[0mdataset\u001b[0m\u001b[0;34m[\u001b[0m\u001b[0midx\u001b[0m\u001b[0;34m]\u001b[0m \u001b[0;32mfor\u001b[0m \u001b[0midx\u001b[0m \u001b[0;32min\u001b[0m \u001b[0mpossibly_batched_index\u001b[0m\u001b[0;34m]\u001b[0m\u001b[0;34m\u001b[0m\u001b[0;34m\u001b[0m\u001b[0m\n\u001b[0m\u001b[1;32m     45\u001b[0m         \u001b[0;32melse\u001b[0m\u001b[0;34m:\u001b[0m\u001b[0;34m\u001b[0m\u001b[0;34m\u001b[0m\u001b[0m\n\u001b[1;32m     46\u001b[0m             \u001b[0mdata\u001b[0m \u001b[0;34m=\u001b[0m \u001b[0mself\u001b[0m\u001b[0;34m.\u001b[0m\u001b[0mdataset\u001b[0m\u001b[0;34m[\u001b[0m\u001b[0mpossibly_batched_index\u001b[0m\u001b[0;34m]\u001b[0m\u001b[0;34m\u001b[0m\u001b[0;34m\u001b[0m\u001b[0m\n",
      "\u001b[0;32m/usr/lib/python3/dist-packages/torch/utils/data/dataset.py\u001b[0m in \u001b[0;36m__getitem__\u001b[0;34m(self, index)\u001b[0m\n\u001b[1;32m    207\u001b[0m \u001b[0;34m\u001b[0m\u001b[0m\n\u001b[1;32m    208\u001b[0m     \u001b[0;32mdef\u001b[0m \u001b[0m__getitem__\u001b[0m\u001b[0;34m(\u001b[0m\u001b[0mself\u001b[0m\u001b[0;34m,\u001b[0m \u001b[0mindex\u001b[0m\u001b[0;34m)\u001b[0m\u001b[0;34m:\u001b[0m\u001b[0;34m\u001b[0m\u001b[0;34m\u001b[0m\u001b[0m\n\u001b[0;32m--> 209\u001b[0;31m         \u001b[0;32mreturn\u001b[0m \u001b[0mtuple\u001b[0m\u001b[0;34m(\u001b[0m\u001b[0mtensor\u001b[0m\u001b[0;34m[\u001b[0m\u001b[0mindex\u001b[0m\u001b[0;34m]\u001b[0m \u001b[0;32mfor\u001b[0m \u001b[0mtensor\u001b[0m \u001b[0;32min\u001b[0m \u001b[0mself\u001b[0m\u001b[0;34m.\u001b[0m\u001b[0mtensors\u001b[0m\u001b[0;34m)\u001b[0m\u001b[0;34m\u001b[0m\u001b[0;34m\u001b[0m\u001b[0m\n\u001b[0m\u001b[1;32m    210\u001b[0m \u001b[0;34m\u001b[0m\u001b[0m\n\u001b[1;32m    211\u001b[0m     \u001b[0;32mdef\u001b[0m \u001b[0m__len__\u001b[0m\u001b[0;34m(\u001b[0m\u001b[0mself\u001b[0m\u001b[0;34m)\u001b[0m\u001b[0;34m:\u001b[0m\u001b[0;34m\u001b[0m\u001b[0;34m\u001b[0m\u001b[0m\n",
      "\u001b[0;32m/usr/lib/python3/dist-packages/torch/utils/data/dataset.py\u001b[0m in \u001b[0;36m<genexpr>\u001b[0;34m(.0)\u001b[0m\n\u001b[1;32m    207\u001b[0m \u001b[0;34m\u001b[0m\u001b[0m\n\u001b[1;32m    208\u001b[0m     \u001b[0;32mdef\u001b[0m \u001b[0m__getitem__\u001b[0m\u001b[0;34m(\u001b[0m\u001b[0mself\u001b[0m\u001b[0;34m,\u001b[0m \u001b[0mindex\u001b[0m\u001b[0;34m)\u001b[0m\u001b[0;34m:\u001b[0m\u001b[0;34m\u001b[0m\u001b[0;34m\u001b[0m\u001b[0m\n\u001b[0;32m--> 209\u001b[0;31m         \u001b[0;32mreturn\u001b[0m \u001b[0mtuple\u001b[0m\u001b[0;34m(\u001b[0m\u001b[0mtensor\u001b[0m\u001b[0;34m[\u001b[0m\u001b[0mindex\u001b[0m\u001b[0;34m]\u001b[0m \u001b[0;32mfor\u001b[0m \u001b[0mtensor\u001b[0m \u001b[0;32min\u001b[0m \u001b[0mself\u001b[0m\u001b[0;34m.\u001b[0m\u001b[0mtensors\u001b[0m\u001b[0;34m)\u001b[0m\u001b[0;34m\u001b[0m\u001b[0;34m\u001b[0m\u001b[0m\n\u001b[0m\u001b[1;32m    210\u001b[0m \u001b[0;34m\u001b[0m\u001b[0m\n\u001b[1;32m    211\u001b[0m     \u001b[0;32mdef\u001b[0m \u001b[0m__len__\u001b[0m\u001b[0;34m(\u001b[0m\u001b[0mself\u001b[0m\u001b[0;34m)\u001b[0m\u001b[0;34m:\u001b[0m\u001b[0;34m\u001b[0m\u001b[0;34m\u001b[0m\u001b[0m\n",
      "\u001b[0;31mKeyboardInterrupt\u001b[0m: "
     ]
    }
   ],
   "source": [
    "num_epochs = 20001\n",
    "learning_rate = 0.001\n",
    "latent_dim = 50\n",
    "loss_fn = F.mse_loss\n",
    "batch_size = 50000\n",
    "\n",
    "def seed_everything(seed=1234):\n",
    "    random.seed(seed)\n",
    "    os.environ['PYTHONHASHSEED'] = str(seed)\n",
    "    np.random.seed(seed)\n",
    "    torch.manual_seed(seed)\n",
    "    torch.backends.cudnn.deterministic = True\n",
    "\n",
    "seed_everything()\n",
    "    \n",
    "model = Autoencoder()\n",
    "# model.load_state_dict(torch.load(PATH))\n",
    "model = model.to(device)\n",
    "opt = torch.optim.SGD(model.parameters(), lr=learning_rate, momentum=0.9)\n",
    "train_pred_np, train_output_np, val_pred_np, val_output_np = fit(num_epochs, model, loss_fn, train_input, train_output, val_input, val_output, test_input, test_output)"
   ]
  },
  {
   "cell_type": "code",
   "execution_count": null,
   "id": "87a30cf0-175d-4094-89df-a1a2642fb570",
   "metadata": {},
   "outputs": [],
   "source": [
    "num_epochs = 50001\n",
    "learning_rate = 0.01\n",
    "latent_dim = 50\n",
    "loss_fn = F.mse_loss\n",
    "batch_size = 50000\n",
    "\n",
    "def seed_everything(seed=1234):\n",
    "    random.seed(seed)\n",
    "    os.environ['PYTHONHASHSEED'] = str(seed)\n",
    "    np.random.seed(seed)\n",
    "    torch.manual_seed(seed)\n",
    "    torch.backends.cudnn.deterministic = True\n",
    "\n",
    "seed_everything()\n",
    "    \n",
    "model = Autoencoder()\n",
    "model.load_state_dict(torch.load(PATH))\n",
    "model = model.to(device)\n",
    "opt = torch.optim.SGD(model.parameters(), lr=learning_rate, momentum=0.9)\n",
    "train_pred_np, train_output_np, val_pred_np, val_output_np = fit(num_epochs, model, loss_fn, train_input, train_output, val_input, val_output, test_input, test_output)"
   ]
  },
  {
   "cell_type": "code",
   "execution_count": null,
   "id": "43a9a763-f824-4ce1-b9b2-7a6b2134d6ee",
   "metadata": {},
   "outputs": [],
   "source": []
  }
 ],
 "metadata": {
  "kernelspec": {
   "display_name": "Python 3",
   "language": "python",
   "name": "python3"
  },
  "language_info": {
   "codemirror_mode": {
    "name": "ipython",
    "version": 3
   },
   "file_extension": ".py",
   "mimetype": "text/x-python",
   "name": "python",
   "nbconvert_exporter": "python",
   "pygments_lexer": "ipython3",
   "version": "3.8.10"
  }
 },
 "nbformat": 4,
 "nbformat_minor": 5
}
