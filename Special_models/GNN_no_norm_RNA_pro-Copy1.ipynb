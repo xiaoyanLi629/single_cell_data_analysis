{
 "cells": [
  {
   "cell_type": "code",
   "execution_count": 1,
   "id": "28ee873a-61f9-4b39-8cb7-4cca1bd3a8a9",
   "metadata": {},
   "outputs": [],
   "source": [
    "import anndata as ad\n",
    "import gc\n",
    "import sys\n",
    "from scipy.sparse import csc_matrix\n",
    "from sklearn.model_selection import train_test_split\n",
    "from sklearn.decomposition import TruncatedSVD\n",
    "from sklearn.linear_model import LinearRegression\n",
    "import random\n",
    "import numpy as np\n",
    "import time\n",
    "import torch\n",
    "import torch.nn as nn\n",
    "import torch.nn.functional as F\n",
    "from torch.utils.data import TensorDataset, DataLoader\n",
    "import matplotlib.pyplot as plt\n",
    "import pickle\n",
    "import heapq\n",
    "import matplotlib\n",
    "import os\n",
    "from tqdm.notebook import tqdm_notebook"
   ]
  },
  {
   "cell_type": "code",
   "execution_count": 2,
   "id": "6d796d8e-928f-4de1-b93b-aed78a430b6c",
   "metadata": {},
   "outputs": [
    {
     "name": "stderr",
     "output_type": "stream",
     "text": [
      "Using backend: pytorch\n"
     ]
    }
   ],
   "source": [
    "import gzip\n",
    "import dgl\n",
    "import pickle\n",
    "import pandas as pd\n",
    "import scipy.sparse as sp\n",
    "import dgl.nn.pytorch as dglnn\n",
    "from dgl.nn import GraphConv\n",
    "import concurrent.futures\n",
    "import multiprocessing\n",
    "from dgl.data.utils import save_graphs\n",
    "from io import StringIO\n",
    "from functools import partial\n",
    "from sklearn.metrics.pairwise import euclidean_distances"
   ]
  },
  {
   "cell_type": "code",
   "execution_count": 3,
   "id": "2f00d205-67e3-4548-a567-5c45c1431b1c",
   "metadata": {},
   "outputs": [
    {
     "name": "stdout",
     "output_type": "stream",
     "text": [
      "cuda\n"
     ]
    }
   ],
   "source": [
    "device = torch.device(\"cuda\" if torch.cuda.is_available() else \"cpu\")\n",
    "print(device)\n",
    "random.seed(1)\n",
    "np.random.seed(1)\n",
    "torch.manual_seed(1)\n",
    "\n",
    "batch_size = 50000\n",
    "pred_num = 134"
   ]
  },
  {
   "cell_type": "code",
   "execution_count": 4,
   "id": "c8571524-866b-4e96-8565-e7679e648fc8",
   "metadata": {},
   "outputs": [],
   "source": [
    "train_mod1_file = 'phase2_private_data/predict_modality/openproblems_bmmc_cite_phase2_rna/openproblems_bmmc_cite_phase2_rna.censor_dataset.output_train_mod1.h5ad'\n",
    "train_mod2_file = 'phase2_private_data/predict_modality/openproblems_bmmc_cite_phase2_rna/openproblems_bmmc_cite_phase2_rna.censor_dataset.output_train_mod2.h5ad'\n",
    "test_mod1_file = 'phase2_private_data/predict_modality/openproblems_bmmc_cite_phase2_rna/openproblems_bmmc_cite_phase2_rna.censor_dataset.output_test_mod1.h5ad'\n",
    "test_mod2_file = 'phase2_private_data/predict_modality/openproblems_bmmc_cite_phase2_rna/openproblems_bmmc_cite_phase2_rna.censor_dataset.output_test_mod2.h5ad'"
   ]
  },
  {
   "cell_type": "code",
   "execution_count": 5,
   "id": "e1003672-e58f-4536-88e5-b43ce4459f5b",
   "metadata": {},
   "outputs": [],
   "source": [
    "input_train_mod1 = ad.read_h5ad(train_mod1_file)\n",
    "input_train_mod2 = ad.read_h5ad(train_mod2_file)\n",
    "input_test_mod1 = ad.read_h5ad(test_mod1_file)\n",
    "input_test_mod2 = ad.read_h5ad(test_mod2_file)"
   ]
  },
  {
   "cell_type": "code",
   "execution_count": 6,
   "id": "8bb3ff4e-2d60-4edc-b20c-f8eecbd8647e",
   "metadata": {},
   "outputs": [
    {
     "name": "stdout",
     "output_type": "stream",
     "text": [
      "AnnData object with n_obs × n_vars = 66175 × 13953\n",
      "    obs: 'batch', 'size_factors'\n",
      "    var: 'gene_ids', 'feature_types'\n",
      "    uns: 'dataset_id', 'organism'\n",
      "    layers: 'counts'\n",
      "AnnData object with n_obs × n_vars = 66175 × 134\n",
      "    obs: 'batch', 'size_factors'\n",
      "    var: 'feature_types'\n",
      "    uns: 'dataset_id', 'organism'\n",
      "    layers: 'counts'\n",
      "AnnData object with n_obs × n_vars = 1000 × 13953\n",
      "    obs: 'batch', 'size_factors'\n",
      "    var: 'gene_ids', 'feature_types'\n",
      "    uns: 'dataset_id', 'organism'\n",
      "    layers: 'counts'\n",
      "AnnData object with n_obs × n_vars = 1000 × 134\n",
      "    obs: 'batch', 'size_factors'\n",
      "    var: 'feature_types'\n",
      "    uns: 'dataset_id', 'organism'\n",
      "    layers: 'counts'\n"
     ]
    }
   ],
   "source": [
    "print(input_train_mod1)\n",
    "print(input_train_mod2)\n",
    "print(input_test_mod1)\n",
    "print(input_test_mod2)"
   ]
  },
  {
   "cell_type": "code",
   "execution_count": 7,
   "id": "4b1f7ad0-24d9-4d07-ab91-c9b1c9928c7b",
   "metadata": {},
   "outputs": [
    {
     "name": "stdout",
     "output_type": "stream",
     "text": [
      "['s1d1', 's1d2', 's1d3', 's2d1', 's2d4', 's2d5', 's3d1', 's3d6', 's3d7']\n",
      "['s1d1', 's1d2', 's1d3', 's2d1', 's2d4', 's2d5', 's3d1', 's3d6', 's3d7']\n"
     ]
    }
   ],
   "source": [
    "print(sorted(set(input_train_mod1.obs['batch'])))\n",
    "print(sorted(set(input_train_mod2.obs['batch'])))"
   ]
  },
  {
   "cell_type": "code",
   "execution_count": 8,
   "id": "88721876-d226-4bce-a6ea-a34e990954d4",
   "metadata": {},
   "outputs": [
    {
     "name": "stdout",
     "output_type": "stream",
     "text": [
      "['s4d1', 's4d8', 's4d9']\n",
      "['s4d1', 's4d8', 's4d9']\n"
     ]
    }
   ],
   "source": [
    "print(sorted(set(input_test_mod1.obs['batch'])))\n",
    "print(sorted(set(input_test_mod2.obs['batch'])))"
   ]
  },
  {
   "cell_type": "code",
   "execution_count": 9,
   "id": "f1c44bec-d2fc-4f1a-a2c5-98ec95035905",
   "metadata": {},
   "outputs": [],
   "source": [
    "RNA_s1d1 = input_train_mod1[input_train_mod1.obs[\"batch\"] == \"s1d1\", :]\n",
    "RNA_s1d2 = input_train_mod1[input_train_mod1.obs[\"batch\"] == \"s1d2\", :]\n",
    "RNA_s1d3 = input_train_mod1[input_train_mod1.obs[\"batch\"] == \"s1d3\", :]\n",
    "RNA_s2d1 = input_train_mod1[input_train_mod1.obs[\"batch\"] == \"s2d1\", :]\n",
    "RNA_s2d4 = input_train_mod1[input_train_mod1.obs[\"batch\"] == \"s2d4\", :]\n",
    "RNA_s2d5 = input_train_mod1[input_train_mod1.obs[\"batch\"] == \"s2d5\", :]\n",
    "\n",
    "RNA_s3d1 = input_train_mod1[input_train_mod1.obs[\"batch\"] == \"s3d1\", :]\n",
    "RNA_s3d6 = input_train_mod1[input_train_mod1.obs[\"batch\"] == \"s3d6\", :]\n",
    "RNA_s3d7 = input_train_mod1[input_train_mod1.obs[\"batch\"] == \"s3d7\", :]"
   ]
  },
  {
   "cell_type": "code",
   "execution_count": 10,
   "id": "90fd11a4-3c78-4a7c-bbe4-552681e76e85",
   "metadata": {},
   "outputs": [],
   "source": [
    "pro_s1d1 = input_train_mod2[input_train_mod2.obs[\"batch\"] == \"s1d1\", :]\n",
    "pro_s1d2 = input_train_mod2[input_train_mod2.obs[\"batch\"] == \"s1d2\", :]\n",
    "pro_s1d3 = input_train_mod2[input_train_mod2.obs[\"batch\"] == \"s1d3\", :]\n",
    "pro_s2d1 = input_train_mod2[input_train_mod2.obs[\"batch\"] == \"s2d1\", :]\n",
    "pro_s2d4 = input_train_mod2[input_train_mod2.obs[\"batch\"] == \"s2d4\", :]\n",
    "pro_s2d5 = input_train_mod2[input_train_mod2.obs[\"batch\"] == \"s2d5\", :]\n",
    "\n",
    "pro_s3d1 = input_train_mod2[input_train_mod2.obs[\"batch\"] == \"s3d1\", :]\n",
    "pro_s3d6 = input_train_mod2[input_train_mod2.obs[\"batch\"] == \"s3d6\", :]\n",
    "pro_s3d7 = input_train_mod2[input_train_mod2.obs[\"batch\"] == \"s3d7\", :]"
   ]
  },
  {
   "cell_type": "code",
   "execution_count": 11,
   "id": "5f975355-3705-4227-82c1-4b9041f816f5",
   "metadata": {},
   "outputs": [],
   "source": [
    "RNA_s4d1 = input_test_mod1[input_test_mod1.obs[\"batch\"] == \"s4d1\", :]\n",
    "RNA_s4d8 = input_test_mod1[input_test_mod1.obs[\"batch\"] == \"s4d8\", :]\n",
    "RNA_s4d9 = input_test_mod1[input_test_mod1.obs[\"batch\"] == \"s4d9\", :]"
   ]
  },
  {
   "cell_type": "code",
   "execution_count": 12,
   "id": "dceea77f-7970-4c2e-a5df-3571d9cf5395",
   "metadata": {},
   "outputs": [],
   "source": [
    "pro_s4d1 = input_test_mod2[input_test_mod2.obs[\"batch\"] == \"s4d1\", :]\n",
    "pro_s4d8 = input_test_mod2[input_test_mod2.obs[\"batch\"] == \"s4d8\", :]\n",
    "pro_s4d9 = input_test_mod2[input_test_mod2.obs[\"batch\"] == \"s4d9\", :]"
   ]
  },
  {
   "cell_type": "code",
   "execution_count": 13,
   "id": "c15d3e8e-bee3-48ad-8539-d38dc8e141b3",
   "metadata": {},
   "outputs": [],
   "source": [
    "RNA_s1d1 = RNA_s1d1.X.toarray()\n",
    "RNA_s1d2 = RNA_s1d2.X.toarray()\n",
    "RNA_s1d3 = RNA_s1d3.X.toarray()\n",
    "RNA_s2d1 = RNA_s2d1.X.toarray()\n",
    "RNA_s2d4 = RNA_s2d4.X.toarray()\n",
    "RNA_s2d5 = RNA_s2d5.X.toarray()\n",
    "\n",
    "RNA_s3d1 = RNA_s3d1.X.toarray()\n",
    "RNA_s3d6 = RNA_s3d6.X.toarray()\n",
    "RNA_s3d7 = RNA_s3d7.X.toarray()"
   ]
  },
  {
   "cell_type": "code",
   "execution_count": 14,
   "id": "05578a34-ffe3-4573-9c29-e0154215f98d",
   "metadata": {},
   "outputs": [],
   "source": [
    "pro_s1d1 = pro_s1d1.X.toarray()\n",
    "pro_s1d2 = pro_s1d2.X.toarray()\n",
    "pro_s1d3 = pro_s1d3.X.toarray()\n",
    "pro_s2d1 = pro_s2d1.X.toarray()\n",
    "pro_s2d4 = pro_s2d4.X.toarray()\n",
    "pro_s2d5 = pro_s2d5.X.toarray()\n",
    "\n",
    "pro_s3d1 = pro_s3d1.X.toarray()\n",
    "pro_s3d6 = pro_s3d6.X.toarray()\n",
    "pro_s3d7 = pro_s3d7.X.toarray()"
   ]
  },
  {
   "cell_type": "code",
   "execution_count": 15,
   "id": "bfe63a24-98d1-4964-851b-6ea492ec6a9a",
   "metadata": {},
   "outputs": [],
   "source": [
    "RNA_s4d1 = RNA_s4d1.X.toarray()\n",
    "RNA_s4d8 = RNA_s4d8.X.toarray()\n",
    "RNA_s4d9 = RNA_s4d9.X.toarray()"
   ]
  },
  {
   "cell_type": "code",
   "execution_count": 16,
   "id": "f4574c26-89fd-4095-8fb8-4e8ea96243cf",
   "metadata": {},
   "outputs": [],
   "source": [
    "pro_s4d1 = pro_s4d1.X.toarray()\n",
    "pro_s4d8 = pro_s4d8.X.toarray()\n",
    "pro_s4d9 = pro_s4d9.X.toarray()"
   ]
  },
  {
   "cell_type": "code",
   "execution_count": 17,
   "id": "6ff81839-2fc0-4aaa-ae40-df8b8926322a",
   "metadata": {},
   "outputs": [
    {
     "name": "stdout",
     "output_type": "stream",
     "text": [
      "(4721, 13953)\n",
      "(4721, 134)\n"
     ]
    }
   ],
   "source": [
    "print(RNA_s1d1.shape)\n",
    "print(pro_s1d1.shape)"
   ]
  },
  {
   "cell_type": "code",
   "execution_count": 18,
   "id": "2c96ab8b-211f-4745-9583-f0f00daf285c",
   "metadata": {},
   "outputs": [
    {
     "name": "stdout",
     "output_type": "stream",
     "text": [
      "(334, 13953)\n",
      "(334, 134)\n"
     ]
    }
   ],
   "source": [
    "print(RNA_s4d1.shape)\n",
    "print(pro_s4d1.shape)"
   ]
  },
  {
   "cell_type": "code",
   "execution_count": 19,
   "id": "934ebd8d-b467-41f5-bbcb-350b71ac6d3a",
   "metadata": {},
   "outputs": [],
   "source": [
    "batch_s1d1 = input_train_mod1[input_train_mod1.obs[\"batch\"] == \"s1d1\", :].obs[\"batch\"]\n",
    "batch_s1d2 = input_train_mod1[input_train_mod1.obs[\"batch\"] == \"s1d2\", :].obs[\"batch\"]\n",
    "batch_s1d3 = input_train_mod1[input_train_mod1.obs[\"batch\"] == \"s1d3\", :].obs[\"batch\"]\n",
    "batch_s2d1 = input_train_mod1[input_train_mod1.obs[\"batch\"] == \"s2d1\", :].obs[\"batch\"]\n",
    "batch_s2d4 = input_train_mod1[input_train_mod1.obs[\"batch\"] == \"s2d4\", :].obs[\"batch\"]\n",
    "batch_s2d5 = input_train_mod1[input_train_mod1.obs[\"batch\"] == \"s2d5\", :].obs[\"batch\"]\n",
    "\n",
    "batch_s3d1 = input_train_mod1[input_train_mod1.obs[\"batch\"] == \"s3d1\", :].obs[\"batch\"]\n",
    "batch_s3d6 = input_train_mod1[input_train_mod1.obs[\"batch\"] == \"s3d6\", :].obs[\"batch\"]\n",
    "batch_s3d7 = input_train_mod1[input_train_mod1.obs[\"batch\"] == \"s3d7\", :].obs[\"batch\"]\n",
    "\n",
    "batch_s4d1 = input_test_mod1[input_test_mod1.obs[\"batch\"] == \"s4d1\", :].obs[\"batch\"]\n",
    "batch_s4d8 = input_test_mod1[input_test_mod1.obs[\"batch\"] == \"s4d8\", :].obs[\"batch\"]\n",
    "batch_s4d9 = input_test_mod1[input_test_mod1.obs[\"batch\"] == \"s4d9\", :].obs[\"batch\"]"
   ]
  },
  {
   "cell_type": "code",
   "execution_count": 20,
   "id": "9d381adb-f256-498f-a391-741cd7d5ce71",
   "metadata": {},
   "outputs": [],
   "source": [
    "batch_train = list(batch_s1d1)+list(batch_s1d2)+list(batch_s1d3)+list(batch_s2d1)+list(batch_s2d4)+list(batch_s2d5)\n",
    "batch_val = list(batch_s3d1)+list(batch_s3d6)+list(batch_s3d7)\n",
    "batch_test = list(batch_s4d1)+list(batch_s4d8)+list(batch_s4d9)"
   ]
  },
  {
   "cell_type": "code",
   "execution_count": 21,
   "id": "4715dd3f-2948-4a84-bf01-089e5260b766",
   "metadata": {},
   "outputs": [],
   "source": [
    "train_input = [RNA_s1d1, RNA_s1d2, RNA_s1d3, RNA_s2d1, RNA_s2d4, RNA_s2d5]\n",
    "train_output = [pro_s1d1, pro_s1d2, pro_s1d3, pro_s2d1, pro_s2d4, pro_s2d5]\n",
    "\n",
    "val_input = [RNA_s3d1, RNA_s3d6, RNA_s3d7]\n",
    "val_output = [pro_s3d1, pro_s3d6, pro_s3d7]\n",
    "\n",
    "test_input = [RNA_s4d1, RNA_s4d8, RNA_s4d9]\n",
    "test_output = [pro_s4d1, pro_s4d8, pro_s4d9]"
   ]
  },
  {
   "cell_type": "code",
   "execution_count": 22,
   "id": "aa0c16b5-af48-42a1-bba0-597a94f22c59",
   "metadata": {},
   "outputs": [],
   "source": [
    "train_input = train_input + val_input\n",
    "train_output = train_output + val_output"
   ]
  },
  {
   "cell_type": "code",
   "execution_count": 23,
   "id": "8d5ab06e-266c-4018-bd64-18de7fdf44c9",
   "metadata": {},
   "outputs": [],
   "source": [
    "train_input = np.concatenate(train_input, axis=0)\n",
    "val_input = np.concatenate(val_input, axis=0)\n",
    "test_input = np.concatenate(test_input, axis=0)\n",
    "\n",
    "train_output = np.concatenate(train_output, axis=0)\n",
    "val_output = np.concatenate(val_output, axis=0)\n",
    "test_output = np.concatenate(test_output, axis=0)"
   ]
  },
  {
   "cell_type": "code",
   "execution_count": 24,
   "id": "53eaa25a-5cf1-4cc1-ac12-b74c69ce16dd",
   "metadata": {},
   "outputs": [],
   "source": [
    "RNA_s1d1 = torch.from_numpy(RNA_s1d1)\n",
    "RNA_s1d2 = torch.from_numpy(RNA_s1d2)\n",
    "RNA_s1d3 = torch.from_numpy(RNA_s1d3)\n",
    "RNA_s2d1 = torch.from_numpy(RNA_s2d1)\n",
    "RNA_s2d4 = torch.from_numpy(RNA_s2d4)\n",
    "RNA_s2d5 = torch.from_numpy(RNA_s2d5)\n",
    "RNA_s3d1 = torch.from_numpy(RNA_s3d1)\n",
    "RNA_s3d6 = torch.from_numpy(RNA_s3d6)\n",
    "RNA_s3d7 = torch.from_numpy(RNA_s3d7)\n",
    "RNA_s4d1 = torch.from_numpy(RNA_s4d1)\n",
    "RNA_s4d8 = torch.from_numpy(RNA_s4d8)\n",
    "RNA_s4d9 = torch.from_numpy(RNA_s4d9)"
   ]
  },
  {
   "cell_type": "code",
   "execution_count": 25,
   "id": "345b9da1-5b8f-4ae1-b533-df47bb9d9763",
   "metadata": {},
   "outputs": [],
   "source": [
    "pro_s1d1 = torch.from_numpy(pro_s1d1)\n",
    "pro_s1d2 = torch.from_numpy(pro_s1d2)\n",
    "pro_s1d3 = torch.from_numpy(pro_s1d3)\n",
    "pro_s2d1 = torch.from_numpy(pro_s2d1)\n",
    "pro_s2d4 = torch.from_numpy(pro_s2d4)\n",
    "pro_s2d5 = torch.from_numpy(pro_s2d5)\n",
    "pro_s3d1 = torch.from_numpy(pro_s3d1)\n",
    "pro_s3d6 = torch.from_numpy(pro_s3d6)\n",
    "pro_s3d7 = torch.from_numpy(pro_s3d7)\n",
    "pro_s4d1 = torch.from_numpy(pro_s4d1)\n",
    "pro_s4d8 = torch.from_numpy(pro_s4d8)\n",
    "pro_s4d9 = torch.from_numpy(pro_s4d9)"
   ]
  },
  {
   "cell_type": "code",
   "execution_count": 26,
   "id": "21fc65f8-d208-4cdf-856b-507176f0038f",
   "metadata": {},
   "outputs": [],
   "source": [
    "RNA_s1d1 = RNA_s1d1.float()\n",
    "RNA_s1d2 = RNA_s1d2.float()\n",
    "RNA_s1d3 = RNA_s1d3.float()\n",
    "RNA_s2d1 = RNA_s2d1.float()\n",
    "RNA_s2d4 = RNA_s2d4.float()\n",
    "RNA_s2d5 = RNA_s2d5.float()\n",
    "RNA_s3d1 = RNA_s3d1.float()\n",
    "RNA_s3d6 = RNA_s3d6.float()\n",
    "RNA_s3d7 = RNA_s3d7.float()\n",
    "RNA_s4d1 = RNA_s4d1.float()\n",
    "RNA_s4d8 = RNA_s4d8.float()\n",
    "RNA_s4d9 = RNA_s4d9.float()\n",
    "\n",
    "pro_s1d1 = pro_s1d1.float()\n",
    "pro_s1d2 = pro_s1d2.float()\n",
    "pro_s1d3 = pro_s1d3.float()\n",
    "pro_s2d1 = pro_s2d1.float()\n",
    "pro_s2d4 = pro_s2d4.float()\n",
    "pro_s2d5 = pro_s2d5.float()\n",
    "pro_s3d1 = pro_s3d1.float()\n",
    "pro_s3d6 = pro_s3d6.float()\n",
    "pro_s3d7 = pro_s3d7.float()\n",
    "pro_s4d1 = pro_s4d1.float()\n",
    "pro_s4d8 = pro_s4d8.float()\n",
    "pro_s4d9 = pro_s4d9.float()"
   ]
  },
  {
   "cell_type": "code",
   "execution_count": 27,
   "id": "fcb3ca20-f456-426b-bfd8-c9f39a2c4156",
   "metadata": {},
   "outputs": [],
   "source": [
    "# RNA_s1d1 = RNA_s1d1.to(device)\n",
    "# RNA_s1d2 = RNA_s1d2.to(device)\n",
    "# RNA_s1d3 = RNA_s1d3.to(device)\n",
    "# RNA_s2d1 = RNA_s2d1.to(device)\n",
    "# RNA_s2d4 = RNA_s2d4.to(device)\n",
    "# RNA_s2d5 = RNA_s2d5.to(device)\n",
    "# RNA_s3d1 = RNA_s3d1.to(device)\n",
    "# RNA_s3d6 = RNA_s3d6.to(device)\n",
    "# RNA_s3d7 = RNA_s3d7.to(device)\n",
    "# RNA_s4d1 = RNA_s4d1.to(device)\n",
    "# RNA_s4d8 = RNA_s4d8.to(device)\n",
    "# RNA_s4d9 = RNA_s4d9.to(device)\n",
    "\n",
    "# pro_s1d1 = pro_s1d1.to(device)\n",
    "# pro_s1d2 = pro_s1d2.to(device)\n",
    "# pro_s1d3 = pro_s1d3.to(device)\n",
    "# pro_s2d1 = pro_s2d1.to(device)\n",
    "# pro_s2d4 = pro_s2d4.to(device)\n",
    "# pro_s2d5 = pro_s2d5.to(device)\n",
    "# pro_s3d1 = pro_s3d1.to(device)\n",
    "# pro_s3d6 = pro_s3d6.to(device)\n",
    "# pro_s3d7 = pro_s3d7.to(device)\n",
    "# pro_s4d1 = pro_s4d1.to(device)\n",
    "# pro_s4d8 = pro_s4d8.to(device)\n",
    "# pro_s4d9 = pro_s4d9.to(device)"
   ]
  },
  {
   "cell_type": "code",
   "execution_count": 28,
   "id": "77384908-2232-47f5-9121-3d75b9cf516b",
   "metadata": {},
   "outputs": [],
   "source": [
    "g_s1d1 = dgl.graph(([0]*(len(batch_s1d1)), list(range(len(batch_s1d1)))), num_nodes=len(batch_s1d1))\n",
    "g_s1d2 = dgl.graph(([0]*(len(batch_s1d2)), list(range(len(batch_s1d2)))), num_nodes=len(batch_s1d2))\n",
    "g_s1d3 = dgl.graph(([0]*(len(batch_s1d3)), list(range(len(batch_s1d3)))), num_nodes=len(batch_s1d3))\n",
    "g_s2d1 = dgl.graph(([0]*(len(batch_s2d1)), list(range(len(batch_s2d1)))), num_nodes=len(batch_s2d1))\n",
    "g_s2d4 = dgl.graph(([0]*(len(batch_s2d4)), list(range(len(batch_s2d4)))), num_nodes=len(batch_s2d4))\n",
    "g_s2d5 = dgl.graph(([0]*(len(batch_s2d5)), list(range(len(batch_s2d5)))), num_nodes=len(batch_s2d5))\n",
    "g_s3d1 = dgl.graph(([0]*(len(batch_s3d1)), list(range(len(batch_s3d1)))), num_nodes=len(batch_s3d1))\n",
    "g_s3d6 = dgl.graph(([0]*(len(batch_s3d6)), list(range(len(batch_s3d6)))), num_nodes=len(batch_s3d6))\n",
    "g_s3d7 = dgl.graph(([0]*(len(batch_s3d7)), list(range(len(batch_s3d7)))), num_nodes=len(batch_s3d7))\n",
    "\n",
    "g_s4d1 = dgl.graph(([0]*(len(batch_s4d1)), list(range(len(batch_s4d1)))), num_nodes=len(batch_s4d1))\n",
    "g_s4d8 = dgl.graph(([0]*(len(batch_s4d8)), list(range(len(batch_s4d8)))), num_nodes=len(batch_s4d8))\n",
    "g_s4d9 = dgl.graph(([0]*(len(batch_s4d9)), list(range(len(batch_s4d9)))), num_nodes=len(batch_s4d9))"
   ]
  },
  {
   "cell_type": "code",
   "execution_count": 29,
   "id": "a2a27345-2e2e-46d7-af73-9c84a1385ce9",
   "metadata": {},
   "outputs": [
    {
     "data": {
      "application/vnd.jupyter.widget-view+json": {
       "model_id": "d9476fbafcdd47efba4c9f4d2aab44d3",
       "version_major": 2,
       "version_minor": 0
      },
      "text/plain": [
       "  0%|          | 0/4720 [00:00<?, ?it/s]"
      ]
     },
     "metadata": {},
     "output_type": "display_data"
    },
    {
     "data": {
      "application/vnd.jupyter.widget-view+json": {
       "model_id": "afd61cff3d6941c2b817b6edfd603e42",
       "version_major": 2,
       "version_minor": 0
      },
      "text/plain": [
       "  0%|          | 0/4463 [00:00<?, ?it/s]"
      ]
     },
     "metadata": {},
     "output_type": "display_data"
    },
    {
     "data": {
      "application/vnd.jupyter.widget-view+json": {
       "model_id": "cf4c758a16de478681186e6b61ac6bf7",
       "version_major": 2,
       "version_minor": 0
      },
      "text/plain": [
       "  0%|          | 0/5483 [00:00<?, ?it/s]"
      ]
     },
     "metadata": {},
     "output_type": "display_data"
    },
    {
     "data": {
      "application/vnd.jupyter.widget-view+json": {
       "model_id": "0467ee3fa2454c6d8ca3a180c2cecf21",
       "version_major": 2,
       "version_minor": 0
      },
      "text/plain": [
       "  0%|          | 0/9352 [00:00<?, ?it/s]"
      ]
     },
     "metadata": {},
     "output_type": "display_data"
    },
    {
     "data": {
      "application/vnd.jupyter.widget-view+json": {
       "model_id": "0583b0aac6f84daaaf73997842ea4d2d",
       "version_major": 2,
       "version_minor": 0
      },
      "text/plain": [
       "  0%|          | 0/5025 [00:00<?, ?it/s]"
      ]
     },
     "metadata": {},
     "output_type": "display_data"
    },
    {
     "data": {
      "application/vnd.jupyter.widget-view+json": {
       "model_id": "5345a3bab1684dc4a65f5d4b1f349418",
       "version_major": 2,
       "version_minor": 0
      },
      "text/plain": [
       "  0%|          | 0/8205 [00:00<?, ?it/s]"
      ]
     },
     "metadata": {},
     "output_type": "display_data"
    },
    {
     "data": {
      "application/vnd.jupyter.widget-view+json": {
       "model_id": "8579a1cdad364fa399dbaa6fe666ffea",
       "version_major": 2,
       "version_minor": 0
      },
      "text/plain": [
       "  0%|          | 0/8581 [00:00<?, ?it/s]"
      ]
     },
     "metadata": {},
     "output_type": "display_data"
    },
    {
     "data": {
      "application/vnd.jupyter.widget-view+json": {
       "model_id": "d950516d54d64ce8a02fe3780eb0310d",
       "version_major": 2,
       "version_minor": 0
      },
      "text/plain": [
       "  0%|          | 0/9976 [00:00<?, ?it/s]"
      ]
     },
     "metadata": {},
     "output_type": "display_data"
    },
    {
     "data": {
      "application/vnd.jupyter.widget-view+json": {
       "model_id": "5b3933d25edb426fa0c3f4b03056cec7",
       "version_major": 2,
       "version_minor": 0
      },
      "text/plain": [
       "  0%|          | 0/10361 [00:00<?, ?it/s]"
      ]
     },
     "metadata": {},
     "output_type": "display_data"
    },
    {
     "data": {
      "application/vnd.jupyter.widget-view+json": {
       "model_id": "45b305c5087e4d849a55a7be9d17350e",
       "version_major": 2,
       "version_minor": 0
      },
      "text/plain": [
       "  0%|          | 0/333 [00:00<?, ?it/s]"
      ]
     },
     "metadata": {},
     "output_type": "display_data"
    },
    {
     "data": {
      "application/vnd.jupyter.widget-view+json": {
       "model_id": "c2a78601bce6472e9708a6782c1950b9",
       "version_major": 2,
       "version_minor": 0
      },
      "text/plain": [
       "  0%|          | 0/206 [00:00<?, ?it/s]"
      ]
     },
     "metadata": {},
     "output_type": "display_data"
    },
    {
     "data": {
      "application/vnd.jupyter.widget-view+json": {
       "model_id": "ce90a5dc51c14ade98c757a30a799d04",
       "version_major": 2,
       "version_minor": 0
      },
      "text/plain": [
       "  0%|          | 0/458 [00:00<?, ?it/s]"
      ]
     },
     "metadata": {},
     "output_type": "display_data"
    },
    {
     "name": "stdout",
     "output_type": "stream",
     "text": [
      "Constructing graphs finished in 12734.938691910007 seconds\n"
     ]
    }
   ],
   "source": [
    "start = time.perf_counter()\n",
    "    \n",
    "for i in tqdm_notebook(range(1, g_s1d1.num_nodes())):\n",
    "    g_s1d1 = dgl.add_edges(g_s1d1, torch.tensor([i]*len(batch_s1d1)), torch.tensor(list(range(len(batch_s1d1)))))\n",
    "    \n",
    "for i in tqdm_notebook(range(1, g_s1d2.num_nodes())):\n",
    "    g_s1d2 = dgl.add_edges(g_s1d2, torch.tensor([i]*len(batch_s1d2)), torch.tensor(list(range(len(batch_s1d2)))))\n",
    "    \n",
    "for i in tqdm_notebook(range(1, g_s1d3.num_nodes())):\n",
    "    g_s1d3 = dgl.add_edges(g_s1d3, torch.tensor([i]*len(batch_s1d3)), torch.tensor(list(range(len(batch_s1d3)))))\n",
    "\n",
    "for i in tqdm_notebook(range(1, g_s2d1.num_nodes())):\n",
    "    g_s2d1 = dgl.add_edges(g_s2d1, torch.tensor([i]*len(batch_s2d1)), torch.tensor(list(range(len(batch_s2d1)))))\n",
    "    \n",
    "for i in tqdm_notebook(range(1, g_s2d4.num_nodes())):\n",
    "    g_s2d4 = dgl.add_edges(g_s2d4, torch.tensor([i]*len(batch_s2d4)), torch.tensor(list(range(len(batch_s2d4)))))\n",
    "    \n",
    "for i in tqdm_notebook(range(1, g_s2d5.num_nodes())):\n",
    "    g_s2d5 = dgl.add_edges(g_s2d5, torch.tensor([i]*len(batch_s2d5)), torch.tensor(list(range(len(batch_s2d5)))))\n",
    "    \n",
    "for i in tqdm_notebook(range(1, g_s3d1.num_nodes())):\n",
    "    g_s3d1 = dgl.add_edges(g_s3d1, torch.tensor([i]*len(batch_s3d1)), torch.tensor(list(range(len(batch_s3d1)))))\n",
    "    \n",
    "for i in tqdm_notebook(range(1, g_s3d6.num_nodes())):\n",
    "    g_s3d6 = dgl.add_edges(g_s3d6, torch.tensor([i]*len(batch_s3d6)), torch.tensor(list(range(len(batch_s3d6)))))\n",
    "    \n",
    "for i in tqdm_notebook(range(1, g_s3d7.num_nodes())):\n",
    "    g_s3d7 = dgl.add_edges(g_s3d7, torch.tensor([i]*len(batch_s3d7)), torch.tensor(list(range(len(batch_s3d7)))))\n",
    "\n",
    "\n",
    "for i in tqdm_notebook(range(1, g_s4d1.num_nodes())):\n",
    "    g_s4d1 = dgl.add_edges(g_s4d1, torch.tensor([i]*len(batch_s4d1)), torch.tensor(list(range(len(batch_s4d1)))))\n",
    "    \n",
    "for i in tqdm_notebook(range(1, g_s4d8.num_nodes())):\n",
    "    g_s4d8 = dgl.add_edges(g_s4d8, torch.tensor([i]*len(batch_s4d8)), torch.tensor(list(range(len(batch_s4d8)))))\n",
    "    \n",
    "for i in tqdm_notebook(range(1, g_s4d9.num_nodes())):\n",
    "    g_s4d9 = dgl.add_edges(g_s4d9, torch.tensor([i]*len(batch_s4d9)), torch.tensor(list(range(len(batch_s4d9)))))\n",
    "    \n",
    "end = time.perf_counter()\n",
    "print(f'Constructing graphs finished in {(end-start)/60} mins')"
   ]
  },
  {
   "cell_type": "code",
   "execution_count": 30,
   "id": "34cb0b00-40ad-4080-805d-205882803c29",
   "metadata": {},
   "outputs": [],
   "source": [
    "g_s1d1.ndata['RNA'] = RNA_s1d1\n",
    "g_s1d2.ndata['RNA'] = RNA_s1d2\n",
    "g_s1d3.ndata['RNA'] = RNA_s1d3\n",
    "g_s2d1.ndata['RNA'] = RNA_s2d1\n",
    "g_s2d4.ndata['RNA'] = RNA_s2d4\n",
    "g_s2d5.ndata['RNA'] = RNA_s2d5\n",
    "g_s3d1.ndata['RNA'] = RNA_s3d1\n",
    "g_s3d6.ndata['RNA'] = RNA_s3d6\n",
    "g_s3d7.ndata['RNA'] = RNA_s3d7\n",
    "\n",
    "g_s4d1.ndata['RNA'] = RNA_s4d1\n",
    "g_s4d8.ndata['RNA'] = RNA_s4d8\n",
    "g_s4d9.ndata['RNA'] = RNA_s4d9"
   ]
  },
  {
   "cell_type": "code",
   "execution_count": 31,
   "id": "f3e9fae7-beb9-4ce7-a240-39de37ee48b9",
   "metadata": {},
   "outputs": [],
   "source": [
    "g_s1d1.ndata['pro'] = pro_s1d1\n",
    "g_s1d2.ndata['pro'] = pro_s1d2\n",
    "g_s1d3.ndata['pro'] = pro_s1d3\n",
    "g_s2d1.ndata['pro'] = pro_s2d1\n",
    "g_s2d4.ndata['pro'] = pro_s2d4\n",
    "g_s2d5.ndata['pro'] = pro_s2d5\n",
    "g_s3d1.ndata['pro'] = pro_s3d1\n",
    "g_s3d6.ndata['pro'] = pro_s3d6\n",
    "g_s3d7.ndata['pro'] = pro_s3d7\n",
    "\n",
    "g_s4d1.ndata['pro'] = pro_s4d1\n",
    "g_s4d8.ndata['pro'] = pro_s4d8\n",
    "g_s4d9.ndata['pro'] = pro_s4d9"
   ]
  },
  {
   "cell_type": "code",
   "execution_count": null,
   "id": "4c41ea76-2b99-4245-a555-bca5090208bf",
   "metadata": {},
   "outputs": [],
   "source": []
  },
  {
   "cell_type": "code",
   "execution_count": 32,
   "id": "e47999f2-7b6d-4944-9bd4-07342edc3457",
   "metadata": {},
   "outputs": [],
   "source": [
    "class GCN(nn.Module):\n",
    "    def __init__(self, in_feats, h_feats, num_classes):\n",
    "        super(GCN, self).__init__()\n",
    "        self.conv1 = GraphConv(in_feats, h_feats)\n",
    "        self.conv2 = GraphConv(h_feats, num_classes)\n",
    "\n",
    "    def forward(self, g, in_feat):\n",
    "        h = self.conv1(g, in_feat)\n",
    "        h = F.relu(h)\n",
    "        h = self.conv2(g, h)\n",
    "        return h\n",
    "\n",
    "# Create the model with given dimensions\n",
    "# model = GCN(g.ndata['RNA'].shape[1], 16, g.ndata['pro'].shape[1])"
   ]
  },
  {
   "cell_type": "code",
   "execution_count": 49,
   "id": "6932f401-c1e0-427d-bd26-3bcfd39be238",
   "metadata": {},
   "outputs": [
    {
     "name": "stdout",
     "output_type": "stream",
     "text": [
      "Epoch: 0 loss: tensor(1.8174, grad_fn=<MseLossBackward>)\n",
      "Epoch: 10 loss: tensor(1.6156, grad_fn=<MseLossBackward>)\n",
      "Epoch: 20 loss: tensor(1.4693, grad_fn=<MseLossBackward>)\n",
      "Epoch: 30 loss: tensor(1.3446, grad_fn=<MseLossBackward>)\n",
      "Epoch: 40 loss: tensor(1.2391, grad_fn=<MseLossBackward>)\n",
      "Epoch: 50 loss: tensor(1.1499, grad_fn=<MseLossBackward>)\n",
      "Epoch: 60 loss: tensor(1.0742, grad_fn=<MseLossBackward>)\n",
      "Epoch: 70 loss: tensor(1.0097, grad_fn=<MseLossBackward>)\n",
      "Epoch: 80 loss: tensor(0.9545, grad_fn=<MseLossBackward>)\n",
      "Epoch: 90 loss: tensor(0.9071, grad_fn=<MseLossBackward>)\n"
     ]
    }
   ],
   "source": [
    "# g = g.to('cuda')\n",
    "# model = GCN(g.ndata['RNA'].shape[1], 16, g.ndata['pro'].shape[1]).to('cuda')\n",
    "model = GCN(g_s1d1.ndata['RNA'].shape[1], 16, g_s1d1.ndata['pro'].shape[1])\n",
    "train(g_s1d1, model)"
   ]
  },
  {
   "cell_type": "code",
   "execution_count": null,
   "id": "65107909-d795-459e-801b-62e623dda323",
   "metadata": {},
   "outputs": [],
   "source": [
    "# def train(g, model):\n",
    "#     optimizer = torch.optim.Adam(model.parameters(), lr=0.01)\n",
    "\n",
    "#     RNA_features = g_s1d1.ndata['RNA']\n",
    "#     for e in range(100):\n",
    "#         output = model(g_s1d1, RNA_features)\n",
    "#         loss = F.mse_loss(output, g.ndata['pro'])\n",
    "#         if e%10==0:\n",
    "#             print('Epoch:', e, 'loss:', loss)\n",
    "\n",
    "#         # Backward\n",
    "#         optimizer.zero_grad()\n",
    "#         loss.backward()\n",
    "#         optimizer.step()\n",
    "        \n",
    "# model = GCN(g_s1d1.ndata['RNA'].shape[1], 16, g_s1d1.ndata['pro'].shape[1])\n",
    "# train(g_s1d1, model)"
   ]
  },
  {
   "cell_type": "code",
   "execution_count": null,
   "id": "bfd47dd9-50e7-4e53-8360-5e70b86e48ff",
   "metadata": {},
   "outputs": [],
   "source": [
    "train_graphs = [g_s1d1, g_s1d2, g_s1d3, g_s2d1, g_s2d4, g_s2d5, g_s3d1, g_s3d6, g_s3d7]\n",
    "val_graphs = [g_s3d1, g_s3d6, g_s3d7]\n",
    "test_graphs = [g_s4d1, g_s4d8, g_s4d9]\n",
    "\n",
    "train_val_test_graphs = []"
   ]
  },
  {
   "cell_type": "code",
   "execution_count": null,
   "id": "d024cf14-0591-4039-995c-57a6d9a2cb14",
   "metadata": {},
   "outputs": [],
   "source": [
    "PATH = 'GNN_no_norm_RNA_pro_batch'"
   ]
  },
  {
   "cell_type": "code",
   "execution_count": 59,
   "id": "1a53dd89-ac85-4b11-bc7c-7e8df4ef8e10",
   "metadata": {},
   "outputs": [],
   "source": [
    "def fit(num_epochs, model, loss_fn):\n",
    "    val_best = float('inf')\n",
    "\n",
    "    for epoch in range(num_epochs):\n",
    "        for train_g in train_graphs:\n",
    "            for e in range(100):\n",
    "                output = model(train_g, train_g.ndata['RNA'])\n",
    "                loss = F.mse_loss(output, train_g.ndata['pro']\n",
    "                loss.backward()\n",
    "                opt.step()\n",
    "                opt.zero_grad()\n",
    "                                  \n",
    "        val_temp_loss = 0\n",
    "        for g in val_graphs:\n",
    "            loss = F.mse_loss(pred, g.ndata['pro']\n",
    "            loss = torch.sqrt(loss)\n",
    "            loss = loss.cpu().detach().numpy()\n",
    "            val_temp_loss = val_temp_loss + loss\n",
    "                              \n",
    "        if val_temp_loss < val_vest:\n",
    "            torch.save(model.state_dict(), PATH)\n",
    "            val_best = val_loss\n",
    "                              \n",
    "        if epoch % 100 == 0:\n",
    "            train_val_test_losses = []\n",
    "            train_val_test_predictions = []\n",
    "            \n",
    "            model = model.eval()\n",
    "            for g in train_val_test_graphs:\n",
    "                pred = model(g, g.ndata['RNA'])\n",
    "                loss = loss_fn(pred, g.ndata['pro']\n",
    "                loss = torch.sqrt(loss)\n",
    "                loss = loss.cpu().detach().numpy()\n",
    "                train_val_test_losses.append(loss)\n",
    "                train_val_test_predictions.appedn(pred.cpu().detach().numpy())\n",
    "                \n",
    "            print('Epoch', epoch, 's1d1:', train_val_test_losses[0], 's1d2:', train_val_test_losses[1], 's1d3:', train_val_test_losses[2], 's2d1:', train_val_test_losses[3],\n",
    "                  's2d4:', train_val_test_losses[4], 's2d5:', train_val_test_losses[5], 's3d1:', train_val_test_losses[6], 's3d6:', train_val_test_losses[7],\n",
    "                  's3d7:', train_val_test_losses[8], 's4d1:', train_val_test_losses[9], 's4d8:', train_val_test_losses[10], 's4d9:', train_val_test_losses[11])\n",
    "            \n",
    "            figure, ax = plt.subplots(1, 12, figsize = (30, 3))\n",
    "            for i in range(1):\n",
    "                ax[0].scatter(pro_s1d1.cpu().detach().numpy()[:, 0], train_val_test_predictions[0].cpu().detach().numpy()[:, 0], c='blue', s = 30, alpha=0.05)\n",
    "                ax[0].plot([-1.5, 3], [-1.5, 3], 'k-')\n",
    "                ax[0].set_title('s1d1 result')\n",
    "                ax[0].set_xlabel('true')\n",
    "                ax[0].set_ylabel('pred')\n",
    "\n",
    "                ax[1].scatter(pro_s1d2.cpu().detach().numpy()[:, 0], train_val_test_predictions[1].cpu().detach().numpy()[:, 0], c='blue', s = 30, alpha=0.05)\n",
    "                ax[1].plot([-1.5, 3], [-1.5, 3], 'k-')\n",
    "                ax[1].set_title('s1d2 result')\n",
    "                ax[1].set_xlabel('true')\n",
    "                ax[1].set_ylabel('pred')\n",
    "\n",
    "                ax[2].scatter(pro_s1d3.cpu().detach().numpy()[:, 0], train_val_test_predictions[2].cpu().detach().numpy()[:, 0], c='blue', s = 30, alpha=0.05)\n",
    "                ax[2].plot([-1.5, 3], [-1.5, 3], 'k-')\n",
    "                ax[2].set_title('s1d3 result')\n",
    "                ax[2].set_xlabel('true')\n",
    "                ax[2].set_ylabel('pred')\n",
    "                \n",
    "                ax[3].scatter(pro_s2d1.cpu().detach().numpy()[:, 0], train_val_test_predictions[3].cpu().detach().numpy()[:, 0], c='red', s = 30, alpha=0.05)\n",
    "                ax[3].plot([-1.5, 3], [-1.5, 3], 'k-')\n",
    "                ax[3].set_title('s2d1 result')\n",
    "                ax[3].set_xlabel('true')\n",
    "                ax[3].set_ylabel('pred')\n",
    "\n",
    "                ax[4].scatter(pro_s2d4.cpu().detach().numpy()[:, 0], train_val_test_predictions[4].cpu().detach().numpy()[:, 0], c='red', s = 30, alpha=0.05)\n",
    "                ax[4].plot([-1.5, 3], [-1.5, 3], 'k-')\n",
    "                ax[4].set_title('s2d4 result')\n",
    "                ax[4].set_xlabel('true')\n",
    "                ax[4].set_ylabel('pred')\n",
    "\n",
    "                ax[5].scatter(pro_s2d5.cpu().detach().numpy()[:, 0], train_val_test_predictions[5].cpu().detach().numpy()[:, 0], c='red', s = 30, alpha=0.05)\n",
    "                ax[5].plot([-1.5, 3], [-1.5, 3], 'k-')\n",
    "                ax[5].set_title('s2d5 result')\n",
    "                ax[5].set_xlabel('true')\n",
    "                ax[5].set_ylabel('pred')\n",
    "                \n",
    "                ax[6].scatter(pro_s3d1.cpu().detach().numpy()[:, 0], train_val_test_predictions[6].cpu().detach().numpy()[:, 0], c='orange', s = 30, alpha=0.05)\n",
    "                ax[6].plot([-1.5, 3], [-1.5, 3], 'k-')\n",
    "                ax[6].set_title('s3d1 result')\n",
    "                ax[6].set_xlabel('true')\n",
    "                ax[6].set_ylabel('pred')\n",
    "\n",
    "                ax[7].scatter(pro_s3d6.cpu().detach().numpy()[:, 0], train_val_test_predictions[7].cpu().detach().numpy()[:, 0], c='orange', s = 30, alpha=0.05)\n",
    "                ax[7].plot([-1.5, 3], [-1.5, 3], 'k-')\n",
    "                ax[7].set_title('s3d6 result')\n",
    "                ax[7].set_xlabel('true')\n",
    "                ax[7].set_ylabel('pred')\n",
    "\n",
    "                ax[8].scatter(pro_s3d7.cpu().detach().numpy()[:, 0], train_val_test_predictions[8].cpu().detach().numpy()[:, 0], c='orange', s = 30, alpha=0.05)\n",
    "                ax[8].plot([-1.5, 3], [-1.5, 3], 'k-')\n",
    "                ax[8].set_title('s3d7 result')\n",
    "                ax[8].set_xlabel('true')\n",
    "                ax[8].set_ylabel('pred')\n",
    "                \n",
    "                ax[9].scatter(pro_s4d1.cpu().detach().numpy()[:, 0], train_val_test_predictions[9].cpu().detach().numpy()[:, 0], c='green', s = 30, alpha=0.05)\n",
    "                ax[9].plot([-1.5, 3], [-1.5, 3], 'k-')\n",
    "                ax[9].set_title('s4d1 result')\n",
    "                ax[9].set_xlabel('true')\n",
    "                ax[9].set_ylabel('pred')\n",
    "\n",
    "                ax[10].scatter(pro_s4d8.cpu().detach().numpy()[:, 0], train_val_test_predictions[10].cpu().detach().numpy()[:, 0], c='green', s = 30, alpha=0.05)\n",
    "                ax[10].plot([-1.5, 3], [-1.5, 3], 'k-')\n",
    "                ax[10].set_title('s4d8 result')\n",
    "                ax[10].set_xlabel('true')\n",
    "                ax[10].set_ylabel('pred')\n",
    "\n",
    "                ax[11].scatter(pro_s4d9.cpu().detach().numpy()[:, 0], train_val_test_predictions[11].cpu().detach().numpy()[:, 0], c='green', s = 30, alpha=0.05)\n",
    "                ax[11].plot([-1.5, 3], [-1.5, 3], 'k-')\n",
    "                ax[11].set_title('s4d9 result')\n",
    "                ax[11].set_xlabel('true')\n",
    "                ax[11].set_ylabel('pred')     \n",
    "            plt.show()\n",
    "    return s1d1_pred.cpu().detach().numpy(), s1d2.cpu().detach().numpy(), s1d3.cpu().detach().numpy(), s2d1.cpu().detach().numpy()"
   ]
  },
  {
   "cell_type": "code",
   "execution_count": null,
   "id": "e4c4dcfd-7567-4cd7-a91b-0358abdd5952",
   "metadata": {},
   "outputs": [],
   "source": [
    "model = GCN(g_s1d1.ndata['RNA'].shape[1], 16, g_s1d1.ndata['pro'].shape[1])\n",
    "train(5000, model, )"
   ]
  },
  {
   "cell_type": "code",
   "execution_count": null,
   "id": "52879d74-7072-44d4-a69c-3825f969705a",
   "metadata": {},
   "outputs": [],
   "source": []
  },
  {
   "cell_type": "code",
   "execution_count": null,
   "id": "84e06fa3-1121-4854-86a1-f52e248d9799",
   "metadata": {},
   "outputs": [],
   "source": []
  },
  {
   "cell_type": "code",
   "execution_count": 35,
   "id": "6c2f5e9f-728e-4a13-a0cc-777f6fbd7f99",
   "metadata": {},
   "outputs": [],
   "source": [
    "colors = ['red','green','blue','purple', 'yellow', 'orange']\n",
    "k = 0\n",
    "batch_lib = {}\n",
    "for i in range(len(batch_train)):\n",
    "    if batch_train[i] not in batch_lib:\n",
    "        k = k + 1\n",
    "        batch_lib[batch_train[i]] = k\n",
    "    batch_train[i] = batch_lib[batch_train[i]]"
   ]
  },
  {
   "cell_type": "code",
   "execution_count": 36,
   "id": "f4766243-9574-420f-ba2e-08e1131efa5f",
   "metadata": {},
   "outputs": [],
   "source": [
    "colors = ['red','green','blue','purple', 'yellow', 'orange']\n",
    "k = 0\n",
    "batch_lib = {}\n",
    "for i in range(len(batch_val)):\n",
    "    if batch_val[i] not in batch_lib:\n",
    "        k = k + 1\n",
    "        batch_lib[batch_val[i]] = k\n",
    "    batch_val[i] = batch_lib[batch_val[i]]"
   ]
  },
  {
   "cell_type": "code",
   "execution_count": 37,
   "id": "0ce14261-ec7d-49de-b31f-0a5dd2e0bc3f",
   "metadata": {},
   "outputs": [],
   "source": [
    "colors = ['red','green','blue','purple', 'yellow', 'orange']\n",
    "k = 0\n",
    "batch_lib = {}\n",
    "for i in range(len(batch_test)):\n",
    "    if batch_test[i] not in batch_lib:\n",
    "        k = k + 1\n",
    "        batch_lib[batch_test[i]] = k\n",
    "    batch_test[i] = batch_lib[batch_test[i]]"
   ]
  },
  {
   "cell_type": "code",
   "execution_count": 38,
   "id": "598e30dd-4f8b-4610-a30f-7f6f6756bff3",
   "metadata": {},
   "outputs": [],
   "source": [
    "batch_train = batch_train + batch_val"
   ]
  },
  {
   "cell_type": "code",
   "execution_count": 39,
   "id": "b7dff04f-4d6b-4c65-915a-18205d9ae19a",
   "metadata": {},
   "outputs": [
    {
     "data": {
      "text/plain": [
       "(66175, 134)"
      ]
     },
     "execution_count": 39,
     "metadata": {},
     "output_type": "execute_result"
    }
   ],
   "source": [
    "train_output = train_output[:, 0:pred_num]\n",
    "train_output.shape"
   ]
  },
  {
   "cell_type": "code",
   "execution_count": 40,
   "id": "130a616c-e05e-47cc-a5f3-14ec5091eab0",
   "metadata": {},
   "outputs": [
    {
     "data": {
      "text/plain": [
       "(28921, 134)"
      ]
     },
     "execution_count": 40,
     "metadata": {},
     "output_type": "execute_result"
    }
   ],
   "source": [
    "val_output = val_output[:, 0:pred_num]\n",
    "val_output.shape"
   ]
  },
  {
   "cell_type": "code",
   "execution_count": 41,
   "id": "aa604e66-84bd-4f86-b6fa-27bcd26c232b",
   "metadata": {},
   "outputs": [
    {
     "data": {
      "text/plain": [
       "(1000, 134)"
      ]
     },
     "execution_count": 41,
     "metadata": {},
     "output_type": "execute_result"
    }
   ],
   "source": [
    "test_output = test_output[:, 0:pred_num]\n",
    "test_output.shape"
   ]
  },
  {
   "cell_type": "code",
   "execution_count": 42,
   "id": "61de4cdc-92aa-4b36-a797-0dd62fcdb44f",
   "metadata": {},
   "outputs": [],
   "source": [
    "train_ds = TensorDataset(RNA_s1d1, pro_s1d1)\n",
    "train_dl = DataLoader(train_ds, batch_size= batch_size, shuffle=True)"
   ]
  },
  {
   "cell_type": "code",
   "execution_count": 43,
   "id": "b53502d6-45ac-408d-9a82-c565a5e87c22",
   "metadata": {},
   "outputs": [],
   "source": [
    "input_feature = train_input.shape[1]\n",
    "output_feature = pred_num"
   ]
  },
  {
   "cell_type": "code",
   "execution_count": 45,
   "id": "14f2313e-a644-47fb-ad4a-3eb98b7fb98e",
   "metadata": {},
   "outputs": [],
   "source": [
    "PATH = 'No_norm_model_RNA_pro'"
   ]
  },
  {
   "cell_type": "code",
   "execution_count": null,
   "id": "87a30cf0-175d-4094-89df-a1a2642fb570",
   "metadata": {},
   "outputs": [],
   "source": []
  }
 ],
 "metadata": {
  "kernelspec": {
   "display_name": "Python 3",
   "language": "python",
   "name": "python3"
  },
  "language_info": {
   "codemirror_mode": {
    "name": "ipython",
    "version": 3
   },
   "file_extension": ".py",
   "mimetype": "text/x-python",
   "name": "python",
   "nbconvert_exporter": "python",
   "pygments_lexer": "ipython3",
   "version": "3.8.10"
  }
 },
 "nbformat": 4,
 "nbformat_minor": 5
}
