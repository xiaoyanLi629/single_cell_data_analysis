{
 "cells": [
  {
   "cell_type": "code",
   "execution_count": 1,
   "id": "3fca2b6a-225e-43b6-a48b-c42c7a2a7f65",
   "metadata": {},
   "outputs": [],
   "source": [
    "import anndata as ad\n",
    "import gc\n",
    "import sys\n",
    "from scipy.sparse import csc_matrix\n",
    "from sklearn.model_selection import train_test_split\n",
    "from sklearn.decomposition import TruncatedSVD\n",
    "from sklearn.linear_model import LinearRegression\n",
    "import random\n",
    "import numpy as np\n",
    "import time\n",
    "import torch\n",
    "import torch.nn as nn\n",
    "import torch.nn.functional as F\n",
    "from torch.utils.data import TensorDataset, DataLoader\n",
    "import matplotlib.pyplot as plt\n",
    "import pickle\n",
    "import matlab.engine\n",
    "import heapq\n",
    "import ipyvolume as ipv"
   ]
  },
  {
   "cell_type": "code",
   "execution_count": 2,
   "id": "8c598992-d536-433c-9e60-ac8bb335d827",
   "metadata": {},
   "outputs": [],
   "source": [
    "eng = matlab.engine.start_matlab()"
   ]
  },
  {
   "cell_type": "code",
   "execution_count": 3,
   "id": "0c067382-cf33-4dc7-8797-c319c39c77dc",
   "metadata": {},
   "outputs": [
    {
     "name": "stdout",
     "output_type": "stream",
     "text": [
      "cuda\n"
     ]
    },
    {
     "data": {
      "text/plain": [
       "<torch._C.Generator at 0x7fcba91ade70>"
      ]
     },
     "execution_count": 3,
     "metadata": {},
     "output_type": "execute_result"
    }
   ],
   "source": [
    "device = torch.device(\"cuda\" if torch.cuda.is_available() else \"cpu\")\n",
    "print(device)\n",
    "random.seed(0)\n",
    "np.random.seed(0)\n",
    "torch.manual_seed(0)"
   ]
  },
  {
   "cell_type": "code",
   "execution_count": 4,
   "id": "94375a30-426b-4c97-931e-8a632ff1e87e",
   "metadata": {},
   "outputs": [],
   "source": [
    "# par_RNA_DNA = {\n",
    "#     # RNA, 16394 * 13431\n",
    "#     'input_train_mod1': 'output/datasets/predict_modality/openproblems_bmmc_multiome_phase1_rna/openproblems_bmmc_multiome_phase1_rna.censor_dataset.output_train_mod1.h5ad',\n",
    "#     # DNA, 16394 * 10000\n",
    "#     'input_train_mod2': 'output/datasets/predict_modality/openproblems_bmmc_multiome_phase1_rna/openproblems_bmmc_multiome_phase1_rna.censor_dataset.output_train_mod2.h5ad',\n",
    "#     # RNA, 1000 * 13431\n",
    "#     'input_test_mod1': 'output/datasets/predict_modality/openproblems_bmmc_multiome_phase1_rna/openproblems_bmmc_multiome_phase1_rna.censor_dataset.output_test_mod1.h5ad',\n",
    "#     # DNA, 1000 * 10000\n",
    "#     'input_test_mod2': 'output/datasets/predict_modality/openproblems_bmmc_multiome_phase1_rna/openproblems_bmmc_multiome_phase1_rna.censor_dataset.output_test_mod2.h5ad',\n",
    "#     'distance_method': 'minkowski',\n",
    "#     'output': 'output.h5ad',\n",
    "#     'n_pcs': 50,\n",
    "# }\n",
    "\n",
    "# par_DNA_RNA = {\n",
    "#     # DNA, 16394 * 116490\n",
    "#     'input_train_mod1': 'output/datasets/predict_modality/openproblems_bmmc_multiome_phase1_mod2/openproblems_bmmc_multiome_phase1_mod2.censor_dataset.output_train_mod1.h5ad',\n",
    "#     # RNA, 16394 * 13431\n",
    "#     'input_train_mod2': 'output/datasets/predict_modality/openproblems_bmmc_multiome_phase1_mod2/openproblems_bmmc_multiome_phase1_mod2.censor_dataset.output_train_mod2.h5ad',\n",
    "#     # DNA, 1000 * 116490\n",
    "#     'input_test_mod1': 'output/datasets/predict_modality/openproblems_bmmc_multiome_phase1_mod2/openproblems_bmmc_multiome_phase1_mod2.censor_dataset.output_test_mod1.h5ad',\n",
    "#     # RNA, 1000 * 13431\n",
    "#     'input_test_mod2': 'output/datasets/predict_modality/openproblems_bmmc_multiome_phase1_mod2/openproblems_bmmc_multiome_phase1_mod2.censor_dataset.output_test_mod2.h5ad',\n",
    "#     'distance_method': 'minkowski',\n",
    "#     'output': 'output.h5ad',\n",
    "#     'n_pcs': 50,\n",
    "# }\n",
    "\n",
    "# par_RNA_Pro = {\n",
    "#     # RNA, 29077 * 13953\n",
    "#     'input_train_mod1': 'output/datasets/predict_modality/openproblems_bmmc_cite_phase1_rna/openproblems_bmmc_cite_phase1_rna.censor_dataset.output_train_mod1.h5ad',\n",
    "#     # Protein, 29077 * 134\n",
    "#     'input_train_mod2': 'output/datasets/predict_modality/openproblems_bmmc_cite_phase1_rna/openproblems_bmmc_cite_phase1_rna.censor_dataset.output_train_mod2.h5ad',\n",
    "#     # RNA, 1000 * 13953\n",
    "#     'input_test_mod1': 'output/datasets/predict_modality/openproblems_bmmc_cite_phase1_rna/openproblems_bmmc_cite_phase1_rna.censor_dataset.output_test_mod1.h5ad',\n",
    "#     # Protein, 1000 * 134\n",
    "#     'input_test_mod2': 'output/datasets/predict_modality/openproblems_bmmc_cite_phase1_rna/openproblems_bmmc_cite_phase1_rna.censor_dataset.output_test_mod2.h5ad',\n",
    "#     'distance_method': 'minkowski',\n",
    "#     'output': 'output.h5ad',\n",
    "#     'n_pcs': 50,\n",
    "# }\n",
    "\n",
    "# par_Pro_RNA = {\n",
    "#     # Protein, 29077 * 134\n",
    "#     'input_train_mod1': 'output/datasets/predict_modality/openproblems_bmmc_cite_phase1_mod2/openproblems_bmmc_cite_phase1_mod2.censor_dataset.output_train_mod1.h5ad',\n",
    "#     # RNA, 29077 * 13953\n",
    "#     'input_train_mod2': 'output/datasets/predict_modality/openproblems_bmmc_cite_phase1_mod2/openproblems_bmmc_cite_phase1_mod2.censor_dataset.output_train_mod2.h5ad',\n",
    "#     # Protein. 1000 * 134\n",
    "#     'input_test_mod1': 'output/datasets/predict_modality/openproblems_bmmc_cite_phase1_mod2/openproblems_bmmc_cite_phase1_mod2.censor_dataset.output_test_mod1.h5ad',\n",
    "#     # RNA, 1000 * 13953\n",
    "#     'input_test_mod2': 'output/datasets/predict_modality/openproblems_bmmc_cite_phase1_mod2/openproblems_bmmc_cite_phase1_mod2.censor_dataset.output_test_mod2.h5ad',\n",
    "#     'distance_method': 'minkowski',\n",
    "#     'output': 'output.h5ad',\n",
    "#     'n_pcs': 50,\n",
    "\n",
    "# }"
   ]
  },
  {
   "cell_type": "code",
   "execution_count": 5,
   "id": "217b8b8a-2502-46b6-a960-c93013183dd9",
   "metadata": {},
   "outputs": [],
   "source": [
    "# par_list = [par_RNA_DNA, par_DNA_RNA, par_RNA_Pro, par_Pro_RNA]"
   ]
  },
  {
   "cell_type": "code",
   "execution_count": 6,
   "id": "9af2818d-3c7e-4fb2-ae39-68e1eb7e7950",
   "metadata": {},
   "outputs": [],
   "source": [
    "# index = int(sys.argv[1])\n",
    "# par = par_list[2]"
   ]
  },
  {
   "cell_type": "code",
   "execution_count": 7,
   "id": "7e7f7f40-72e5-41e8-ad1d-43b455ba3283",
   "metadata": {},
   "outputs": [],
   "source": [
    "# input_train_mod1 = ad.read_h5ad(par['input_train_mod1'])\n",
    "# input_train_mod2 = ad.read_h5ad(par['input_train_mod2'])\n",
    "# input_test_mod1 = ad.read_h5ad(par['input_test_mod1'])\n",
    "# input_test_mod2 = ad.read_h5ad(par['input_test_mod2'])"
   ]
  },
  {
   "cell_type": "code",
   "execution_count": 8,
   "id": "7852b9f9-99e7-49a0-94a3-41e4443b0cb4",
   "metadata": {},
   "outputs": [],
   "source": [
    "# print(set(input_train_mod1.obs['batch']))\n",
    "# print(set(input_train_mod2.obs['batch']))\n",
    "# print(set(input_test_mod1.obs['batch']))\n",
    "# print(set(input_test_mod2.obs['batch']))"
   ]
  },
  {
   "cell_type": "code",
   "execution_count": 9,
   "id": "efb1ad23-c93d-4095-b550-2dea800d199e",
   "metadata": {},
   "outputs": [],
   "source": [
    "# s2d4 = input_train_mod2[input_train_mod2.obs[\"batch\"] == \"s2d4\", :]\n",
    "# pro_s2d4 = s2d4\n",
    "\n",
    "# s1d2 = input_test_mod2[input_test_mod2.obs[\"batch\"] == \"s1d2\", :]\n",
    "# pro_s1d2 = s1d2"
   ]
  },
  {
   "cell_type": "code",
   "execution_count": 10,
   "id": "170031e8-371d-4641-b967-09cbda54bedf",
   "metadata": {},
   "outputs": [],
   "source": [
    "# print(pro_s2d4)\n",
    "# print(pro_s1d2)"
   ]
  },
  {
   "cell_type": "code",
   "execution_count": 11,
   "id": "69c77d4c-b855-41a6-9f00-a64f9f3b6fa2",
   "metadata": {},
   "outputs": [],
   "source": [
    "train_mod1_file = 'phase2_data/predict_modality/openproblems_bmmc_multiome_phase2_mod2/openproblems_bmmc_multiome_phase2_mod2.censor_dataset.output_train_mod1.h5ad'\n",
    "train_mod2_file = 'phase2_data/predict_modality/openproblems_bmmc_multiome_phase2_mod2/openproblems_bmmc_multiome_phase2_mod2.censor_dataset.output_train_mod2.h5ad'\n",
    "test_mod1_file = 'phase2_data/predict_modality/openproblems_bmmc_multiome_phase2_rna/openproblems_bmmc_multiome_phase2_rna.censor_dataset.output_train_mod1.h5ad'\n",
    "test_mod2_file = 'phase2_data/predict_modality/openproblems_bmmc_multiome_phase2_rna/openproblems_bmmc_multiome_phase2_rna.censor_dataset.output_train_mod2.h5ad'"
   ]
  },
  {
   "cell_type": "code",
   "execution_count": 12,
   "id": "87510766-7610-4c48-a278-c52351650f3d",
   "metadata": {},
   "outputs": [],
   "source": [
    "input_train_mod1 = ad.read_h5ad(train_mod1_file)\n",
    "input_train_mod2 = ad.read_h5ad(train_mod2_file)\n",
    "input_test_mod1 = ad.read_h5ad(test_mod1_file)\n",
    "input_test_mod2 = ad.read_h5ad(test_mod2_file)"
   ]
  },
  {
   "cell_type": "code",
   "execution_count": 13,
   "id": "2b8fc730-6949-47df-981d-fb81a727c9dd",
   "metadata": {},
   "outputs": [
    {
     "name": "stdout",
     "output_type": "stream",
     "text": [
      "AnnData object with n_obs × n_vars = 42492 × 116490\n",
      "    obs: 'batch'\n",
      "    var: 'feature_types'\n",
      "    uns: 'dataset_id', 'gene_activity_var_names', 'organism'\n",
      "    obsm: 'gene_activity'\n",
      "    layers: 'counts'\n",
      "AnnData object with n_obs × n_vars = 42492 × 13431\n",
      "    obs: 'batch'\n",
      "    var: 'gene_ids', 'feature_types'\n",
      "    uns: 'dataset_id', 'organism'\n",
      "    layers: 'counts'\n",
      "AnnData object with n_obs × n_vars = 42492 × 13431\n",
      "    obs: 'batch', 'size_factors'\n",
      "    var: 'gene_ids', 'feature_types'\n",
      "    uns: 'dataset_id', 'organism'\n",
      "    layers: 'counts'\n",
      "AnnData object with n_obs × n_vars = 42492 × 10000\n",
      "    obs: 'batch', 'size_factors'\n",
      "    var: 'feature_types'\n",
      "    uns: 'dataset_id', 'gene_activity_var_names', 'organism'\n",
      "    obsm: 'gene_activity'\n",
      "    layers: 'counts'\n"
     ]
    }
   ],
   "source": [
    "print(input_train_mod1)\n",
    "print(input_train_mod2)\n",
    "print(input_test_mod1)\n",
    "print(input_test_mod2)"
   ]
  },
  {
   "cell_type": "code",
   "execution_count": 14,
   "id": "70704304-cabf-41fa-8999-27735498dc63",
   "metadata": {},
   "outputs": [
    {
     "name": "stdout",
     "output_type": "stream",
     "text": [
      "{'s2d5', 's2d4', 's3d6', 's3d7', 's1d3', 's2d1', 's1d2', 's1d1', 's3d3', 's3d10'}\n",
      "{'s2d5', 's2d4', 's3d6', 's3d7', 's1d3', 's2d1', 's1d2', 's1d1', 's3d3', 's3d10'}\n",
      "{'s2d5', 's2d4', 's3d6', 's3d7', 's1d3', 's2d1', 's1d2', 's1d1', 's3d3', 's3d10'}\n",
      "{'s2d5', 's2d4', 's3d6', 's3d7', 's1d3', 's2d1', 's1d2', 's1d1', 's3d3', 's3d10'}\n"
     ]
    }
   ],
   "source": [
    "print(set(input_train_mod1.obs['batch']))\n",
    "print(set(input_train_mod2.obs['batch']))\n",
    "print(set(input_test_mod1.obs['batch']))\n",
    "print(set(input_test_mod2.obs['batch']))"
   ]
  },
  {
   "cell_type": "code",
   "execution_count": 15,
   "id": "b86a5486-9d49-4ca7-80ba-fd7a441129bc",
   "metadata": {},
   "outputs": [],
   "source": [
    "s3d6 = input_train_mod1[input_train_mod1.obs[\"batch\"] == \"s3d6\", :]\n",
    "pro_s3d6 = s3d6\n",
    "\n",
    "s2d4 = input_train_mod1[input_train_mod1.obs[\"batch\"] == \"s2d4\", :]\n",
    "pro_s2d4 = s2d4\n",
    "\n",
    "s1d1 = input_train_mod1[input_train_mod1.obs[\"batch\"] == \"s1d1\", :]\n",
    "pro_s1d1 = s1d1\n",
    "\n",
    "s2d1 = input_train_mod1[input_train_mod1.obs[\"batch\"] == \"s2d1\", :]\n",
    "pro_s2d1 = s2d1\n",
    "\n",
    "s1d2 = input_test_mod1[input_test_mod1.obs[\"batch\"] == \"s1d2\", :]\n",
    "pro_s1d2 = s1d2"
   ]
  },
  {
   "cell_type": "code",
   "execution_count": 16,
   "id": "13618908-1c61-4635-bac6-7929e556d9e2",
   "metadata": {},
   "outputs": [
    {
     "name": "stdout",
     "output_type": "stream",
     "text": [
      "View of AnnData object with n_obs × n_vars = 1771 × 116490\n",
      "    obs: 'batch'\n",
      "    var: 'feature_types'\n",
      "    uns: 'dataset_id', 'gene_activity_var_names', 'organism'\n",
      "    obsm: 'gene_activity'\n",
      "    layers: 'counts'\n",
      "View of AnnData object with n_obs × n_vars = 5456 × 116490\n",
      "    obs: 'batch'\n",
      "    var: 'feature_types'\n",
      "    uns: 'dataset_id', 'gene_activity_var_names', 'organism'\n",
      "    obsm: 'gene_activity'\n",
      "    layers: 'counts'\n",
      "View of AnnData object with n_obs × n_vars = 5616 × 116490\n",
      "    obs: 'batch'\n",
      "    var: 'feature_types'\n",
      "    uns: 'dataset_id', 'gene_activity_var_names', 'organism'\n",
      "    obsm: 'gene_activity'\n",
      "    layers: 'counts'\n",
      "View of AnnData object with n_obs × n_vars = 3811 × 116490\n",
      "    obs: 'batch'\n",
      "    var: 'feature_types'\n",
      "    uns: 'dataset_id', 'gene_activity_var_names', 'organism'\n",
      "    obsm: 'gene_activity'\n",
      "    layers: 'counts'\n",
      "View of AnnData object with n_obs × n_vars = 6069 × 13431\n",
      "    obs: 'batch', 'size_factors'\n",
      "    var: 'gene_ids', 'feature_types'\n",
      "    uns: 'dataset_id', 'organism'\n",
      "    layers: 'counts'\n"
     ]
    }
   ],
   "source": [
    "print(pro_s3d6)\n",
    "print(pro_s2d4)\n",
    "print(pro_s1d1)\n",
    "print(pro_s2d1)\n",
    "print(pro_s1d2)"
   ]
  },
  {
   "cell_type": "code",
   "execution_count": 17,
   "id": "075a883b-3645-4294-8f68-f56cba2f72fb",
   "metadata": {},
   "outputs": [],
   "source": [
    "mod1 = input_train_mod1.var['feature_types'][0]\n",
    "mod2 = input_train_mod2.var['feature_types'][0]\n",
    "\n",
    "model_path = mod1 +'_to_' + mod2 + '.pth'"
   ]
  },
  {
   "cell_type": "code",
   "execution_count": 18,
   "id": "3c04531e-46c7-4a8f-967a-ecffd4ecc908",
   "metadata": {},
   "outputs": [],
   "source": [
    "s1d1_array = pro_s1d1.X.toarray()\n",
    "s1d2_array = pro_s1d2.X.toarray()\n",
    "s2d1_array = pro_s2d1.X.toarray()\n",
    "s2d4_array = pro_s2d4.X.toarray()\n",
    "s3d6_array = pro_s3d6.X.toarray()"
   ]
  },
  {
   "cell_type": "code",
   "execution_count": 19,
   "id": "4be7440a-cd3c-4a38-8f96-e160fd0e5e3e",
   "metadata": {},
   "outputs": [],
   "source": [
    "# from mayavi.mlab import *\n",
    "# def test_points3d():\n",
    "#     t = np.linspace(0, 4 * np.pi, 20)\n",
    "\n",
    "#     x = np.sin(2 * t)\n",
    "#     y = np.cos(t)\n",
    "#     z = np.cos(2 * t)\n",
    "#     s = 2 + np.sin(t)\n",
    "\n",
    "#     return points3d(x, y, z, s, colormap=\"copper\", scale_factor=.25)\n",
    "# test_points3d()"
   ]
  },
  {
   "cell_type": "code",
   "execution_count": 20,
   "id": "9aef86e5-53ca-4d6e-a0c6-9893de7fd9a3",
   "metadata": {},
   "outputs": [],
   "source": [
    "# from mpl_toolkits.mplot3d import Axes3D\n",
    "# import matplotlib.pyplot as plt\n",
    "# import numpy as np\n",
    "# from itertools import product, combinations"
   ]
  },
  {
   "cell_type": "code",
   "execution_count": 21,
   "id": "010899e1-247d-426a-a835-746b53a9ec9a",
   "metadata": {},
   "outputs": [],
   "source": [
    "# fig = plt.figure()\n",
    "# ax = fig.gca(projection='3d')\n",
    "# ax.set_aspect(\"auto\")\n",
    "\n",
    "# # draw sphere\n",
    "# u, v = np.mgrid[0:2*np.pi:20j, 0:np.pi:10j]\n",
    "# x = np.cos(u)*np.sin(v)\n",
    "# y = np.sin(u)*np.sin(v)\n",
    "# z = np.cos(v)\n",
    "# ax.plot_wireframe(x, y, z, color=\"r\")"
   ]
  },
  {
   "cell_type": "code",
   "execution_count": 22,
   "id": "1627de62-ccde-464e-a511-fd9fdb06632e",
   "metadata": {},
   "outputs": [],
   "source": [
    "batches = [s1d1_array, s1d2_array, s2d1_array, s2d4_array, s3d6_array]"
   ]
  },
  {
   "cell_type": "code",
   "execution_count": 23,
   "id": "622f00f9",
   "metadata": {},
   "outputs": [
    {
     "data": {
      "application/vnd.jupyter.widget-view+json": {
       "model_id": "b25cfcbc98f04b97a1033a76eda223fb",
       "version_major": 2,
       "version_minor": 0
      },
      "text/plain": [
       "VBox(children=(Figure(camera=PerspectiveCamera(fov=45.0, position=(0.0, 0.0, 2.0), projectionMatrix=(1.0, 0.0,…"
      ]
     },
     "metadata": {},
     "output_type": "display_data"
    }
   ],
   "source": [
    "N = 1000\n",
    "x, y, z = np.random.normal(0, 1, (3, N))\n",
    "\n",
    "fig = ipv.figure()\n",
    "scatter = ipv.scatter(x, y, z)\n",
    "ipv.show()"
   ]
  },
  {
   "cell_type": "code",
   "execution_count": 24,
   "id": "d14e12a7",
   "metadata": {},
   "outputs": [
    {
     "data": {
      "text/plain": [
       "(1000,)"
      ]
     },
     "execution_count": 24,
     "metadata": {},
     "output_type": "execute_result"
    }
   ],
   "source": [
    "x.shape"
   ]
  },
  {
   "cell_type": "code",
   "execution_count": 25,
   "id": "f086a0ac",
   "metadata": {},
   "outputs": [
    {
     "data": {
      "application/vnd.jupyter.widget-view+json": {
       "model_id": "38b2bc4ac6894ed9a86e671760939aab",
       "version_major": 2,
       "version_minor": 0
      },
      "text/plain": [
       "VBox(children=(Figure(camera=PerspectiveCamera(fov=45.0, position=(0.0, 0.0, 2.0), projectionMatrix=(1.0, 0.0,…"
      ]
     },
     "metadata": {},
     "output_type": "display_data"
    }
   ],
   "source": [
    "s1d1_mean = np.mean(s1d1_array, axis=0)+5\n",
    "s1d1_std = np.std(s1d1_array, axis=0)\n",
    "\n",
    "rvals = 2*np.random.rand(s1d1_mean.shape[0],1)-1\n",
    "elevation = np.arcsin(rvals)\n",
    "\n",
    "azimuth = 2*np.pi*np.random.rand(s1d1_mean.shape[0],1)\n",
    "radii = np.ones((s1d1_mean.shape[0], 1))\n",
    "radii = s1d1_mean\n",
    "radii = np.reshape(radii, (radii.shape[0], 1))\n",
    "radii.shape\n",
    "\n",
    "# [x,y,z] = sph2cart(azimuth,elevation,radii);\n",
    "\n",
    "z = radii*np.sin(elevation)\n",
    "x = radii*np.cos(elevation)*np.cos(azimuth)\n",
    "y = radii*np.cos(elevation)*np.sin(azimuth)\n",
    "\n",
    "x = np.squeeze(x)\n",
    "y = np.squeeze(y)\n",
    "z = np.squeeze(z)\n",
    "# s = randi([100, 300], dim, 1);\n",
    "# c = rand(dim, 3);\n",
    "\n",
    "# %matplotlib inline\n",
    "# plt.rcParams[\"figure.figsize\"] = [7.00, 8.0]\n",
    "# plt.rcParams[\"figure.autolayout\"] = True\n",
    "# fig = plt.figure()\n",
    "fig = ipv.figure()\n",
    "\n",
    "scatter = ipv.scatter(x, y, z)\n",
    "\n",
    "# ax.set_box_aspect((np.ptp(x), np.ptp(y), np.ptp(z)))\n",
    "# ax.scatter3D(x, y, z, c=s1d1_std)\n",
    "# x = x.tolist()\n",
    "# y = y.tolist()\n",
    "# z = z.tolist()\n",
    "# x = [ele[0] for ele in x]\n",
    "# y = [ele[0] for ele in y]\n",
    "# z = [ele[0] for ele in z]\n",
    "# for i in range(len(x)):\n",
    "#     distance = [(x[i]-x[j])**2+(y[i]-y[j])**2+(z[i]-z[j])**2 for j in range(len(x))]\n",
    "#     top_4 = (heapq.nsmallest(4, distance))\n",
    "#     nearest_index = [distance.index(top_4[1]), distance.index(top_4[2]), distance.index(top_4[3])]\n",
    "#     ax.plot([x[i], x[nearest_index[0]]], [y[i], y[nearest_index[0]]], [z[i], z[nearest_index[0]]], color='blue')\n",
    "#     ax.plot([x[i], x[nearest_index[1]]], [y[i], y[nearest_index[1]]], [z[i], z[nearest_index[1]]], color='blue')\n",
    "#     ax.plot([x[i], x[nearest_index[2]]], [y[i], y[nearest_index[2]]], [z[i], z[nearest_index[2]]], color='blue')\n",
    "ipv.show()"
   ]
  },
  {
   "cell_type": "code",
   "execution_count": 26,
   "id": "53a37981",
   "metadata": {},
   "outputs": [
    {
     "data": {
      "text/plain": [
       "(116490,)"
      ]
     },
     "execution_count": 26,
     "metadata": {},
     "output_type": "execute_result"
    }
   ],
   "source": [
    "x.shape\n",
    "x = np.squeeze(x)\n",
    "x.shape"
   ]
  },
  {
   "cell_type": "code",
   "execution_count": 27,
   "id": "ca35d2b5-9e5f-4c0f-9d48-5535530b6599",
   "metadata": {},
   "outputs": [
    {
     "ename": "AttributeError",
     "evalue": "'Figure' object has no attribute 'add_subplot'",
     "output_type": "error",
     "traceback": [
      "\u001b[0;31m---------------------------------------------------------------------------\u001b[0m",
      "\u001b[0;31mAttributeError\u001b[0m                            Traceback (most recent call last)",
      "\u001b[0;32m/tmp/ipykernel_2038085/1695776852.py\u001b[0m in \u001b[0;36m<module>\u001b[0;34m\u001b[0m\n\u001b[1;32m     25\u001b[0m \u001b[0;31m# fig = plt.figure()\u001b[0m\u001b[0;34m\u001b[0m\u001b[0;34m\u001b[0m\u001b[0;34m\u001b[0m\u001b[0m\n\u001b[1;32m     26\u001b[0m \u001b[0mfig\u001b[0m \u001b[0;34m=\u001b[0m \u001b[0mipv\u001b[0m\u001b[0;34m.\u001b[0m\u001b[0mfigure\u001b[0m\u001b[0;34m(\u001b[0m\u001b[0;34m)\u001b[0m\u001b[0;34m\u001b[0m\u001b[0;34m\u001b[0m\u001b[0m\n\u001b[0;32m---> 27\u001b[0;31m \u001b[0max\u001b[0m \u001b[0;34m=\u001b[0m \u001b[0mfig\u001b[0m\u001b[0;34m.\u001b[0m\u001b[0madd_subplot\u001b[0m\u001b[0;34m(\u001b[0m\u001b[0mprojection\u001b[0m\u001b[0;34m=\u001b[0m\u001b[0;34m'3d'\u001b[0m\u001b[0;34m)\u001b[0m\u001b[0;34m\u001b[0m\u001b[0;34m\u001b[0m\u001b[0m\n\u001b[0m\u001b[1;32m     28\u001b[0m \u001b[0max\u001b[0m\u001b[0;34m.\u001b[0m\u001b[0mset_box_aspect\u001b[0m\u001b[0;34m(\u001b[0m\u001b[0;34m(\u001b[0m\u001b[0mnp\u001b[0m\u001b[0;34m.\u001b[0m\u001b[0mptp\u001b[0m\u001b[0;34m(\u001b[0m\u001b[0mx\u001b[0m\u001b[0;34m)\u001b[0m\u001b[0;34m,\u001b[0m \u001b[0mnp\u001b[0m\u001b[0;34m.\u001b[0m\u001b[0mptp\u001b[0m\u001b[0;34m(\u001b[0m\u001b[0my\u001b[0m\u001b[0;34m)\u001b[0m\u001b[0;34m,\u001b[0m \u001b[0mnp\u001b[0m\u001b[0;34m.\u001b[0m\u001b[0mptp\u001b[0m\u001b[0;34m(\u001b[0m\u001b[0mz\u001b[0m\u001b[0;34m)\u001b[0m\u001b[0;34m)\u001b[0m\u001b[0;34m)\u001b[0m\u001b[0;34m\u001b[0m\u001b[0;34m\u001b[0m\u001b[0m\n\u001b[1;32m     29\u001b[0m \u001b[0max\u001b[0m\u001b[0;34m.\u001b[0m\u001b[0mscatter3D\u001b[0m\u001b[0;34m(\u001b[0m\u001b[0mx\u001b[0m\u001b[0;34m,\u001b[0m \u001b[0my\u001b[0m\u001b[0;34m,\u001b[0m \u001b[0mz\u001b[0m\u001b[0;34m,\u001b[0m \u001b[0mc\u001b[0m\u001b[0;34m=\u001b[0m\u001b[0ms1d1_std\u001b[0m\u001b[0;34m)\u001b[0m\u001b[0;34m\u001b[0m\u001b[0;34m\u001b[0m\u001b[0m\n",
      "\u001b[0;31mAttributeError\u001b[0m: 'Figure' object has no attribute 'add_subplot'"
     ]
    }
   ],
   "source": [
    "s1d1_mean = np.mean(s1d1_array, axis=0)+5\n",
    "s1d1_std = np.std(s1d1_array, axis=0)\n",
    "\n",
    "rvals = 2*np.random.rand(s1d1_mean.shape[0],1)-1\n",
    "elevation = np.arcsin(rvals)\n",
    "\n",
    "azimuth = 2*np.pi*np.random.rand(s1d1_mean.shape[0],1)\n",
    "radii = np.ones((s1d1_mean.shape[0], 1))\n",
    "radii = s1d1_mean\n",
    "radii = np.reshape(radii, (radii.shape[0], 1))\n",
    "radii.shape\n",
    "\n",
    "# [x,y,z] = sph2cart(azimuth,elevation,radii);\n",
    "\n",
    "z = radii*np.sin(elevation)\n",
    "x = radii*np.cos(elevation)*np.cos(azimuth)\n",
    "y = radii*np.cos(elevation)*np.sin(azimuth)\n",
    "\n",
    "# s = randi([100, 300], dim, 1);\n",
    "# c = rand(dim, 3);\n",
    "\n",
    "# %matplotlib inline\n",
    "# plt.rcParams[\"figure.figsize\"] = [7.00, 8.0]\n",
    "# plt.rcParams[\"figure.autolayout\"] = True\n",
    "# fig = plt.figure()\n",
    "fig = ipv.figure()\n",
    "ax = fig.add_subplot(projection='3d')\n",
    "ax.set_box_aspect((np.ptp(x), np.ptp(y), np.ptp(z)))\n",
    "ax.scatter3D(x, y, z, c=s1d1_std)\n",
    "x = x.tolist()\n",
    "y = y.tolist()\n",
    "z = z.tolist()\n",
    "x = [ele[0] for ele in x]\n",
    "y = [ele[0] for ele in y]\n",
    "z = [ele[0] for ele in z]\n",
    "for i in range(len(x)):\n",
    "    distance = [(x[i]-x[j])**2+(y[i]-y[j])**2+(z[i]-z[j])**2 for j in range(len(x))]\n",
    "    top_4 = (heapq.nsmallest(4, distance))\n",
    "    nearest_index = [distance.index(top_4[1]), distance.index(top_4[2]), distance.index(top_4[3])]\n",
    "    ax.plot([x[i], x[nearest_index[0]]], [y[i], y[nearest_index[0]]], [z[i], z[nearest_index[0]]], color='blue')\n",
    "    ax.plot([x[i], x[nearest_index[1]]], [y[i], y[nearest_index[1]]], [z[i], z[nearest_index[1]]], color='blue')\n",
    "    ax.plot([x[i], x[nearest_index[2]]], [y[i], y[nearest_index[2]]], [z[i], z[nearest_index[2]]], color='blue')\n",
    "ipv.show()"
   ]
  },
  {
   "cell_type": "code",
   "execution_count": null,
   "id": "570961e6-e9ae-4b81-af4f-eb5839a142f9",
   "metadata": {},
   "outputs": [],
   "source": [
    "input_ = ad.read_h5ad(par['input_train_mod2'])\n",
    "s1d1 = input_[input_.obs[\"batch\"] == \"s1d1\", :]\n",
    "RNA_s1d1 = s1d1\n",
    "s1d1_array = RNA_s1d1.X.toarray()\n",
    "s1d1_mean = np.mean(s1d1_array, axis=0)+10\n",
    "s1d1_std = np.std(s1d1_array, axis=0)\n",
    "\n",
    "rvals = 2*np.random.rand(s1d1_mean.shape[0],1)-1\n",
    "elevation = np.arcsin(rvals)\n",
    "\n",
    "azimuth = 2*np.pi*np.random.rand(s1d1_mean.shape[0],1)\n",
    "radii = np.ones((s1d1_mean.shape[0], 1))\n",
    "radii = s1d1_mean\n",
    "radii = np.reshape(radii, (radii.shape[0], 1))\n",
    "radii.shape\n",
    "\n",
    "# [x,y,z] = sph2cart(azimuth,elevation,radii);\n",
    "\n",
    "z = radii*np.sin(elevation)\n",
    "x = radii*np.cos(elevation)*np.cos(azimuth)\n",
    "y = radii*np.cos(elevation)*np.sin(azimuth)\n",
    "\n",
    "# s = randi([100, 300], dim, 1);\n",
    "# c = rand(dim, 3);\n",
    "\n",
    "# %matplotlib inline\n",
    "plt.rcParams[\"figure.figsize\"] = [7.00, 8.0]\n",
    "plt.rcParams[\"figure.autolayout\"] = True\n",
    "fig = plt.figure()\n",
    "ax = fig.add_subplot(projection='3d')\n",
    "# ax.axis('equal')\n",
    "# ax.set_aspect('equal')\n",
    "ax.set_box_aspect((np.ptp(x), np.ptp(y), np.ptp(z)))\n",
    "ax.scatter3D(x, y, z, c=s1d1_std, s = s1d1_std);\n",
    "x = x.tolist()\n",
    "y = y.tolist()\n",
    "z = z.tolist()\n",
    "x = [ele[0] for ele in x]\n",
    "y = [ele[0] for ele in y]\n",
    "z = [ele[0] for ele in z]\n",
    "for i in range(len(x)):\n",
    "    distance = [(x[i]-x[j])**2+(y[i]-y[j])**2+(z[i]-z[j])**2 for j in range(len(x))]\n",
    "    top_4 = (heapq.nsmallest(4, distance))\n",
    "    nearest_index = [distance.index(top_4[1]), distance.index(top_4[2]), distance.index(top_4[3])]\n",
    "    ax.plot([x[i], x[nearest_index[0]]], [y[i], y[nearest_index[0]]], [z[i], z[nearest_index[0]]], color='blue', linewidth=0.5)\n",
    "    ax.plot([x[i], x[nearest_index[1]]], [y[i], y[nearest_index[1]]], [z[i], z[nearest_index[1]]], color='blue', linewidth=0.5)\n",
    "    ax.plot([x[i], x[nearest_index[2]]], [y[i], y[nearest_index[2]]], [z[i], z[nearest_index[2]]], color='blue', linewidth=0.5)"
   ]
  },
  {
   "cell_type": "code",
   "execution_count": null,
   "id": "1a9c8816-1cd2-4ab0-8542-b26d42dc8d90",
   "metadata": {},
   "outputs": [],
   "source": [
    "# a = matlab.double(s1d1_mean)\n",
    "# b = matlab.double(s1d1_std)"
   ]
  },
  {
   "cell_type": "code",
   "execution_count": null,
   "id": "f0ea60c3-4a8c-4202-81f4-e1c7405ccdaa",
   "metadata": {},
   "outputs": [],
   "source": [
    "# ret = eng.sphere_creation(a, b)"
   ]
  },
  {
   "cell_type": "code",
   "execution_count": null,
   "id": "ba7e0c79-3d00-4e14-8e94-aa71886a761b",
   "metadata": {},
   "outputs": [],
   "source": [
    "outputs = np.concatenate((batches), axis=0)"
   ]
  },
  {
   "cell_type": "code",
   "execution_count": null,
   "id": "4d23eb91-a940-4a2c-b3b5-7c36d4035754",
   "metadata": {},
   "outputs": [],
   "source": [
    "outputs_torch = torch.from_numpy(outputs)\n",
    "outputs_torch = outputs_torch.float()\n",
    "# outputs_gpu = outputs_torch.to(device)"
   ]
  },
  {
   "cell_type": "code",
   "execution_count": null,
   "id": "a7dc378e-b1b2-4613-9dd5-ff76d929b817",
   "metadata": {},
   "outputs": [],
   "source": [
    "for i in range(5):\n",
    "    one_hot_encoder = np.zeros((batches[i].shape[0], 10))\n",
    "    one_hot_encoder[:, i] = 1\n",
    "    batches[i] = np.concatenate((batches[i], one_hot_encoder), axis=1)"
   ]
  },
  {
   "cell_type": "code",
   "execution_count": null,
   "id": "b091dbea-0e1c-4efa-9e4b-665b7d5a3bfb",
   "metadata": {},
   "outputs": [],
   "source": [
    "eng.sphere_creation(nargout=0)inputs = np.concatenate((batches), axis=0)"
   ]
  },
  {
   "cell_type": "code",
   "execution_count": null,
   "id": "3935459d-cdfb-442a-8463-b937b2241b92",
   "metadata": {},
   "outputs": [],
   "source": [
    "inputs_torch = torch.from_numpy(inputs)\n",
    "inputs_torch = inputs_torch.float()\n",
    "# inputs_gpu = inputs_torch.to(device)"
   ]
  },
  {
   "cell_type": "code",
   "execution_count": null,
   "id": "958732eb-6af2-4164-9a0d-3c4eed08cf04",
   "metadata": {},
   "outputs": [],
   "source": [
    "# train_inputs = inputs_gpu\n",
    "# reain_target = inputs_gpu\n",
    "# val_inputs = inputs_gpu\n",
    "# val_targets = inputs_gpu\n",
    "# test_inputs = inputs_gpu\n",
    "# test_targets = inputs_gpu"
   ]
  },
  {
   "cell_type": "code",
   "execution_count": null,
   "id": "2cab1774-2534-4ba3-aae3-7cdff3ee341a",
   "metadata": {},
   "outputs": [],
   "source": [
    "# s1d1_torch = torch.from_numpy(s1d1_array)\n",
    "# s1d2_torch = torch.from_numpy(s1d2_array)\n",
    "# s2d1_torch = torch.from_numpy(s2d1_array)\n",
    "# s2d4_torch = torch.from_numpy(s2d4_array)\n",
    "# s3d6_torch = torch.from_numpy(s3d6_array)\n",
    "\n",
    "# s1d1_torch = s1d1_torch.float()\n",
    "# s1d2_torch = s1d2_torch.float()\n",
    "# s2d1_torch = s2d1_torch.float()\n",
    "# s2d4_torch = s2d4_torch.float()\n",
    "# s3d6_torch = s3d6_torch.float()"
   ]
  },
  {
   "cell_type": "code",
   "execution_count": null,
   "id": "2b557727-af4b-49dd-b1bd-f54298b74d53",
   "metadata": {},
   "outputs": [],
   "source": [
    "# s1d1_gpu = s1d1_torch.to(device)\n",
    "# s1d2_gpu = s1d2_torch.to(device)\n",
    "# s2d1_gpu = s2d1_torch.to(device)\n",
    "# s2d4_gpu = s2d4_torch.to(device)\n",
    "# s3d6_gpu = s3d6_torch.to(device)"
   ]
  },
  {
   "cell_type": "code",
   "execution_count": null,
   "id": "df64891c-7c82-4cda-b57f-f6db548229dd",
   "metadata": {},
   "outputs": [],
   "source": [
    "input_feature = inputs.shape[1]\n",
    "output_feature = outputs.shape[1]"
   ]
  },
  {
   "cell_type": "code",
   "execution_count": null,
   "id": "45af8b5d-0cc2-4487-8b30-fb3ae3b24aba",
   "metadata": {},
   "outputs": [],
   "source": [
    "num_epochs = 500\n",
    "learning_rate = 0.01\n",
    "latent_dim = 50\n",
    "loss_fn = F.mse_loss\n",
    "batch_size = 8"
   ]
  },
  {
   "cell_type": "code",
   "execution_count": null,
   "id": "d9c27fa9-40e8-4425-b6a6-bee834db38d5",
   "metadata": {},
   "outputs": [],
   "source": [
    "train_ds = TensorDataset(inputs_torch, outputs_torch)\n",
    "train_dl = DataLoader(train_ds, batch_size= 10, shuffle=True)"
   ]
  },
  {
   "cell_type": "code",
   "execution_count": null,
   "id": "ab7262b5-2b85-4ad4-aaec-327cf0d26008",
   "metadata": {},
   "outputs": [],
   "source": [
    "# for batch_idx, samples in enumerate(train_dl):\n",
    "#       print(batch_idx, len(samples))"
   ]
  },
  {
   "cell_type": "code",
   "execution_count": null,
   "id": "6c989192-c20c-4e0b-94dd-ad78397c2f9c",
   "metadata": {},
   "outputs": [],
   "source": [
    "class Autoencoder_model(nn.Module):\n",
    "    def __init__(self):\n",
    "        super(Autoencoder_model, self).__init__()\n",
    "        # encoding\n",
    "        self.encoder = nn.Sequential(\n",
    "            nn.Linear(input_feature, input_feature//16),\n",
    "            nn.Dropout(0.25),\n",
    "            nn.ReLU(),\n",
    "\n",
    "            nn.Linear(input_feature//16, input_feature//16),\n",
    "            nn.ReLU(),\n",
    "        \n",
    "            nn.Linear(input_feature//16, latent_dim),\n",
    "            nn.ReLU(),\n",
    "        )\n",
    "        # decoding\n",
    "        self.decoder = nn.Sequential(\n",
    "            nn.Linear(latent_dim+10, input_feature//16),\n",
    "            nn.Dropout(0.25),\n",
    "            nn.ReLU(),\n",
    "\n",
    "            nn.Linear(input_feature//16, input_feature//16),\n",
    "            nn.ReLU(),\n",
    "\n",
    "            nn.Linear(input_feature//16, output_feature),\n",
    "            # nn.ReLU()\n",
    "        )\n",
    "\n",
    "    def forward(self, x):\n",
    "        latent = self.encoder(x)\n",
    "        new_latent = np.concatenate(latent, x[:, -10:], axis=1)\n",
    "        output = self.decoder(latent)\n",
    "        # print('output type:', output.dtype)\n",
    "        return latent, output.float()"
   ]
  },
  {
   "cell_type": "code",
   "execution_count": null,
   "id": "366b83cf-ec2e-451d-bfd7-73c0deb9648f",
   "metadata": {},
   "outputs": [],
   "source": [
    "def fit(num_epochs, model, loss_fn):\n",
    "    val_min_loss = float('inf')\n",
    "    counter = 0\n",
    "    # print('Model training...')\n",
    "    for epoch in range(num_epochs):\n",
    "        for x,y in train_dl:\n",
    "            # Generate predictions\n",
    "            model = model.train()\n",
    "            latent, pred = model(x)\n",
    "\n",
    "            loss = loss_fn(pred, y)\n",
    "            loss = loss.float()\n",
    "            loss.backward()\n",
    "\n",
    "            opt.step()\n",
    "            opt.zero_grad()\n",
    "\n",
    "        if epoch % 100 == 0:\n",
    "            loss = loss.cpu().detach().numpy()\n",
    "            model = model.eval()\n",
    "            \n",
    "            val_pred = model(val_inputs)\n",
    "            val_loss = loss_fn(val_pred, val_targets)\n",
    "            val_loss = torch.sqrt(val_loss)\n",
    "            val_loss = val_loss.cpu().detach().numpy()\n",
    "            \n",
    "            train_pred = model(train_inputs)\n",
    "            train_loss = loss_fn(train_pred, train_targets)\n",
    "            train_loss = torch.sqrt(train_loss)\n",
    "            train_loss = train_loss.cpu().detach().numpy()\n",
    "            \n",
    "            test_pred = model(test_inputs)\n",
    "            test_loss = loss_fn(test_pred, test_targets)\n",
    "            test_loss = torch.sqrt(test_loss)\n",
    "            test_loss = test_loss.cpu().detach().numpy()\n",
    "\n",
    "            print('Epoch ', epoch, 'Train_loss: ', train_loss, ' Validation_loss: ', val_loss, ' Test_loss: ', test_loss)\n",
    "    # train_pred = train_pred.cpu().detach().numpy()\n",
    "    # val_pred = val_pred.cpu().detach().numpy()\n",
    "    # test_pred = test_pred.cpu().detach().numpy()\n",
    "    \n",
    "    return train_pred, val_pred, test_pred"
   ]
  },
  {
   "cell_type": "code",
   "execution_count": null,
   "id": "8b9ba026-d00c-43b7-93d9-628b40a212ef",
   "metadata": {},
   "outputs": [],
   "source": [
    "model = Autoencoder_modele()\n",
    "model = model.to(device)\n",
    "opt = torch.optim.SGD(model.parameters(), lr=learning_rate)"
   ]
  },
  {
   "cell_type": "code",
   "execution_count": null,
   "id": "06998951-6302-49c4-88ff-d28f28cbdcfc",
   "metadata": {},
   "outputs": [],
   "source": [
    "train_pred, val_pred, test_pred = fit(num_epochs, model, loss_fn)"
   ]
  }
 ],
 "metadata": {
  "kernelspec": {
   "display_name": "Single_cell_competition",
   "language": "python",
   "name": "single_cell_competition"
  },
  "language_info": {
   "codemirror_mode": {
    "name": "ipython",
    "version": 3
   },
   "file_extension": ".py",
   "mimetype": "text/x-python",
   "name": "python",
   "nbconvert_exporter": "python",
   "pygments_lexer": "ipython3",
   "version": "3.7.11"
  }
 },
 "nbformat": 4,
 "nbformat_minor": 5
}
